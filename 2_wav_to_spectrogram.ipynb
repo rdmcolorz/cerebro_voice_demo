{
 "cells": [
  {
   "cell_type": "code",
   "execution_count": 385,
   "metadata": {
    "collapsed": true
   },
   "outputs": [],
   "source": [
    "import os, shutil, re\n",
    "from helpers import *\n",
    "import numpy as np\n",
    "import matplotlib.pyplot as plt\n",
    "from scipy import signal\n",
    "from scipy.io import wavfile\n",
    "import librosa\n",
    "import librosa.display\n",
    "import datetime\n",
    "\n",
    "%matplotlib inline"
   ]
  },
  {
   "cell_type": "code",
   "execution_count": 386,
   "metadata": {},
   "outputs": [
    {
     "name": "stdout",
     "output_type": "stream",
     "text": [
      "------------------------------------------\n",
      "Current Directory:       /Users/kyy/cerebro_train\n",
      "Current AUDIO Directory: /Users/kyy/cerebro_train/audio/12_04\n",
      "CUrrent IMG Directory:   /Users/kyy/cerebro_train/images_scaled/12_04\n",
      "------------------------------------------\n"
     ]
    }
   ],
   "source": [
    "############\n",
    "# Input VARS\n",
    "\n",
    "VALID_LABELS = [\"lights-on\", \"turn-off\"]\n",
    "MOVE_WINDOW = True\n",
    "FNAME = \"12_04\"\n",
    "\n",
    "############\n",
    "# const VARS\n",
    "\n",
    "ROOT = os.getcwd()\n",
    "AUD_ROOT = os.path.join(*[ROOT, \"audio\", FNAME])\n",
    "IMG_ROOT = os.path.join(*[ROOT, \"images_scaled\", FNAME])\n",
    "pattern = \"[0-9]{2}_[0-9]{2}\"\n",
    "IMG_EXT = \".png\"\n",
    "VERBOSITY = 1000\n",
    "MOVE_WINDOW = True\n",
    "WINDOW_NB = 10\n",
    "WAV_DURATION = 2 # seconds\n",
    "SAMPLE_RATE = 8000\n",
    "WINDOW_OFFSET = 4000\n",
    "WINDOW_SIZE = SAMPLE_RATE * WAV_DURATION - WINDOW_OFFSET\n",
    "\n",
    "CHUNK = int(WINDOW_OFFSET / WINDOW_NB)\n",
    "WINDOW_START = 7\n",
    "WINDOW_END = 8\n",
    "\n",
    "###########\n",
    "# check dirs\n",
    "\n",
    "print('-' * 42)\n",
    "print(\"Current Directory:       {}\".format(ROOT))\n",
    "print(\"Current AUDIO Directory: {}\".format(AUD_ROOT))\n",
    "print(\"CUrrent IMG Directory:   {}\".format(IMG_ROOT))\n",
    "print('-' * 42)\n",
    "\n",
    "# \"\"\"\n",
    "# Expected directory structure:\n",
    "# [INSIDE ROOT DIRECTORY]\n",
    "# ---- [category] voice, no_voice\n",
    "# -------- [date] 07_02, 07_09, ...\n",
    "# ------------ [label] down, go, ...\n",
    "# ---------------- [channel] ch1, ch2, ...\n",
    "# -------------------- [wave files] *.wav\n",
    "# \"\"\""
   ]
  },
  {
   "cell_type": "code",
   "execution_count": 387,
   "metadata": {
    "collapsed": true
   },
   "outputs": [],
   "source": [
    "def preprocess(samples, sample_rate, multiplier=1):\n",
    "    sr = sample_rate * multiplier\n",
    "    padded = np.zeros(sr)\n",
    "    samples = samples[:sr]\n",
    "    padded[:samples.shape[0]] = samples\n",
    "    return padded\n",
    "\n",
    "def make_dir(path):\n",
    "    if not os.path.isdir(path):\n",
    "        os.mkdir(path)"
   ]
  },
  {
   "cell_type": "code",
   "execution_count": 388,
   "metadata": {
    "collapsed": true
   },
   "outputs": [],
   "source": [
    "# read wavfiles and make spectrograms\n",
    "\n",
    "def make_spectrograms(samples, sample_rate, o_channel_path, items): \n",
    "    items += 1\n",
    "    imgpath = os.path.join(o_channel_path, str(items).rjust(6, '0'))\n",
    "    changed = preprocess(samples, sample_rate, 1)\n",
    "    S = librosa.feature.melspectrogram(changed, sr=sample_rate, n_mels=128, fmax=512)\n",
    "    log_S = librosa.power_to_db(S, ref=np.max)\n",
    "    fig = plt.figure(figsize=(1.28, 1.28), dpi=100, frameon=False)\n",
    "    ax = plt.Axes(fig, [0., 0., 1., 1.])\n",
    "    ax.set_axis_off()\n",
    "    fig.add_axes(ax)\n",
    "    plt.axis('off')\n",
    "    librosa.display.specshow(log_S)                          \n",
    "    plt.savefig(imgpath)\n",
    "    plt.close()\n",
    "    return items"
   ]
  },
  {
   "cell_type": "code",
   "execution_count": 389,
   "metadata": {
    "collapsed": true
   },
   "outputs": [],
   "source": [
    "# captures a section of the data and moves the window by \n",
    "# chunks to produce more data\n",
    "\n",
    "def make_windowed_spectrograms(samples, sample_rate, o_channel_path, items): \n",
    "    for i in range(WINDOW_START, WINDOW_END + 1):\n",
    "        items += 1\n",
    "        imgpath = os.path.join(o_channel_path, str(items).rjust(6, '0'))\n",
    "        x = i * CHUNK\n",
    "        window_size = WINDOW_SIZE\n",
    "        changed = samples[x:window_size+x]\n",
    "        changed = preprocess(changed, sample_rate, 1)\n",
    "        S = librosa.feature.melspectrogram(changed, sr=sample_rate, n_mels=128, fmax=512)\n",
    "        log_S = librosa.power_to_db(S, ref=np.max)\n",
    "        fig = plt.figure(figsize=(1.28, 1.28), dpi=100, frameon=False)\n",
    "        ax = plt.Axes(fig, [0., 0., 1., 1.])\n",
    "        ax.set_axis_off()\n",
    "        fig.add_axes(ax)\n",
    "        plt.axis('off')\n",
    "        librosa.display.specshow(log_S)                          \n",
    "        plt.savefig(imgpath)\n",
    "        plt.close()\n",
    "    return items"
   ]
  },
  {
   "cell_type": "code",
   "execution_count": 390,
   "metadata": {
    "collapsed": true
   },
   "outputs": [],
   "source": [
    "def process_files(channel_path, o_channel_path, items):\n",
    "    for file in [f for f in os.listdir(channel_path) if f.endswith(\".wav\")]:\n",
    "        wavpath = os.path.join(channel_path, file)\n",
    "        sample_rate, samples = wavfile.read(wavpath)\n",
    "        if MOVE_WINDOW == True:\n",
    "            items = make_windowed_spectrograms(samples, sample_rate, o_channel_path, items)\n",
    "        else:\n",
    "            items = make_spectrograms(samples, sample_rate, o_channel_path, items)"
   ]
  },
  {
   "cell_type": "code",
   "execution_count": 391,
   "metadata": {},
   "outputs": [],
   "source": [
    "def process_channels(label_path, o_label_path):\n",
    "    for channel in [d for d in os.listdir(label_path) if d.startswith(\"ch\")]:\n",
    "        print(\"    Channel Processing: {}\".format(channel))\n",
    "        items = 0\n",
    "        voice = False\n",
    "        ch = int(channel[2:])\n",
    "        channel_path = os.path.join(label_path, channel)\n",
    "        o_channel_path = os.path.join(o_label_path, channel)\n",
    "        make_dir(o_channel_path)\n",
    "        channel_num = channel[-1]\n",
    "        process_files(channel_path, o_channel_path, items)"
   ]
  },
  {
   "cell_type": "code",
   "execution_count": 392,
   "metadata": {},
   "outputs": [],
   "source": [
    "def process_labels(date_path, o_date_path):\n",
    "    for label in [d for d in os.listdir(date_path) if d in VALID_LABELS]:\n",
    "        print(\"  Label Processing: {}\".format(label))\n",
    "        label_path = os.path.join(date_path, label)\n",
    "        o_label_path = os.path.join(o_date_path, label)\n",
    "        make_dir(o_label_path)\n",
    "        process_channels(label_path, o_label_path)"
   ]
  },
  {
   "cell_type": "code",
   "execution_count": 393,
   "metadata": {
    "collapsed": true
   },
   "outputs": [],
   "source": [
    "def process_dates(input_dir, output_dir, overwrite=False):\n",
    "    for date in [x for x in os.listdir(input_dir) if re.match(pattern, x)]:\n",
    "        print(\"Date Processing: {}\".format(date))\n",
    "        date_path = os.path.join(input_dir, date)\n",
    "        o_date_path = os.path.join(output_dir, date)\n",
    "        make_dir(o_date_path)\n",
    "        process_labels(date_path, o_date_path)"
   ]
  },
  {
   "cell_type": "code",
   "execution_count": 394,
   "metadata": {
    "collapsed": true
   },
   "outputs": [],
   "source": [
    "def process(input_dir, output_dir, overwrite=False):\n",
    "    plt.ioff()\n",
    "    process_dates(input_dir, output_dir, overwrite=False)\n",
    "    plt.ion()"
   ]
  },
  {
   "cell_type": "code",
   "execution_count": 395,
   "metadata": {},
   "outputs": [],
   "source": [
    "##############################################\n",
    "# converts splitted wavfiles into spectrograms\n",
    "\n",
    "if not os.path.isdir(IMG_ROOT):\n",
    "    os.mkdir(IMG_ROOT)\n",
    "\n",
    "dir_pairs = {\n",
    "    os.path.join(AUD_ROOT, \"no_voice\") : os.path.join(IMG_ROOT, \"no_voice\")\n",
    "}"
   ]
  },
  {
   "cell_type": "code",
   "execution_count": null,
   "metadata": {},
   "outputs": [
    {
     "name": "stdout",
     "output_type": "stream",
     "text": [
      "Start: 2018-12-16 10:33:01.231093\n",
      "Date Processing: 12_04\n",
      "  Label Processing: lights-on\n",
      "    Channel Processing: ch7\n",
      "    Channel Processing: ch1\n",
      "    Channel Processing: ch6\n",
      "    Channel Processing: ch8\n",
      "    Channel Processing: ch3\n",
      "    Channel Processing: ch4\n",
      "    Channel Processing: ch5\n",
      "    Channel Processing: ch2\n",
      "  Label Processing: turn-off\n",
      "    Channel Processing: ch7\n",
      "    Channel Processing: ch1\n"
     ]
    }
   ],
   "source": [
    "for input_dir in dir_pairs:\n",
    "    output_dir = dir_pairs[input_dir]\n",
    "    if not os.path.isdir(output_dir):\n",
    "        os.mkdir(output_dir)\n",
    "    timer(process, input_dir, output_dir)"
   ]
  },
  {
   "cell_type": "code",
   "execution_count": null,
   "metadata": {
    "collapsed": true
   },
   "outputs": [],
   "source": []
  },
  {
   "cell_type": "code",
   "execution_count": null,
   "metadata": {
    "collapsed": true
   },
   "outputs": [],
   "source": []
  },
  {
   "cell_type": "code",
   "execution_count": null,
   "metadata": {
    "collapsed": true
   },
   "outputs": [],
   "source": []
  },
  {
   "cell_type": "code",
   "execution_count": null,
   "metadata": {
    "collapsed": true
   },
   "outputs": [],
   "source": []
  },
  {
   "cell_type": "code",
   "execution_count": null,
   "metadata": {
    "collapsed": true
   },
   "outputs": [],
   "source": []
  }
 ],
 "metadata": {
  "kernelspec": {
   "display_name": "Python 3",
   "language": "python",
   "name": "python3"
  },
  "language_info": {
   "codemirror_mode": {
    "name": "ipython",
    "version": 3
   },
   "file_extension": ".py",
   "mimetype": "text/x-python",
   "name": "python",
   "nbconvert_exporter": "python",
   "pygments_lexer": "ipython3",
   "version": "3.6.5"
  }
 },
 "nbformat": 4,
 "nbformat_minor": 2
}
