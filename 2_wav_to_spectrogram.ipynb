{
 "cells": [
  {
   "cell_type": "code",
   "execution_count": 117,
   "metadata": {
    "collapsed": true
   },
   "outputs": [],
   "source": [
    "import os, shutil, re\n",
    "from helpers import *\n",
    "import numpy as np\n",
    "import matplotlib.pyplot as plt\n",
    "from scipy import signal\n",
    "from scipy.io import wavfile\n",
    "import librosa\n",
    "import librosa.display\n",
    "import datetime\n",
    "\n",
    "%matplotlib inline"
   ]
  },
  {
   "cell_type": "code",
   "execution_count": 118,
   "metadata": {},
   "outputs": [
    {
     "name": "stdout",
     "output_type": "stream",
     "text": [
      "/Users/kyy/cerebro_train/audio/osc_test/\n"
     ]
    }
   ],
   "source": [
    "############\n",
    "# Input VARS\n",
    "TODAY = False\n",
    "VALID_LABELS = [\"lights-on\", \"turn-off\"]\n",
    "PERSON = \"taylor\"\n",
    "TRYS = 1\n",
    "\n",
    "############\n",
    "# const VARS\n",
    "\n",
    "DATE = datetime.datetime.today().strftime('%m_%d')\n",
    "if TODAY == True:\n",
    "    FNAME = \"{}_{}_0{}/\".format(PERSON,DATE,TRYS)\n",
    "else:\n",
    "    FNAME = \"osc_test/\"\n",
    "ROOT = os.getcwd() + \"/audio/\" + FNAME\n",
    "IMG_ROOT = os.getcwd() + \"/images_scaled/\" + FNAME + \"/\"\n",
    "pattern = \"[0-9]{2}_[0-9]{2}\"\n",
    "IMG_EXT = \".png\"\n",
    "VERBOSITY = 1000\n",
    "\n",
    "# \"\"\"\n",
    "# Expected directory structure:\n",
    "# [INSIDE ROOT DIRECTORY]\n",
    "# ---- [category] voice, no_voice\n",
    "# -------- [date] 07_02, 07_09, ...\n",
    "# ------------ [label] down, go, ...\n",
    "# ---------------- [channel] ch1, ch2, ...\n",
    "# -------------------- [wave files] *.wav\n",
    "# \"\"\"\n",
    "print(ROOT)"
   ]
  },
  {
   "cell_type": "code",
   "execution_count": 119,
   "metadata": {
    "collapsed": true
   },
   "outputs": [],
   "source": [
    "def preprocess(samples, sample_rate, multiplier=1):\n",
    "    sr = sample_rate * multiplier\n",
    "    padded = np.zeros(sr)\n",
    "    samples = samples[:sr]\n",
    "    padded[:samples.shape[0]] = samples\n",
    "    return padded\n",
    "\n",
    "def make_dir(path):\n",
    "    if not os.path.isdir(path):\n",
    "        os.mkdir(path)"
   ]
  },
  {
   "cell_type": "code",
   "execution_count": 120,
   "metadata": {
    "collapsed": true
   },
   "outputs": [],
   "source": [
    "def move_data_window(samples, sample_rate, imgpath):\n",
    "    dataPts = len(samples)\n",
    "    window = 12000 #round(dataPts * .8)\n",
    "    difference = 4000 #dataPts - window\n",
    "    chunk = int(difference / 5) \n",
    "\n",
    "    for i in range(5):\n",
    "        x = i * chunk\n",
    "        changed = samples[x:window+x]\n",
    "        changed = preprocess(changed, sample_rate, 1)\n",
    "        S = librosa.feature.melspectrogram(changed, sr=sample_rate, n_mels=128, fmax=512)\n",
    "        log_S = librosa.power_to_db(S, ref=np.max)\n",
    "        fig = plt.figure(figsize=(1.28, 1.28), dpi=100, frameon=False)\n",
    "        ax = plt.Axes(fig, [0., 0., 1., 1.])\n",
    "        ax.set_axis_off()\n",
    "        fig.add_axes(ax)\n",
    "        plt.axis('off')\n",
    "        librosa.display.specshow(log_S)                          \n",
    "        plt.savefig(imgpath + \"{}\".format(i) + IMG_EXT)\n",
    "        plt.close()"
   ]
  },
  {
   "cell_type": "code",
   "execution_count": null,
   "metadata": {},
   "outputs": [],
   "source": []
  },
  {
   "cell_type": "code",
   "execution_count": 121,
   "metadata": {
    "collapsed": true
   },
   "outputs": [],
   "source": [
    "# def process(input_dir, output_dir, overwrite=False):\n",
    "#     items = 0\n",
    "#     created = 0\n",
    "#     found = 0\n",
    "#     date_mult = {\"08_08\":2, \"08_11\":2, \"08_14\":2}\n",
    "#     plt.ioff()\n",
    "#     for date in [x for x in os.listdir(input_dir) if re.match(pattern, x)]:\n",
    "#         multiplier = 1\n",
    "#         if date in date_mult:\n",
    "#             multiplier = date_mult[date]\n",
    "#         date_path = os.path.join(input_dir, date)\n",
    "#         o_date_path = os.path.join(output_dir, date)\n",
    "#         make_dir(o_date_path)\n",
    "#         for label in [d for d in os.listdir(date_path) if d in VALID_LABELS]:\n",
    "#             label_path = os.path.join(date_path, label)\n",
    "#             o_label_path = os.path.join(o_date_path, label)\n",
    "#             make_dir(o_label_path)\n",
    "#             print(\"\\tProcessing: {}\".format(label_path))\n",
    "#             print(\"\\tTime: {}\".format(curr_time()))\n",
    "#             for channel in [d for d in os.listdir(label_path) if d.startswith(\"ch\")]:\n",
    "#                 voice = False\n",
    "#                 ch = int(channel[2:])\n",
    "#                 if ch == 4 or ch >= 9:\n",
    "#                     voice = True\n",
    "#                 channel_path = os.path.join(label_path, channel)\n",
    "#                 o_channel_path = os.path.join(o_label_path, channel)\n",
    "#                 make_dir(o_channel_path)\n",
    "#                 channel_num = channel[-1]\n",
    "#                 for file in [f for f in os.listdir(channel_path) if f.endswith(\".wav\")]:\n",
    "#                     items += 1\n",
    "#                     wavpath = os.path.join(channel_path, file)\n",
    "#                     imgpath = os.path.join(o_channel_path, file[:-4] + IMG_EXT)\n",
    "#                     if overwrite or not os.path.isfile(imgpath):\n",
    "#                         created += 1\n",
    "#                         if items % VERBOSITY == 0:\n",
    "#                             print(\"\\t\\tCreated {}th image\".format(items))\n",
    "#                         sample_rate, samples = wavfile.read(wavpath)\n",
    "#                         samples = preprocess(samples, sample_rate, multiplier)\n",
    "#                         # freqs, times, spectrogram = signal.spectrogram(samples, sample_rate)\n",
    "#                         if voice:\n",
    "#                             S = librosa.feature.melspectrogram(samples, sr=sample_rate, n_mels=128)\n",
    "#                         else:\n",
    "#                             S = librosa.feature.melspectrogram(samples, sr=sample_rate, n_mels=128, fmax=512)\n",
    "#                         log_S = librosa.power_to_db(S, ref=np.max)\n",
    "#                         fig = plt.figure(figsize=(1.28, 1.28), dpi=100, frameon=False)\n",
    "#                         ax = plt.Axes(fig, [0., 0., 1., 1.])\n",
    "#                         ax.set_axis_off()\n",
    "#                         fig.add_axes(ax)\n",
    "#                         plt.axis('off')\n",
    "#                         librosa.display.specshow(log_S)                          \n",
    "#                         plt.savefig(imgpath)\n",
    "#                         plt.close()\n",
    "#                     else:\n",
    "#                         found += 1\n",
    "#                         if items % VERBOSITY == 0:\n",
    "#                             print(\"\\t\\tFound {}th image\".format(items))\n",
    "#     print(\"\\tFound:\\t\\t{}\\n\\tCreated:\\t{}\".format(found, created))\n",
    "#     plt.ion()"
   ]
  },
  {
   "cell_type": "code",
   "execution_count": 122,
   "metadata": {
    "collapsed": true
   },
   "outputs": [],
   "source": [
    "def process(input_dir, output_dir, overwrite=False):\n",
    "    items = 0\n",
    "    created = 0\n",
    "    found = 0\n",
    "    date_mult = {\"08_08\":2, \"08_11\":2, \"08_14\":2}\n",
    "    plt.ioff()\n",
    "    for date in [x for x in os.listdir(input_dir) if re.match(pattern, x)]:\n",
    "        multiplier = 1\n",
    "        if date in date_mult:\n",
    "            multiplier = date_mult[date]\n",
    "        date_path = os.path.join(input_dir, date)\n",
    "        o_date_path = os.path.join(output_dir, date)\n",
    "        make_dir(o_date_path)\n",
    "        for label in [d for d in os.listdir(date_path) if d in VALID_LABELS]:\n",
    "            label_path = os.path.join(date_path, label)\n",
    "            o_label_path = os.path.join(o_date_path, label)\n",
    "            make_dir(o_label_path)\n",
    "            print(\"\\tProcessing: {}\".format(label_path))\n",
    "            print(\"\\tTime: {}\".format(curr_time()))\n",
    "            for channel in [d for d in os.listdir(label_path) if d.startswith(\"ch\")]:\n",
    "                voice = False\n",
    "                ch = int(channel[2:])\n",
    "                if ch == 4 or ch >= 9:\n",
    "                    voice = True\n",
    "                channel_path = os.path.join(label_path, channel)\n",
    "                o_channel_path = os.path.join(o_label_path, channel)\n",
    "                make_dir(o_channel_path)\n",
    "                channel_num = channel[-1]\n",
    "                for file in [f for f in os.listdir(channel_path) if f.endswith(\".wav\")]:\n",
    "                    items += 1\n",
    "                    wavpath = os.path.join(channel_path, file)\n",
    "                    imgpath = os.path.join(o_channel_path, file[:-4])\n",
    "                    if overwrite or not os.path.isfile(imgpath):\n",
    "                        created += 1\n",
    "                        if items % VERBOSITY == 0:\n",
    "                            print(\"\\t\\tCreated {}th image\".format(items))\n",
    "                        sample_rate, samples = wavfile.read(wavpath)\n",
    "                        move_data_window(samples, sample_rate, imgpath)\n",
    "                        # freqs, times, spectrogram = signal.spectrogram(samples, sample_rate)\n",
    "                    else:\n",
    "                        found += 1\n",
    "                        if items % VERBOSITY == 0:\n",
    "                            print(\"\\t\\tFound {}th image\".format(items))\n",
    "    print(\"\\tFound:\\t\\t{}\\n\\tCreated:\\t{}\".format(found, created))\n",
    "    plt.ion()"
   ]
  },
  {
   "cell_type": "code",
   "execution_count": 123,
   "metadata": {
    "collapsed": true
   },
   "outputs": [],
   "source": [
    "##############################################\n",
    "# converts splitted wavfiles into spectrograms\n",
    "\n",
    "if not os.path.isdir(IMG_ROOT):\n",
    "    os.mkdir(IMG_ROOT)\n",
    "\n",
    "dir_pairs = {\n",
    "    ROOT+\"voice\":IMG_ROOT+\"voice\",\n",
    "    ROOT+\"no_voice\":IMG_ROOT+\"no_voice\"\n",
    "}"
   ]
  },
  {
   "cell_type": "code",
   "execution_count": 124,
   "metadata": {},
   "outputs": [
    {
     "name": "stdout",
     "output_type": "stream",
     "text": [
      "Start: 2018-12-12 14:27:34.040182\n",
      "\tFound:\t\t0\n",
      "\tCreated:\t0\n",
      "End: 2018-12-12 14:27:34.041959\n",
      "Finished in 00:00:00:00.00164\n",
      "Start: 2018-12-12 14:27:34.042808\n",
      "\tProcessing: /Users/kyy/cerebro_train/audio/osc_test/no_voice/12_11/lights-on\n",
      "\tTime: 2018-12-12 14:27:34.045339\n",
      "\t\tCreated 1000th image\n",
      "\tProcessing: /Users/kyy/cerebro_train/audio/osc_test/no_voice/12_11/turn-off\n",
      "\tTime: 2018-12-12 14:30:55.780194\n",
      "\t\tCreated 2000th image\n",
      "\t\tCreated 3000th image\n",
      "\tProcessing: /Users/kyy/cerebro_train/audio/osc_test/no_voice/12_13/lights-on\n",
      "\tTime: 2018-12-12 14:34:12.344355\n",
      "\t\tCreated 4000th image\n",
      "\t\tCreated 5000th image\n",
      "\tProcessing: /Users/kyy/cerebro_train/audio/osc_test/no_voice/12_13/turn-off\n",
      "\tTime: 2018-12-12 14:37:30.261368\n",
      "\t\tCreated 6000th image\n",
      "\t\tCreated 7000th image\n",
      "\tProcessing: /Users/kyy/cerebro_train/audio/osc_test/no_voice/12_14/lights-on\n",
      "\tTime: 2018-12-12 14:40:53.247679\n",
      "\t\tCreated 8000th image\n",
      "\tProcessing: /Users/kyy/cerebro_train/audio/osc_test/no_voice/12_14/turn-off\n",
      "\tTime: 2018-12-12 14:44:10.465761\n",
      "\t\tCreated 9000th image\n",
      "\t\tCreated 10000th image\n",
      "\tProcessing: /Users/kyy/cerebro_train/audio/osc_test/no_voice/12_12/lights-on\n",
      "\tTime: 2018-12-12 14:47:30.132884\n",
      "\t\tCreated 11000th image\n",
      "\t\tCreated 12000th image\n",
      "\tProcessing: /Users/kyy/cerebro_train/audio/osc_test/no_voice/12_12/turn-off\n",
      "\tTime: 2018-12-12 14:50:46.838645\n",
      "\t\tCreated 13000th image\n",
      "\t\tCreated 14000th image\n",
      "\tFound:\t\t0\n",
      "\tCreated:\t14048\n",
      "End: 2018-12-12 14:54:13.425353\n",
      "Finished in 00:00:26:39.382\n"
     ]
    }
   ],
   "source": [
    "for input_dir in dir_pairs:\n",
    "    output_dir = dir_pairs[input_dir]\n",
    "    if not os.path.isdir(output_dir):\n",
    "        os.mkdir(output_dir)\n",
    "    timer(process, input_dir, output_dir)"
   ]
  },
  {
   "cell_type": "code",
   "execution_count": null,
   "metadata": {
    "collapsed": true
   },
   "outputs": [],
   "source": []
  },
  {
   "cell_type": "code",
   "execution_count": null,
   "metadata": {
    "collapsed": true
   },
   "outputs": [],
   "source": []
  },
  {
   "cell_type": "code",
   "execution_count": null,
   "metadata": {
    "collapsed": true
   },
   "outputs": [],
   "source": []
  },
  {
   "cell_type": "code",
   "execution_count": null,
   "metadata": {
    "collapsed": true
   },
   "outputs": [],
   "source": []
  }
 ],
 "metadata": {
  "kernelspec": {
   "display_name": "Python 3",
   "language": "python",
   "name": "python3"
  },
  "language_info": {
   "codemirror_mode": {
    "name": "ipython",
    "version": 3
   },
   "file_extension": ".py",
   "mimetype": "text/x-python",
   "name": "python",
   "nbconvert_exporter": "python",
   "pygments_lexer": "ipython3",
   "version": "3.6.5"
  }
 },
 "nbformat": 4,
 "nbformat_minor": 2
}
