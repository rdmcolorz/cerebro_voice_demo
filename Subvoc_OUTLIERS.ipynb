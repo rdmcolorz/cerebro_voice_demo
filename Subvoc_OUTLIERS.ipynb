{
 "cells": [
  {
   "cell_type": "code",
   "execution_count": 1,
   "metadata": {
    "collapsed": true
   },
   "outputs": [],
   "source": [
    "import os\n",
    "from pathlib import Path\n",
    "import IPython.display as ipd\n",
    "import random\n",
    "import numpy as np # linear algebra\n",
    "import pandas as pd # data processing, CSV file I/O (e.g. pd.read_csv)\n",
    "import matplotlib.pyplot as plt\n",
    "import plotly.graph_objs as go\n",
    "import plotly.offline as py\n",
    "from IPython import display\n",
    "import time\n",
    "from datetime import datetime, timedelta\n",
    "import tensorflow as tf\n",
    "import seaborn as sns\n",
    "import subprocess\n",
    "%matplotlib inline\n",
    "\n",
    "tf.logging.set_verbosity(tf.logging.ERROR)\n",
    "\n",
    "# NOTES\n",
    "NOTES = \"28x28\"\n",
    "\n",
    "# VARS\n",
    "target_label = \"Label\"\n",
    "id_label = \"fname\"\n",
    "OUTSTR = \"A{:.4f}_Type{}_UDR{}_THRESH{:5.3f}_DROP{}_LR{}_S{}_B{}{}.csv\"\n",
    "IMG_EXT = \".png\"\n",
    "VERBOSE = True\n",
    "DISPLAY = True\n",
    "TEST = False\n",
    "MFCC = False\n",
    "TPU = False\n",
    "RESIZE = True\n",
    "INPUT_WIDTH = 128\n",
    "INPUT_HEIGHT = 128\n",
    "TARGET_WIDTH = 28 if RESIZE else INPUT_WIDTH\n",
    "TARGET_HEIGHT = 28 if RESIZE else INPUT_HEIGHT\n",
    "DECAY_RATE = 0.9\n",
    "IMG_CHANNELS = 3\n",
    "DROPOUT = 0.4\n",
    "TYPE = \"CNN\"\n",
    "DEFAULT_BS = 128 # default batch size\n",
    "UNK_DROP_RATE = 1.0 # drop 100% of unknown categories\n",
    "\n",
    "CATEGORY = [\"no_voice\"]\n",
    "CHANNELS = [1, 2, 3, 5, 6, 7, 8]\n",
    "NUMS = ''.join([str(x) for x in CHANNELS])\n",
    "MONTHS = [8]\n",
    "DAYS = [11]\n",
    "\n",
    "if TEST:\n",
    "    LEARNING_STEPS = 100\n",
    "    SPP = 4\n",
    "    LEARNING_RATE = .05\n",
    "    BATCH_SIZE = 32\n",
    "    VERBOSITY = 1000\n",
    "    TEST_SIZE = 1000\n",
    "    SHUFFLE_SIZE = 64\n",
    "else:\n",
    "    LEARNING_STEPS = 5000\n",
    "    SPP = 200\n",
    "    LEARNING_RATE = .025\n",
    "    BATCH_SIZE = 64\n",
    "    VERBOSITY = 1000\n",
    "    SHUFFLE_SIZE = 256\n",
    "\n",
    "def curr_time():\n",
    "    return datetime.now() - timedelta(hours=7) # offset from UTC to PST\n",
    "\n",
    "ROOT = os.getcwd() + \"/\"\n",
    "if CATEGORY[0] == \"no_voice\":\n",
    "    RUN_ROOT = ROOT+\"NONVOCAL_RUNS_YN_{:02}_{:02}/\".format(MONTHS[0], DAYS[0])\n",
    "else:\n",
    "    RUN_ROOT = ROOT+\"VOCAL_RUNS_YN_{:02}_{:02}/\".format(MONTHS[0], DAYS[0])\n",
    "RUN_ROOT_LOG = RUN_ROOT+\"logs/\"\n",
    "\n",
    "# PATHS\n",
    "paths = {\n",
    "    \"Training\":RUN_ROOT+\"keepers_{:02}_{:02}_{}.csv\".format(MONTHS[0], DAYS[0], NUMS),\n",
    "    \"Model\":RUN_ROOT+\"model_dir_{}_OUTLIERS/\".format(NUMS),\n",
    "    \"Logs\":RUN_ROOT_LOG+\"{}_{}/\".format(NUMS, datetime.strftime(curr_time(), \"%b%d%Y_%H%M%S\"))\n",
    "}\n",
    "paths[\"Log\"] = paths[\"Logs\"] + \"log.txt\"\n",
    "if not os.path.isdir(RUN_ROOT):\n",
    "    os.mkdir(RUN_ROOT)\n",
    "if not os.path.isdir(RUN_ROOT_LOG):\n",
    "    os.mkdir(RUN_ROOT_LOG)\n",
    "if not os.path.isdir(paths[\"Logs\"]):\n",
    "    os.mkdir(paths[\"Logs\"])"
   ]
  },
  {
   "cell_type": "code",
   "execution_count": 2,
   "metadata": {
    "collapsed": true
   },
   "outputs": [],
   "source": [
    "def make_header(s):\n",
    "    return (\"#\" * 42) + (\"\\n{:^42}\\n\".format(s)) + (\"#\" * 42)\n",
    "    \n",
    "def print_and_log(s):\n",
    "    with open(paths[\"Log\"], 'a') as log:\n",
    "        log.write(str(s))\n",
    "        log.write(\"\\n\")\n",
    "    print(s)\n",
    "        \n",
    "def print_and_log_header(s):\n",
    "    h = make_header(str(s))\n",
    "    with open(paths[\"Log\"], 'a') as log:\n",
    "        log.write(h)\n",
    "        log.write(\"\\n\")\n",
    "    print(h)"
   ]
  },
  {
   "cell_type": "code",
   "execution_count": 3,
   "metadata": {
    "collapsed": true
   },
   "outputs": [],
   "source": [
    "def sec_to_str(secs):\n",
    "    ms = secs - int(secs)\n",
    "    days = int(secs // (24 * 3600))\n",
    "    hours = int((secs % ((24 * 3600))) // 3600)\n",
    "    minutes = int((secs % 3600) // 60)\n",
    "    seconds = int(secs % 60)\n",
    "    return \"{:02}:{:02}:{:02}:{:02}.{}\".format(days, hours, minutes, seconds, \"{:.3}\".format(ms)[2:])\n",
    "\n",
    "def timer(f, *args):\n",
    "    print_and_log(\"Start: {}\".format(curr_time()))\n",
    "    start = time.time()\n",
    "    result = f(*args)\n",
    "    end = time.time()\n",
    "    print_and_log(\"End: {}\".format(curr_time()))\n",
    "    print_and_log(\"Finished in {}\".format(sec_to_str(end - start)))\n",
    "    return result\n",
    "\n",
    "def preprocess(samples, sample_rate):\n",
    "    padded = np.zeros(sample_rate)\n",
    "    samples = samples[:sample_rate]\n",
    "    padded[:samples.shape[0]] = samples\n",
    "    return padded\n",
    "\n",
    "def select_labels(df, allowed):\n",
    "    return df[df['Label'].isin(allowed)]\n",
    "    \n",
    "def select_categories(df, allowed):\n",
    "    return df[df['Category'].isin(allowed)]\n",
    "\n",
    "def select_channels(df, allowed):\n",
    "    labels = []\n",
    "    for i in range(1, 9):\n",
    "        p = \"Path{}\".format(i)\n",
    "        if i not in allowed and p in df.columns:\n",
    "            labels.append()\n",
    "    return df.drop(labels, axis=1)\n",
    "\n",
    "def select_days(df, allowed):\n",
    "    return df[df['Day'].isin(allowed)]\n",
    "\n",
    "def select_months(df, allowed):\n",
    "    return df[df['Month'].isin(allowed)]\n",
    "\n",
    "def select_sets(df, allowed):\n",
    "    return df[df['Set'].isin(allowed)]\n",
    "\n",
    "def remove_voice(df):\n",
    "    return df.drop([\"Path4\"], axis=1)\n",
    "\n",
    "def str_to_l(x):\n",
    "    return [int(n) for n in x if n <= '9' and n >= '0']"
   ]
  },
  {
   "cell_type": "code",
   "execution_count": 4,
   "metadata": {
    "collapsed": true
   },
   "outputs": [],
   "source": [
    "count = 0\n",
    "def _parse_function(label, *filenames):\n",
    "    global count\n",
    "    count += 1\n",
    "    if count % VERBOSITY == 0:\n",
    "        print_and_log(\"\\tProcessed {}th image\".format(count))\n",
    "    expected_shape = tf.constant([1, INPUT_HEIGHT, INPUT_WIDTH, IMG_CHANNELS])\n",
    "    image = None\n",
    "    for filename in filenames:\n",
    "        image_string = tf.read_file(filename)\n",
    "        image_decoded = tf.image.decode_image(image_string, channels=IMG_CHANNELS)\n",
    "        image_decoded = tf.image.convert_image_dtype(image_decoded, tf.float32)\n",
    "        image_decoded = tf.reshape(image_decoded, expected_shape)\n",
    "        image_decoded = tf.image.rgb_to_grayscale(image_decoded)\n",
    "        if RESIZE:\n",
    "            image_decoded = tf.image.resize_bicubic(image_decoded, [TARGET_HEIGHT, TARGET_WIDTH])\n",
    "        if image is not None:\n",
    "            image = tf.concat([image, image_decoded], 3)\n",
    "        else:\n",
    "            image = image_decoded\n",
    "    return image, label"
   ]
  },
  {
   "cell_type": "code",
   "execution_count": 5,
   "metadata": {
    "collapsed": true
   },
   "outputs": [],
   "source": [
    "def model_fn(features, labels, mode):\n",
    "    input_layer = tf.reshape(features, [-1, TARGET_HEIGHT, TARGET_WIDTH, len(CHANNELS)])\n",
    "    pool = input_layer\n",
    "\n",
    "    for num_filters in [32, 64]:\n",
    "        conv = tf.layers.conv2d(\n",
    "            inputs=pool,\n",
    "            filters=num_filters,\n",
    "            kernel_size=[5, 5],\n",
    "            padding=\"same\",\n",
    "            activation=tf.nn.relu)\n",
    "        pool = tf.layers.max_pooling2d(inputs=conv, pool_size=[2, 2], strides=2)\n",
    "\n",
    "    # Dense Layer\n",
    "    pool = tf.layers.flatten(pool)\n",
    "    dense = tf.layers.dense(inputs=pool, units=1024, activation=tf.nn.relu)\n",
    "    dropout = tf.layers.dropout(inputs=dense, rate=DROPOUT, training=mode == tf.estimator.ModeKeys.TRAIN)\n",
    "\n",
    "    # Logits Layer\n",
    "    logits = tf.layers.dense(inputs=dropout, units=num_labels)\n",
    "    \n",
    "    predictions = {\n",
    "        \"classes\": tf.argmax(input=logits, axis=1),\n",
    "        \"probabilities\": tf.nn.softmax(logits, name=\"softmax_tensor\")\n",
    "    }\n",
    "    if not TPU:\n",
    "        tf.summary.histogram(\"predictions\", predictions[\"probabilities\"])\n",
    "        tf.summary.histogram(\"classes\", predictions[\"classes\"])\n",
    "\n",
    "    if mode == tf.estimator.ModeKeys.PREDICT:\n",
    "        return tf.estimator.EstimatorSpec(mode=mode, predictions=predictions)\n",
    "\n",
    "    learning_rate = tf.train.exponential_decay(LEARNING_RATE, tf.train.get_global_step(), SPP, DECAY_RATE, staircase=True)\n",
    "    \n",
    "    # Calculate Loss (for both TRAIN and EVAL modes)\n",
    "    loss = tf.losses.sparse_softmax_cross_entropy(labels=labels, logits=logits)\n",
    "    predictions[\"loss\"] = loss\n",
    "    \n",
    "    # Configure the Training Op (for TRAIN mode)\n",
    "    if mode == tf.estimator.ModeKeys.TRAIN:\n",
    "        optimizer = tf.train.GradientDescentOptimizer(learning_rate=learning_rate)\n",
    "        if TPU:\n",
    "            optimizer = tf.contrib.tpu.CrossShardOptimizer(optimizer)\n",
    "        train_op = optimizer.minimize(\n",
    "            loss=loss,\n",
    "            global_step=tf.train.get_global_step())\n",
    "        return tf.estimator.EstimatorSpec(mode=mode, loss=loss, train_op=train_op)\n",
    "\n",
    "    # Add evaluation metrics (for EVAL mode)\n",
    "    eval_metric_ops = {\n",
    "        \"accuracy\": tf.metrics.accuracy(\n",
    "            labels=labels, predictions=predictions[\"classes\"])}\n",
    "    return tf.estimator.EstimatorSpec(\n",
    "        mode=mode, loss=loss, eval_metric_ops=eval_metric_ops)"
   ]
  },
  {
   "cell_type": "code",
   "execution_count": 6,
   "metadata": {
    "collapsed": true
   },
   "outputs": [],
   "source": [
    "def create_training_input_fn(dataset, batch_size, num_epochs=None):\n",
    "    def _input_fn(num_epochs=None, shuffle=True):\n",
    "        ds = dataset.batch(batch_size).repeat(num_epochs)\n",
    "        if shuffle:\n",
    "            ds = ds.shuffle(SHUFFLE_SIZE)\n",
    "        feature_batch, label_batch = ds.make_one_shot_iterator().get_next()\n",
    "        return feature_batch, label_batch\n",
    "    return _input_fn\n",
    "\n",
    "def create_predict_input_fn(dataset, batch_size):\n",
    "    def _input_fn():\n",
    "        ds = dataset.batch(batch_size)\n",
    "        feature_batch, label_batch = ds.make_one_shot_iterator().get_next()\n",
    "        return feature_batch, label_batch\n",
    "    return _input_fn\n",
    "\n",
    "def train_helper(steps_per_period):\n",
    "    classifier.train(\n",
    "        input_fn=train_input_fn,\n",
    "        steps=steps_per_period)\n",
    "    training_stats = classifier.evaluate(input_fn=training_eval_input_fn)\n",
    "    validation_stats = classifier.evaluate(input_fn=validation_eval_input_fn)\n",
    "    t_ll = training_stats[\"loss\"]\n",
    "    t_acc = 100 * training_stats[\"accuracy\"]\n",
    "    v_ll = validation_stats[\"loss\"]\n",
    "    v_acc = 100 * validation_stats[\"accuracy\"]\n",
    "    return classifier, t_ll, v_ll, t_acc, v_acc\n",
    "\n",
    "def train():\n",
    "    periods = LEARNING_STEPS // SPP\n",
    "    steps_per_period = LEARNING_STEPS // periods\n",
    "    t_accs, v_accs = [], []\n",
    "    t_lls, v_lls = [], []\n",
    "    print_and_log(\"Training model...\\nMetrics:\")\n",
    "    print_and_log(\"\\tPERIOD\\tRATE\\tTYPE\\tTRAIN.\\tVALID.\\tTIME\")\n",
    "    for period in range(periods):\n",
    "        lr = LEARNING_RATE * (DECAY_RATE ** ((period * SPP) / SPP))\n",
    "        classifier, t_ll, v_ll, t_acc, v_acc = train_helper(steps_per_period)\n",
    "        print_and_log(\"\\t{}\\t{:.5f}\\tLgLs\\t{:.2f}\\t{:.2f}\\t{}\".format(period, lr, t_ll, v_ll, curr_time()))\n",
    "        print_and_log(\"\\t\\t\\tAcc.\\t{:.2f}%\\t{:.2f}%\\n\".format(t_acc, v_acc))\n",
    "        t_lls.append(t_ll)\n",
    "        v_lls.append(v_ll)\n",
    "        t_accs.append(t_acc)\n",
    "        v_accs.append(v_acc)\n",
    "    v_accuracy = v_accs[-1]\n",
    "    return classifier, v_accuracy, t_lls, v_lls, t_accs, v_accs"
   ]
  },
  {
   "cell_type": "code",
   "execution_count": 7,
   "metadata": {
    "collapsed": true
   },
   "outputs": [],
   "source": [
    "with open(paths[\"Log\"], 'w') as log:\n",
    "    log.write(make_header(\"Starting Script\\n\"))"
   ]
  },
  {
   "cell_type": "code",
   "execution_count": 8,
   "metadata": {
    "collapsed": true
   },
   "outputs": [],
   "source": [
    "# Create variables for the paths\n",
    "train_csv = paths[\"Training\"]\n",
    "\n",
    "# Store the labels to train\n",
    "all_labels = [\"yes\", \"no\"]\n",
    "labels = [\"yes\", \"no\", \"stop\", \"unknown\"]\n",
    "num_labels = len(labels) - 1\n",
    "labels = {x[1]:x[0] for x in enumerate(labels)}\n",
    "reverse_lookup = {labels[k]:k for k in labels}"
   ]
  },
  {
   "cell_type": "code",
   "execution_count": 9,
   "metadata": {},
   "outputs": [
    {
     "name": "stdout",
     "output_type": "stream",
     "text": [
      "##########################################\n",
      "           MAKING TRAINING DATA           \n",
      "##########################################\n",
      "##########################################\n",
      "                TRAIN DATA                \n",
      "##########################################\n",
      "       Unnamed: 0    Day       Label  Month  SequenceNumber\n",
      "count  776.000000  776.0  776.000000  776.0      776.000000\n",
      "mean   387.500000   11.0    0.511598    8.0      216.029639\n",
      "std    224.156196    0.0    0.500188    0.0      124.874845\n",
      "min      0.000000   11.0    0.000000    8.0        0.000000\n",
      "25%    193.750000   11.0    0.000000    8.0      107.750000\n",
      "50%    387.500000   11.0    1.000000    8.0      218.000000\n",
      "75%    581.250000   11.0    1.000000    8.0      323.250000\n",
      "max    775.000000   11.0    1.000000    8.0      430.000000\n",
      "   Unnamed: 0  Category  Day  Label  Month  \\\n",
      "0         289  no_voice   11      1      8   \n",
      "1         453  no_voice   11      0      8   \n",
      "2         268  no_voice   11      1      8   \n",
      "3         295  no_voice   11      1      8   \n",
      "4         371  no_voice   11      0      8   \n",
      "5         565  no_voice   11      1      8   \n",
      "6         735  no_voice   11      0      8   \n",
      "7         252  no_voice   11      1      8   \n",
      "8         768  no_voice   11      0      8   \n",
      "9         656  no_voice   11      1      8   \n",
      "\n",
      "                                               Path1  \\\n",
      "0  /home/wesleytocs/DanSubvoc/images_scaled/no_vo...   \n",
      "1  /home/wesleytocs/DanSubvoc/images_scaled/no_vo...   \n",
      "2  /home/wesleytocs/DanSubvoc/images_scaled/no_vo...   \n",
      "3  /home/wesleytocs/DanSubvoc/images_scaled/no_vo...   \n",
      "4  /home/wesleytocs/DanSubvoc/images_scaled/no_vo...   \n",
      "5  /home/wesleytocs/DanSubvoc/images_scaled/no_vo...   \n",
      "6  /home/wesleytocs/DanSubvoc/images_scaled/no_vo...   \n",
      "7  /home/wesleytocs/DanSubvoc/images_scaled/no_vo...   \n",
      "8  /home/wesleytocs/DanSubvoc/images_scaled/no_vo...   \n",
      "9  /home/wesleytocs/DanSubvoc/images_scaled/no_vo...   \n",
      "\n",
      "                                               Path2  \\\n",
      "0  /home/wesleytocs/DanSubvoc/images_scaled/no_vo...   \n",
      "1  /home/wesleytocs/DanSubvoc/images_scaled/no_vo...   \n",
      "2  /home/wesleytocs/DanSubvoc/images_scaled/no_vo...   \n",
      "3  /home/wesleytocs/DanSubvoc/images_scaled/no_vo...   \n",
      "4  /home/wesleytocs/DanSubvoc/images_scaled/no_vo...   \n",
      "5  /home/wesleytocs/DanSubvoc/images_scaled/no_vo...   \n",
      "6  /home/wesleytocs/DanSubvoc/images_scaled/no_vo...   \n",
      "7  /home/wesleytocs/DanSubvoc/images_scaled/no_vo...   \n",
      "8  /home/wesleytocs/DanSubvoc/images_scaled/no_vo...   \n",
      "9  /home/wesleytocs/DanSubvoc/images_scaled/no_vo...   \n",
      "\n",
      "                                               Path3  \\\n",
      "0  /home/wesleytocs/DanSubvoc/images_scaled/no_vo...   \n",
      "1  /home/wesleytocs/DanSubvoc/images_scaled/no_vo...   \n",
      "2  /home/wesleytocs/DanSubvoc/images_scaled/no_vo...   \n",
      "3  /home/wesleytocs/DanSubvoc/images_scaled/no_vo...   \n",
      "4  /home/wesleytocs/DanSubvoc/images_scaled/no_vo...   \n",
      "5  /home/wesleytocs/DanSubvoc/images_scaled/no_vo...   \n",
      "6  /home/wesleytocs/DanSubvoc/images_scaled/no_vo...   \n",
      "7  /home/wesleytocs/DanSubvoc/images_scaled/no_vo...   \n",
      "8  /home/wesleytocs/DanSubvoc/images_scaled/no_vo...   \n",
      "9  /home/wesleytocs/DanSubvoc/images_scaled/no_vo...   \n",
      "\n",
      "                                               Path5  \\\n",
      "0  /home/wesleytocs/DanSubvoc/images_scaled/no_vo...   \n",
      "1  /home/wesleytocs/DanSubvoc/images_scaled/no_vo...   \n",
      "2  /home/wesleytocs/DanSubvoc/images_scaled/no_vo...   \n",
      "3  /home/wesleytocs/DanSubvoc/images_scaled/no_vo...   \n",
      "4  /home/wesleytocs/DanSubvoc/images_scaled/no_vo...   \n",
      "5  /home/wesleytocs/DanSubvoc/images_scaled/no_vo...   \n",
      "6  /home/wesleytocs/DanSubvoc/images_scaled/no_vo...   \n",
      "7  /home/wesleytocs/DanSubvoc/images_scaled/no_vo...   \n",
      "8  /home/wesleytocs/DanSubvoc/images_scaled/no_vo...   \n",
      "9  /home/wesleytocs/DanSubvoc/images_scaled/no_vo...   \n",
      "\n",
      "                                               Path6  \\\n",
      "0  /home/wesleytocs/DanSubvoc/images_scaled/no_vo...   \n",
      "1  /home/wesleytocs/DanSubvoc/images_scaled/no_vo...   \n",
      "2  /home/wesleytocs/DanSubvoc/images_scaled/no_vo...   \n",
      "3  /home/wesleytocs/DanSubvoc/images_scaled/no_vo...   \n",
      "4  /home/wesleytocs/DanSubvoc/images_scaled/no_vo...   \n",
      "5  /home/wesleytocs/DanSubvoc/images_scaled/no_vo...   \n",
      "6  /home/wesleytocs/DanSubvoc/images_scaled/no_vo...   \n",
      "7  /home/wesleytocs/DanSubvoc/images_scaled/no_vo...   \n",
      "8  /home/wesleytocs/DanSubvoc/images_scaled/no_vo...   \n",
      "9  /home/wesleytocs/DanSubvoc/images_scaled/no_vo...   \n",
      "\n",
      "                                               Path7  \\\n",
      "0  /home/wesleytocs/DanSubvoc/images_scaled/no_vo...   \n",
      "1  /home/wesleytocs/DanSubvoc/images_scaled/no_vo...   \n",
      "2  /home/wesleytocs/DanSubvoc/images_scaled/no_vo...   \n",
      "3  /home/wesleytocs/DanSubvoc/images_scaled/no_vo...   \n",
      "4  /home/wesleytocs/DanSubvoc/images_scaled/no_vo...   \n",
      "5  /home/wesleytocs/DanSubvoc/images_scaled/no_vo...   \n",
      "6  /home/wesleytocs/DanSubvoc/images_scaled/no_vo...   \n",
      "7  /home/wesleytocs/DanSubvoc/images_scaled/no_vo...   \n",
      "8  /home/wesleytocs/DanSubvoc/images_scaled/no_vo...   \n",
      "9  /home/wesleytocs/DanSubvoc/images_scaled/no_vo...   \n",
      "\n",
      "                                               Path8  SequenceNumber  \\\n",
      "0  /home/wesleytocs/DanSubvoc/images_scaled/no_vo...             399   \n",
      "1  /home/wesleytocs/DanSubvoc/images_scaled/no_vo...              78   \n",
      "2  /home/wesleytocs/DanSubvoc/images_scaled/no_vo...              82   \n",
      "3  /home/wesleytocs/DanSubvoc/images_scaled/no_vo...             247   \n",
      "4  /home/wesleytocs/DanSubvoc/images_scaled/no_vo...              76   \n",
      "5  /home/wesleytocs/DanSubvoc/images_scaled/no_vo...             289   \n",
      "6  /home/wesleytocs/DanSubvoc/images_scaled/no_vo...             169   \n",
      "7  /home/wesleytocs/DanSubvoc/images_scaled/no_vo...              72   \n",
      "8  /home/wesleytocs/DanSubvoc/images_scaled/no_vo...              75   \n",
      "9  /home/wesleytocs/DanSubvoc/images_scaled/no_vo...             240   \n",
      "\n",
      "          Set  \n",
      "0     Testing  \n",
      "1  Validation  \n",
      "2    Training  \n",
      "3    Training  \n",
      "4    Training  \n",
      "5     Testing  \n",
      "6     Testing  \n",
      "7    Training  \n",
      "8    Training  \n",
      "9    Training  \n"
     ]
    }
   ],
   "source": [
    "# Make the training data\n",
    "print_and_log_header(\"MAKING TRAINING DATA\")\n",
    "train_data = pd.read_csv(train_csv)\n",
    "\n",
    "# Filter the training data\n",
    "train_data = select_categories(train_data, CATEGORY)\n",
    "train_data = select_channels(train_data, CHANNELS)\n",
    "train_data = select_labels(train_data, all_labels)\n",
    "train_data = select_months(train_data, MONTHS)\n",
    "train_data = select_days(train_data, DAYS)\n",
    "# train_data = remove_voice(train_data)\n",
    "\n",
    "train_data = train_data.sample(frac=1).reset_index(drop=True)\n",
    "train_data[\"Label\"] = train_data[\"Label\"].map(labels)\n",
    "\n",
    "if VERBOSE:\n",
    "    print_and_log_header(\"TRAIN DATA\")\n",
    "    print_and_log(train_data.describe())\n",
    "    print_and_log(train_data.head(10))"
   ]
  },
  {
   "cell_type": "code",
   "execution_count": 10,
   "metadata": {
    "collapsed": true
   },
   "outputs": [],
   "source": [
    "# Grab subset of the data for testing purposes\n",
    "if TEST:\n",
    "    train_data = train_data[:TEST_SIZE]"
   ]
  },
  {
   "cell_type": "code",
   "execution_count": 11,
   "metadata": {
    "collapsed": true
   },
   "outputs": [],
   "source": [
    "# 80/10/10 training/validation/test split\n",
    "validation_data = select_sets(train_data, [\"Validation\"])\n",
    "test_data = select_sets(train_data, [\"Testing\"])\n",
    "train_data = select_sets(train_data, [\"Training\"])"
   ]
  },
  {
   "cell_type": "code",
   "execution_count": 12,
   "metadata": {},
   "outputs": [
    {
     "name": "stdout",
     "output_type": "stream",
     "text": [
      "##########################################\n",
      "                   IDS                    \n",
      "##########################################\n",
      "count                                                    77\n",
      "unique                                                   77\n",
      "top       /home/wesleytocs/DanSubvoc/images_scaled/no_vo...\n",
      "freq                                                      1\n",
      "Name: Path1, dtype: object\n",
      "0     /home/wesleytocs/DanSubvoc/images_scaled/no_vo...\n",
      "5     /home/wesleytocs/DanSubvoc/images_scaled/no_vo...\n",
      "6     /home/wesleytocs/DanSubvoc/images_scaled/no_vo...\n",
      "12    /home/wesleytocs/DanSubvoc/images_scaled/no_vo...\n",
      "23    /home/wesleytocs/DanSubvoc/images_scaled/no_vo...\n",
      "25    /home/wesleytocs/DanSubvoc/images_scaled/no_vo...\n",
      "32    /home/wesleytocs/DanSubvoc/images_scaled/no_vo...\n",
      "33    /home/wesleytocs/DanSubvoc/images_scaled/no_vo...\n",
      "34    /home/wesleytocs/DanSubvoc/images_scaled/no_vo...\n",
      "42    /home/wesleytocs/DanSubvoc/images_scaled/no_vo...\n",
      "Name: Path1, dtype: object\n"
     ]
    }
   ],
   "source": [
    "ids = test_data[\"Path{}\".format(CHANNELS[0])] # store the png filenames for output\n",
    "if VERBOSE:\n",
    "    print_and_log_header(\"IDS\")\n",
    "    print_and_log(ids.describe())\n",
    "    print_and_log(ids.head(10))"
   ]
  },
  {
   "cell_type": "code",
   "execution_count": 13,
   "metadata": {},
   "outputs": [
    {
     "data": {
      "image/png": "[encoded data removed]",
      "text/plain": [
       "<matplotlib.figure.Figure at 0x7fbe46c295c0>"
      ]
     },
     "metadata": {},
     "output_type": "display_data"
    },
    {
     "data": {
      "image/png": "[encoded data removed]",
      "text/plain": [
       "<matplotlib.figure.Figure at 0x7fbe46c7bf98>"
      ]
     },
     "metadata": {},
     "output_type": "display_data"
    },
    {
     "data": {
      "image/png": "[encoded data removed]",
      "text/plain": [
       "<matplotlib.figure.Figure at 0x7fbe437fdb38>"
      ]
     },
     "metadata": {},
     "output_type": "display_data"
    }
   ],
   "source": [
    "if DISPLAY:\n",
    "    ax = sns.countplot(x=target_label, data=train_data)\n",
    "    ax.set_title(\"Training Label Counts\")\n",
    "    ax.get_figure().savefig(paths[\"Logs\"] + \"training_target_counts.jpg\")\n",
    "    plt.show()\n",
    "\n",
    "    ax = sns.countplot(x=target_label, data=validation_data)\n",
    "    ax.set_title(\"Validation Label Counts\")\n",
    "    ax.get_figure().savefig(paths[\"Logs\"] + \"validation_target_counts.jpg\")\n",
    "    plt.show()\n",
    "\n",
    "    ax = sns.countplot(x=target_label, data=test_data)\n",
    "    ax.set_title(\"Testing Label Counts\")\n",
    "    ax.get_figure().savefig(paths[\"Logs\"] + \"test_target_counts.jpg\")\n",
    "    plt.show()"
   ]
  },
  {
   "cell_type": "code",
   "execution_count": 14,
   "metadata": {
    "collapsed": true
   },
   "outputs": [],
   "source": [
    "# Separate Labels\n",
    "train_labels = train_data.pop(target_label)\n",
    "validation_labels = validation_data.pop(target_label)\n",
    "test_labels = test_data.pop(target_label)\n",
    "img_paths = [\"Path{}\".format(channel) for channel in CHANNELS]\n",
    "train_data = train_data[img_paths]\n",
    "validation_data = validation_data[img_paths]\n",
    "test_data = test_data[img_paths]"
   ]
  },
  {
   "cell_type": "code",
   "execution_count": 15,
   "metadata": {},
   "outputs": [
    {
     "name": "stdout",
     "output_type": "stream",
     "text": [
      "##########################################\n",
      "                 TRAINING                 \n",
      "##########################################\n",
      "(628, 7)\n",
      "<class 'pandas.core.frame.DataFrame'>\n",
      "(628,)\n",
      "<class 'pandas.core.series.Series'>\n",
      "##########################################\n",
      "                VALIDATION                \n",
      "##########################################\n",
      "(71, 7)\n",
      "<class 'pandas.core.frame.DataFrame'>\n",
      "(71,)\n",
      "<class 'pandas.core.series.Series'>\n",
      "##########################################\n",
      "                 TESTING                  \n",
      "##########################################\n",
      "(77, 7)\n",
      "<class 'pandas.core.frame.DataFrame'>\n",
      "(77,)\n",
      "<class 'pandas.core.series.Series'>\n",
      "{0, 1}\n"
     ]
    }
   ],
   "source": [
    "# Sanity check on data\n",
    "print_and_log_header(\"TRAINING\")\n",
    "print_and_log(train_data.shape)\n",
    "print_and_log(type(train_data))\n",
    "print_and_log(train_labels.shape)\n",
    "print_and_log(type(train_labels))\n",
    "print_and_log_header(\"VALIDATION\")\n",
    "print_and_log(validation_data.shape)\n",
    "print_and_log(type(validation_data))\n",
    "print_and_log(validation_labels.shape)\n",
    "print_and_log(type(validation_labels))\n",
    "print_and_log_header(\"TESTING\")\n",
    "print_and_log(test_data.shape)\n",
    "print_and_log(type(test_data))\n",
    "print_and_log(test_labels.shape)\n",
    "print_and_log(type(test_labels))\n",
    "print_and_log(set(test_labels))"
   ]
  },
  {
   "cell_type": "code",
   "execution_count": 16,
   "metadata": {},
   "outputs": [
    {
     "name": "stdout",
     "output_type": "stream",
     "text": [
      "##########################################\n",
      "          Parsing Training Data           \n",
      "##########################################\n",
      "Start: 2018-08-13 15:24:42.889072\n",
      "End: 2018-08-13 15:24:43.695478\n",
      "Finished in 00:00:00:00.805\n",
      "##########################################\n",
      "         Parsing Validation Data          \n",
      "##########################################\n",
      "Start: 2018-08-13 15:24:43.697603\n",
      "End: 2018-08-13 15:24:44.637996\n",
      "Finished in 00:00:00:00.94\n",
      "##########################################\n",
      "           Parsing Testing Data           \n",
      "##########################################\n",
      "Start: 2018-08-13 15:24:44.640396\n",
      "End: 2018-08-13 15:24:45.477057\n",
      "Finished in 00:00:00:00.836\n",
      "\n",
      "Done!\n"
     ]
    }
   ],
   "source": [
    "# Vectors of filenames.\n",
    "t_f, v_f, s_f = [], [], []\n",
    "for i in range(1, 1 + len(CHANNELS)):\n",
    "    channel = CHANNELS[i-1]\n",
    "    l = \"Path{}\".format(channel)\n",
    "    t_f.append(tf.constant(train_data[l]))\n",
    "    v_f.append(tf.constant(validation_data[l]))\n",
    "    s_f.append(tf.constant(test_data[l]))\n",
    "\n",
    "# `labels[i]` is the label for the image in `filenames[i]\n",
    "# Vectors of labels\n",
    "train_labels = tf.constant(train_labels)\n",
    "validation_labels = tf.constant(validation_labels)\n",
    "test_labels = tf.constant(test_labels)\n",
    "\n",
    "# Make datasets from filenames and labels\n",
    "train_data = tf.data.Dataset.from_tensor_slices((train_labels, *t_f))\n",
    "validation_data = tf.data.Dataset.from_tensor_slices((validation_labels, *v_f))\n",
    "test_data = tf.data.Dataset.from_tensor_slices((test_labels, *s_f))\n",
    "print_and_log_header(\"Parsing Training Data\")\n",
    "train_data = timer(lambda: train_data.map(_parse_function))\n",
    "print_and_log_header(\"Parsing Validation Data\")\n",
    "validation_data = timer(lambda: validation_data.map(_parse_function))\n",
    "print_and_log_header(\"Parsing Testing Data\")\n",
    "test_data = timer(lambda: test_data.map(_parse_function))\n",
    "print_and_log(\"\\nDone!\")"
   ]
  },
  {
   "cell_type": "code",
   "execution_count": 17,
   "metadata": {},
   "outputs": [
    {
     "name": "stdout",
     "output_type": "stream",
     "text": [
      "##########################################\n",
      "                 TRAINING                 \n",
      "##########################################\n",
      "<MapDataset shapes: ((1, 28, 28, 7), ()), types: (tf.float32, tf.int64)>\n",
      "<class 'tensorflow.python.data.ops.dataset_ops.MapDataset'>\n",
      "##########################################\n",
      "                VALIDATION                \n",
      "##########################################\n",
      "<MapDataset shapes: ((1, 28, 28, 7), ()), types: (tf.float32, tf.int64)>\n",
      "<class 'tensorflow.python.data.ops.dataset_ops.MapDataset'>\n",
      "##########################################\n",
      "                 TESTING                  \n",
      "##########################################\n",
      "<MapDataset shapes: ((1, 28, 28, 7), ()), types: (tf.float32, tf.int64)>\n",
      "<class 'tensorflow.python.data.ops.dataset_ops.MapDataset'>\n"
     ]
    }
   ],
   "source": [
    "print_and_log_header(\"TRAINING\")\n",
    "print_and_log(train_data)\n",
    "print_and_log(type(train_data))\n",
    "print_and_log_header(\"VALIDATION\")\n",
    "print_and_log(validation_data)\n",
    "print_and_log(type(validation_data))\n",
    "print_and_log_header(\"TESTING\")\n",
    "print_and_log(test_data)\n",
    "print_and_log(type(test_data))"
   ]
  },
  {
   "cell_type": "code",
   "execution_count": 18,
   "metadata": {
    "collapsed": true
   },
   "outputs": [],
   "source": [
    "# Create the Estimator\n",
    "if TPU:\n",
    "    classifier = tf.contrib.tpu.TPUEstimator(\n",
    "        model_fn=model_fn,\n",
    "        model_dir=paths[\"Model\"],\n",
    "        config=tf.contrib.tpu.RunConfig(),\n",
    "        use_tpu=TPU)\n",
    "else:\n",
    "    classifier = tf.estimator.Estimator(model_fn=model_fn, model_dir=paths[\"Model\"])"
   ]
  },
  {
   "cell_type": "code",
   "execution_count": 19,
   "metadata": {
    "collapsed": true
   },
   "outputs": [],
   "source": [
    "# Create the input functions.\n",
    "training_eval_input_fn = create_predict_input_fn(train_data, DEFAULT_BS)\n",
    "validation_eval_input_fn = create_predict_input_fn(validation_data, DEFAULT_BS)\n",
    "test_eval_input_fn = create_predict_input_fn(test_data, DEFAULT_BS)\n",
    "train_input_fn = create_training_input_fn(train_data, BATCH_SIZE)"
   ]
  },
  {
   "cell_type": "code",
   "execution_count": 20,
   "metadata": {},
   "outputs": [
    {
     "name": "stdout",
     "output_type": "stream",
     "text": [
      "Start: 2018-08-13 15:24:45.622340\n",
      "Training model...\n",
      "Metrics:\n",
      "\tPERIOD\tRATE\tTYPE\tTRAIN.\tVALID.\tTIME\n",
      "\t0\t0.02500\tLgLs\t0.69\t0.70\t2018-08-13 15:28:00.193452\n",
      "\t\t\tAcc.\t51.75%\t46.48%\n",
      "\n",
      "\t1\t0.02250\tLgLs\t0.69\t0.69\t2018-08-13 15:32:00.103652\n",
      "\t\t\tAcc.\t49.20%\t53.52%\n",
      "\n",
      "\t2\t0.02025\tLgLs\t0.69\t0.69\t2018-08-13 15:36:00.917634\n",
      "\t\t\tAcc.\t51.43%\t56.34%\n",
      "\n",
      "\t3\t0.01823\tLgLs\t0.69\t0.69\t2018-08-13 15:40:02.352817\n",
      "\t\t\tAcc.\t63.22%\t59.15%\n",
      "\n",
      "\t4\t0.01640\tLgLs\t0.68\t0.70\t2018-08-13 15:43:52.882254\n",
      "\t\t\tAcc.\t51.91%\t46.48%\n",
      "\n",
      "\t5\t0.01476\tLgLs\t0.69\t0.71\t2018-08-13 15:47:02.166128\n",
      "\t\t\tAcc.\t51.91%\t46.48%\n",
      "\n",
      "\t6\t0.01329\tLgLs\t0.68\t0.70\t2018-08-13 15:50:11.820830\n",
      "\t\t\tAcc.\t51.75%\t46.48%\n",
      "\n",
      "\t7\t0.01196\tLgLs\t0.68\t0.68\t2018-08-13 15:53:23.625960\n",
      "\t\t\tAcc.\t51.27%\t56.34%\n",
      "\n",
      "\t8\t0.01076\tLgLs\t0.67\t0.69\t2018-08-13 15:56:32.962559\n",
      "\t\t\tAcc.\t61.78%\t50.70%\n",
      "\n",
      "\t9\t0.00969\tLgLs\t0.67\t0.70\t2018-08-13 15:59:43.227574\n",
      "\t\t\tAcc.\t52.71%\t46.48%\n",
      "\n",
      "\t10\t0.00872\tLgLs\t0.65\t0.67\t2018-08-13 16:02:53.476528\n",
      "\t\t\tAcc.\t70.22%\t67.61%\n",
      "\n",
      "\t11\t0.00785\tLgLs\t0.64\t0.67\t2018-08-13 16:06:04.829971\n",
      "\t\t\tAcc.\t68.15%\t63.38%\n",
      "\n",
      "\t12\t0.00706\tLgLs\t0.63\t0.65\t2018-08-13 16:09:12.942030\n",
      "\t\t\tAcc.\t74.68%\t67.61%\n",
      "\n",
      "\t13\t0.00635\tLgLs\t0.62\t0.65\t2018-08-13 16:13:00.657622\n",
      "\t\t\tAcc.\t75.64%\t73.24%\n",
      "\n",
      "\t14\t0.00572\tLgLs\t0.61\t0.64\t2018-08-13 16:17:02.636473\n",
      "\t\t\tAcc.\t74.36%\t69.01%\n",
      "\n",
      "\t15\t0.00515\tLgLs\t0.59\t0.62\t2018-08-13 16:21:00.654175\n",
      "\t\t\tAcc.\t78.03%\t76.06%\n",
      "\n",
      "\t16\t0.00463\tLgLs\t0.59\t0.63\t2018-08-13 16:25:05.026941\n",
      "\t\t\tAcc.\t69.75%\t63.38%\n",
      "\n",
      "\t17\t0.00417\tLgLs\t0.58\t0.62\t2018-08-13 16:29:09.220965\n",
      "\t\t\tAcc.\t72.13%\t67.61%\n",
      "\n",
      "\t18\t0.00375\tLgLs\t0.56\t0.60\t2018-08-13 16:33:09.722182\n",
      "\t\t\tAcc.\t75.64%\t70.42%\n",
      "\n",
      "\t19\t0.00338\tLgLs\t0.55\t0.58\t2018-08-13 16:37:09.402071\n",
      "\t\t\tAcc.\t79.46%\t78.87%\n",
      "\n",
      "\t20\t0.00304\tLgLs\t0.54\t0.57\t2018-08-13 16:41:13.330542\n",
      "\t\t\tAcc.\t80.10%\t78.87%\n",
      "\n",
      "\t21\t0.00274\tLgLs\t0.53\t0.56\t2018-08-13 16:45:16.867053\n",
      "\t\t\tAcc.\t80.57%\t74.65%\n",
      "\n",
      "\t22\t0.00246\tLgLs\t0.52\t0.56\t2018-08-13 16:48:30.610449\n",
      "\t\t\tAcc.\t80.25%\t74.65%\n",
      "\n",
      "\t23\t0.00222\tLgLs\t0.51\t0.55\t2018-08-13 16:51:24.236621\n",
      "\t\t\tAcc.\t79.94%\t74.65%\n",
      "\n",
      "\t24\t0.00199\tLgLs\t0.51\t0.55\t2018-08-13 16:53:53.441176\n",
      "\t\t\tAcc.\t79.62%\t73.24%\n",
      "\n",
      "End: 2018-08-13 16:53:53.441815\n",
      "Finished in 00:01:29:07.819\n"
     ]
    }
   ],
   "source": [
    "# Train\n",
    "classifier, accuracy, t_lls, v_lls, t_accs, v_accs = timer(train)"
   ]
  },
  {
   "cell_type": "code",
   "execution_count": 21,
   "metadata": {},
   "outputs": [
    {
     "name": "stdout",
     "output_type": "stream",
     "text": [
      "Final accuracy (on validation data): 73.2394%\n"
     ]
    },
    {
     "data": {
      "image/png": "[encoded data removed]",
      "text/plain": [
       "<matplotlib.figure.Figure at 0x7fbe436eaf60>"
      ]
     },
     "metadata": {},
     "output_type": "display_data"
    },
    {
     "data": {
      "image/png": "[encoded data removed]",
      "text/plain": [
       "<matplotlib.figure.Figure at 0x7fbe434f45c0>"
      ]
     },
     "metadata": {},
     "output_type": "display_data"
    },
    {
     "data": {
      "text/plain": [
       "<matplotlib.figure.Figure at 0x7fbe436b5a20>"
      ]
     },
     "metadata": {},
     "output_type": "display_data"
    }
   ],
   "source": [
    "print_and_log(\"Final accuracy (on validation data): {:.4f}%\".format(accuracy))\n",
    "\n",
    "if DISPLAY:\n",
    "    # Output a graph of loss metrics over periods.\n",
    "    plt.ylabel(\"LogLoss\")\n",
    "    plt.xlabel(\"Periods\")\n",
    "    plt.title(\"LogLoss vs. Periods\")\n",
    "    plt.plot(t_lls, label=\"training\")\n",
    "    plt.plot(v_lls, label=\"validation\")\n",
    "    plt.legend()\n",
    "    plt.show()\n",
    "    plt.savefig(paths[\"Logs\"] + \"loss.jpg\")\n",
    "\n",
    "    # Output a graph of accuracy over periods.\n",
    "    plt.ylabel(\"Accuracy\")\n",
    "    plt.xlabel(\"Periods\")\n",
    "    plt.title(\"Accuracy vs. Periods\")\n",
    "    plt.plot(t_accs, label=\"training\")\n",
    "    plt.plot(v_accs, label=\"validation\")\n",
    "    plt.legend()\n",
    "    plt.show()\n",
    "    plt.savefig(paths[\"Logs\"] + \"accuracy.jpg\")"
   ]
  },
  {
   "cell_type": "code",
   "execution_count": 22,
   "metadata": {},
   "outputs": [
    {
     "name": "stdout",
     "output_type": "stream",
     "text": [
      "##########################################\n",
      "                 TESTING                  \n",
      "##########################################\n",
      "\tLog Loss: 0.60\n",
      "\tAccuracy: 70.13%\n"
     ]
    }
   ],
   "source": [
    "test_stats = classifier.evaluate(input_fn=test_eval_input_fn)\n",
    "t_ll = test_stats[\"loss\"]\n",
    "t_acc = 100 * test_stats[\"accuracy\"]\n",
    "print_and_log_header(\"TESTING\")\n",
    "print_and_log(\"\\tLog Loss: {:.2f}\".format(t_ll))\n",
    "print_and_log(\"\\tAccuracy: {:.2f}%\".format(t_acc))"
   ]
  }
 ],
 "metadata": {
  "kernelspec": {
   "display_name": "Python 3",
   "language": "python",
   "name": "python3"
  },
  "language_info": {
   "codemirror_mode": {
    "name": "ipython",
    "version": 3
   },
   "file_extension": ".py",
   "mimetype": "text/x-python",
   "name": "python",
   "nbconvert_exporter": "python",
   "pygments_lexer": "ipython3",
   "version": "3.6.4"
  }
 },
 "nbformat": 4,
 "nbformat_minor": 2
}
