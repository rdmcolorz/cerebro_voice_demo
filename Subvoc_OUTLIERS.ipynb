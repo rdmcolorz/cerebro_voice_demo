{
 "cells": [
  {
   "cell_type": "code",
   "execution_count": 1,
   "metadata": {},
   "outputs": [
    {
     "name": "stderr",
     "output_type": "stream",
     "text": [
      "/usr/local/Cellar/python/3.6.5_1/Frameworks/Python.framework/Versions/3.6/lib/python3.6/importlib/_bootstrap.py:219: RuntimeWarning:\n",
      "\n",
      "compiletime version 3.5 of module 'tensorflow.python.framework.fast_tensor_util' does not match runtime version 3.6\n",
      "\n"
     ]
    }
   ],
   "source": [
    "import os\n",
    "from pathlib import Path\n",
    "import IPython.display as ipd\n",
    "import random\n",
    "import numpy as np # linear algebra\n",
    "import pandas as pd # data processing, CSV file I/O (e.g. pd.read_csv)\n",
    "import matplotlib.pyplot as plt\n",
    "import plotly.graph_objs as go\n",
    "import plotly.offline as py\n",
    "from IPython import display\n",
    "import time\n",
    "from datetime import datetime, timedelta\n",
    "import tensorflow as tf\n",
    "import seaborn as sns\n",
    "import subprocess\n",
    "%matplotlib inline\n",
    "\n",
    "tf.logging.set_verbosity(tf.logging.ERROR)\n",
    "\n",
    "# NOTES\n",
    "NOTES = \"28x28\"\n",
    "\n",
    "# VARS\n",
    "target_label = \"Label\"\n",
    "id_label = \"fname\"\n",
    "OUTSTR = \"A{:.4f}_Type{}_UDR{}_THRESH{:5.3f}_DROP{}_LR{}_S{}_B{}{}.csv\"\n",
    "IMG_EXT = \".png\"\n",
    "VERBOSE = True\n",
    "DISPLAY = True\n",
    "TEST = False\n",
    "MFCC = False\n",
    "TPU = False\n",
    "RESIZE = True\n",
    "INPUT_WIDTH = 128\n",
    "INPUT_HEIGHT = 128\n",
    "TARGET_WIDTH = 28 if RESIZE else INPUT_WIDTH\n",
    "TARGET_HEIGHT = 28 if RESIZE else INPUT_HEIGHT\n",
    "DECAY_RATE = 0.9\n",
    "IMG_CHANNELS = 3\n",
    "DROPOUT = 0.4\n",
    "TYPE = \"CNN\"\n",
    "DEFAULT_BS = 128 # default batch size\n",
    "UNK_DROP_RATE = 1.0 # drop 100% of unknown categories\n",
    "\n",
    "CATEGORY = [\"no_voice\"]\n",
    "CHANNELS = [1, 2, 3, 4]\n",
    "NUMS = ''.join([str(x) for x in CHANNELS])\n",
    "MONTHS = [10]\n",
    "DAYS = [6]\n",
    "\n",
    "if TEST:\n",
    "    LEARNING_STEPS = 100\n",
    "    SPP = 4\n",
    "    LEARNING_RATE = .05\n",
    "    BATCH_SIZE = 32\n",
    "    VERBOSITY = 1000\n",
    "    TEST_SIZE = 1000\n",
    "    SHUFFLE_SIZE = 64\n",
    "else:\n",
    "    LEARNING_STEPS = 5000\n",
    "    SPP = 200\n",
    "    LEARNING_RATE = .025\n",
    "    BATCH_SIZE = 64\n",
    "    VERBOSITY = 1000\n",
    "    SHUFFLE_SIZE = 256\n",
    "\n",
    "def curr_time():\n",
    "    return datetime.now() - timedelta(hours=7) # offset from UTC to PST\n",
    "\n",
    "ROOT = os.getcwd() + \"/\"\n",
    "if CATEGORY[0] == \"no_voice\":\n",
    "    RUN_ROOT = ROOT+\"NONVOCAL_RUNS_YN_{:02}_{:02}/\".format(MONTHS[0], DAYS[0])\n",
    "else:\n",
    "    RUN_ROOT = ROOT+\"VOCAL_RUNS_YN_{:02}_{:02}/\".format(MONTHS[0], DAYS[0])\n",
    "RUN_ROOT_LOG = RUN_ROOT+\"logs/\"\n",
    "\n",
    "# PATHS\n",
    "paths = {\n",
    "    \"Training\":RUN_ROOT+\"keepers_{:02}_{:02}_{}.csv\".format(MONTHS[0], DAYS[0], NUMS),\n",
    "    \"Model\":RUN_ROOT+\"model_dir_{}_OUTLIERS/\".format(NUMS),\n",
    "    \"Logs\":RUN_ROOT_LOG+\"{}_{}/\".format(NUMS, datetime.strftime(curr_time(), \"%b%d%Y_%H%M%S\"))\n",
    "}\n",
    "paths[\"Log\"] = paths[\"Logs\"] + \"log.txt\"\n",
    "if not os.path.isdir(RUN_ROOT):\n",
    "    os.mkdir(RUN_ROOT)\n",
    "if not os.path.isdir(RUN_ROOT_LOG):\n",
    "    os.mkdir(RUN_ROOT_LOG)\n",
    "if not os.path.isdir(paths[\"Logs\"]):\n",
    "    os.mkdir(paths[\"Logs\"])"
   ]
  },
  {
   "cell_type": "code",
   "execution_count": 2,
   "metadata": {
    "collapsed": true
   },
   "outputs": [],
   "source": [
    "def make_header(s):\n",
    "    return (\"#\" * 42) + (\"\\n{:^42}\\n\".format(s)) + (\"#\" * 42)\n",
    "    \n",
    "def print_and_log(s):\n",
    "    with open(paths[\"Log\"], 'a') as log:\n",
    "        log.write(str(s))\n",
    "        log.write(\"\\n\")\n",
    "    print(s)\n",
    "        \n",
    "def print_and_log_header(s):\n",
    "    h = make_header(str(s))\n",
    "    with open(paths[\"Log\"], 'a') as log:\n",
    "        log.write(h)\n",
    "        log.write(\"\\n\")\n",
    "    print(h)"
   ]
  },
  {
   "cell_type": "code",
   "execution_count": 3,
   "metadata": {
    "collapsed": true
   },
   "outputs": [],
   "source": [
    "def sec_to_str(secs):\n",
    "    ms = secs - int(secs)\n",
    "    days = int(secs // (24 * 3600))\n",
    "    hours = int((secs % ((24 * 3600))) // 3600)\n",
    "    minutes = int((secs % 3600) // 60)\n",
    "    seconds = int(secs % 60)\n",
    "    return \"{:02}:{:02}:{:02}:{:02}.{}\".format(days, hours, minutes, seconds, \"{:.3}\".format(ms)[2:])\n",
    "\n",
    "def timer(f, *args):\n",
    "    print_and_log(\"Start: {}\".format(curr_time()))\n",
    "    start = time.time()\n",
    "    result = f(*args)\n",
    "    end = time.time()\n",
    "    print_and_log(\"End: {}\".format(curr_time()))\n",
    "    print_and_log(\"Finished in {}\".format(sec_to_str(end - start)))\n",
    "    return result\n",
    "\n",
    "def preprocess(samples, sample_rate):\n",
    "    padded = np.zeros(sample_rate)\n",
    "    samples = samples[:sample_rate]\n",
    "    padded[:samples.shape[0]] = samples\n",
    "    return padded\n",
    "\n",
    "def select_labels(df, allowed):\n",
    "    return df[df['Label'].isin(allowed)]\n",
    "    \n",
    "def select_categories(df, allowed):\n",
    "    return df[df['Category'].isin(allowed)]\n",
    "\n",
    "def select_channels(df, allowed):\n",
    "    labels = []\n",
    "    for i in range(1, 9):\n",
    "        p = \"Path{}\".format(i)\n",
    "        if i not in allowed and p in df.columns:\n",
    "            labels.append()\n",
    "    return df.drop(labels, axis=1)\n",
    "\n",
    "def select_days(df, allowed):\n",
    "    return df[df['Day'].isin(allowed)]\n",
    "\n",
    "def select_months(df, allowed):\n",
    "    return df[df['Month'].isin(allowed)]\n",
    "\n",
    "def select_sets(df, allowed):\n",
    "    return df[df['Set'].isin(allowed)]\n",
    "\n",
    "def remove_voice(df):\n",
    "    return df.drop([\"Path4\"], axis=1)\n",
    "\n",
    "def str_to_l(x):\n",
    "    return [int(n) for n in x if n <= '9' and n >= '0']"
   ]
  },
  {
   "cell_type": "code",
   "execution_count": 4,
   "metadata": {
    "collapsed": true
   },
   "outputs": [],
   "source": [
    "count = 0\n",
    "def _parse_function(label, *filenames):\n",
    "    global count\n",
    "    count += 1\n",
    "    if count % VERBOSITY == 0:\n",
    "        print_and_log(\"\\tProcessed {}th image\".format(count))\n",
    "    expected_shape = tf.constant([1, INPUT_HEIGHT, INPUT_WIDTH, IMG_CHANNELS])\n",
    "    image = None\n",
    "    for filename in filenames:\n",
    "        image_string = tf.read_file(filename)\n",
    "        image_decoded = tf.image.decode_image(image_string, channels=IMG_CHANNELS)\n",
    "        image_decoded = tf.image.convert_image_dtype(image_decoded, tf.float32)\n",
    "        image_decoded = tf.reshape(image_decoded, expected_shape)\n",
    "        image_decoded = tf.image.rgb_to_grayscale(image_decoded)\n",
    "        if RESIZE:\n",
    "            image_decoded = tf.image.resize_bicubic(image_decoded, [TARGET_HEIGHT, TARGET_WIDTH])\n",
    "        if image is not None:\n",
    "            image = tf.concat([image, image_decoded], 3)\n",
    "        else:\n",
    "            image = image_decoded\n",
    "    return image, label"
   ]
  },
  {
   "cell_type": "code",
   "execution_count": 5,
   "metadata": {
    "collapsed": true
   },
   "outputs": [],
   "source": [
    "def model_fn(features, labels, mode):\n",
    "    input_layer = tf.reshape(features, [-1, TARGET_HEIGHT, TARGET_WIDTH, len(CHANNELS)])\n",
    "    pool = input_layer\n",
    "\n",
    "    for num_filters in [32, 64]:\n",
    "        conv = tf.layers.conv2d(\n",
    "            inputs=pool,\n",
    "            filters=num_filters,\n",
    "            kernel_size=[5, 5],\n",
    "            padding=\"same\",\n",
    "            activation=tf.nn.relu)\n",
    "        pool = tf.layers.max_pooling2d(inputs=conv, pool_size=[2, 2], strides=2)\n",
    "\n",
    "    # Dense Layer\n",
    "    pool = tf.layers.flatten(pool)\n",
    "    dense = tf.layers.dense(inputs=pool, units=1024, activation=tf.nn.relu)\n",
    "    dropout = tf.layers.dropout(inputs=dense, rate=DROPOUT, training=mode == tf.estimator.ModeKeys.TRAIN)\n",
    "\n",
    "    # Logits Layer\n",
    "    logits = tf.layers.dense(inputs=dropout, units=num_labels)\n",
    "    \n",
    "    predictions = {\n",
    "        \"classes\": tf.argmax(input=logits, axis=1),\n",
    "        \"probabilities\": tf.nn.softmax(logits, name=\"softmax_tensor\")\n",
    "    }\n",
    "    if not TPU:\n",
    "        tf.summary.histogram(\"predictions\", predictions[\"probabilities\"])\n",
    "        tf.summary.histogram(\"classes\", predictions[\"classes\"])\n",
    "\n",
    "    if mode == tf.estimator.ModeKeys.PREDICT:\n",
    "        return tf.estimator.EstimatorSpec(mode=mode, predictions=predictions)\n",
    "\n",
    "    learning_rate = tf.train.exponential_decay(LEARNING_RATE, tf.train.get_global_step(), SPP, DECAY_RATE, staircase=True)\n",
    "    \n",
    "    # Calculate Loss (for both TRAIN and EVAL modes)\n",
    "    loss = tf.losses.sparse_softmax_cross_entropy(labels=labels, logits=logits)\n",
    "    predictions[\"loss\"] = loss\n",
    "    \n",
    "    # Configure the Training Op (for TRAIN mode)\n",
    "    if mode == tf.estimator.ModeKeys.TRAIN:\n",
    "        optimizer = tf.train.GradientDescentOptimizer(learning_rate=learning_rate)\n",
    "        if TPU:\n",
    "            optimizer = tf.contrib.tpu.CrossShardOptimizer(optimizer)\n",
    "        train_op = optimizer.minimize(\n",
    "            loss=loss,\n",
    "            global_step=tf.train.get_global_step())\n",
    "        return tf.estimator.EstimatorSpec(mode=mode, loss=loss, train_op=train_op)\n",
    "\n",
    "    # Add evaluation metrics (for EVAL mode)\n",
    "    eval_metric_ops = {\n",
    "        \"accuracy\": tf.metrics.accuracy(\n",
    "            labels=labels, predictions=predictions[\"classes\"])}\n",
    "    return tf.estimator.EstimatorSpec(\n",
    "        mode=mode, loss=loss, eval_metric_ops=eval_metric_ops)"
   ]
  },
  {
   "cell_type": "code",
   "execution_count": 12,
   "metadata": {
    "collapsed": true
   },
   "outputs": [],
   "source": [
    "def create_training_input_fn(dataset, batch_size, num_epochs=None):\n",
    "    def _input_fn(num_epochs=None, shuffle=True):\n",
    "        ds = dataset.batch(batch_size).repeat(num_epochs)\n",
    "        if shuffle:\n",
    "            ds = ds.shuffle(SHUFFLE_SIZE)\n",
    "        feature_batch, label_batch = ds.make_one_shot_iterator().get_next()\n",
    "        return feature_batch, label_batch\n",
    "    return _input_fn\n",
    "\n",
    "def create_predict_input_fn(dataset, batch_size):\n",
    "    def _input_fn():\n",
    "        ds = dataset.batch(batch_size)\n",
    "        feature_batch, label_batch = ds.make_one_shot_iterator().get_next()\n",
    "        return feature_batch, label_batch\n",
    "    return _input_fn\n",
    "\n",
    "def train_helper(steps_per_period):\n",
    "    classifier.train(\n",
    "        input_fn=train_input_fn,\n",
    "        steps=steps_per_period)\n",
    "    training_stats = classifier.evaluate(input_fn=training_eval_input_fn)\n",
    "    validation_stats = classifier.evaluate(input_fn=validation_eval_input_fn)\n",
    "    t_ll = training_stats[\"loss\"]\n",
    "    t_acc = 100 * training_stats[\"accuracy\"]\n",
    "    v_ll = validation_stats[\"loss\"]\n",
    "    v_acc = 100 * validation_stats[\"accuracy\"]\n",
    "    return classifier, t_ll, v_ll, t_acc, v_acc\n",
    "\n",
    "def train():\n",
    "    periods = LEARNING_STEPS // SPP\n",
    "    steps_per_period = LEARNING_STEPS // periods\n",
    "    t_accs, v_accs = [], []\n",
    "    t_lls, v_lls = [], []\n",
    "    print_and_log(\"Training model...\\nMetrics:\")\n",
    "    print_and_log(\"\\tPERIOD\\tRATE\\tTYPE\\tTRAIN.\\tVALID.\\tTIME\")\n",
    "    for period in range(periods):\n",
    "        lr = LEARNING_RATE * (DECAY_RATE ** ((period * SPP) / SPP))\n",
    "        classifier, t_ll, v_ll, t_acc, v_acc = train_helper(steps_per_period)\n",
    "        print_and_log(\"\\t{}\\t{:.5f}\\tLgLs\\t{:.2f}\\t{:.2f}\\t{}\".format(period, lr, t_ll, v_ll, curr_time()))\n",
    "        print_and_log(\"\\t\\t\\tAcc.\\t{:.2f}%\\t{:.2f}%\\n\".format(t_acc, v_acc))\n",
    "        t_lls.append(t_ll)\n",
    "        v_lls.append(v_ll)\n",
    "        t_accs.append(t_acc)\n",
    "        v_accs.append(v_acc)\n",
    "    v_accuracy = v_accs[-1]\n",
    "    return classifier, v_accuracy, t_lls, v_lls, t_accs, v_accs"
   ]
  },
  {
   "cell_type": "code",
   "execution_count": 13,
   "metadata": {
    "collapsed": true
   },
   "outputs": [],
   "source": [
    "with open(paths[\"Log\"], 'w') as log:\n",
    "    log.write(make_header(\"Starting Script\\n\"))"
   ]
  },
  {
   "cell_type": "code",
   "execution_count": 14,
   "metadata": {
    "collapsed": true
   },
   "outputs": [],
   "source": [
    "# Create variables for the paths\n",
    "train_csv = paths[\"Training\"]\n",
    "\n",
    "# Store the labels to train\n",
    "all_labels = [\"right\", \"left\"]\n",
    "labels = [\"right\", \"left\"]\n",
    "num_labels = len(labels)\n",
    "labels = {x[1]:x[0] for x in enumerate(labels)}\n",
    "reverse_lookup = {labels[k]:k for k in labels}"
   ]
  },
  {
   "cell_type": "code",
   "execution_count": 15,
   "metadata": {},
   "outputs": [
    {
     "name": "stdout",
     "output_type": "stream",
     "text": [
      "##########################################\n",
      "           MAKING TRAINING DATA           \n",
      "##########################################\n",
      "##########################################\n",
      "                TRAIN DATA                \n",
      "##########################################\n",
      "        Unnamed: 0     Day   Month        Label  SequenceNumber  Path9  \\\n",
      "count  1588.000000  1588.0  1588.0  1588.000000     1588.000000    0.0   \n",
      "mean    793.500000     6.0    10.0     0.493703      433.641688    NaN   \n",
      "std     458.560429     0.0     0.0     0.500118      252.818757    NaN   \n",
      "min       0.000000     6.0    10.0     0.000000        0.000000    NaN   \n",
      "25%     396.750000     6.0    10.0     0.000000      214.750000    NaN   \n",
      "50%     793.500000     6.0    10.0     0.000000      434.500000    NaN   \n",
      "75%    1190.250000     6.0    10.0     1.000000      651.250000    NaN   \n",
      "max    1587.000000     6.0    10.0     1.000000      877.000000    NaN   \n",
      "\n",
      "       Path10  Path11  Path12  Path13  Path14  Path15  Path16  Path17  Path18  \\\n",
      "count     0.0     0.0     0.0     0.0     0.0     0.0     0.0     0.0     0.0   \n",
      "mean      NaN     NaN     NaN     NaN     NaN     NaN     NaN     NaN     NaN   \n",
      "std       NaN     NaN     NaN     NaN     NaN     NaN     NaN     NaN     NaN   \n",
      "min       NaN     NaN     NaN     NaN     NaN     NaN     NaN     NaN     NaN   \n",
      "25%       NaN     NaN     NaN     NaN     NaN     NaN     NaN     NaN     NaN   \n",
      "50%       NaN     NaN     NaN     NaN     NaN     NaN     NaN     NaN     NaN   \n",
      "75%       NaN     NaN     NaN     NaN     NaN     NaN     NaN     NaN     NaN   \n",
      "max       NaN     NaN     NaN     NaN     NaN     NaN     NaN     NaN     NaN   \n",
      "\n",
      "       Path19  Path20  Path21  Path22  \n",
      "count     0.0     0.0     0.0     0.0  \n",
      "mean      NaN     NaN     NaN     NaN  \n",
      "std       NaN     NaN     NaN     NaN  \n",
      "min       NaN     NaN     NaN     NaN  \n",
      "25%       NaN     NaN     NaN     NaN  \n",
      "50%       NaN     NaN     NaN     NaN  \n",
      "75%       NaN     NaN     NaN     NaN  \n",
      "max       NaN     NaN     NaN     NaN  \n",
      "   Unnamed: 0  Category  Day  Month  Label  SequenceNumber         Set  \\\n",
      "0        1065  no_voice    6     10      1             644    Training   \n",
      "1        1020  no_voice    6     10      0             228  Validation   \n",
      "2         876  no_voice    6     10      0             191    Training   \n",
      "3         706  no_voice    6     10      1             275    Training   \n",
      "4          35  no_voice    6     10      0             671    Training   \n",
      "5        1354  no_voice    6     10      0             745    Training   \n",
      "6         235  no_voice    6     10      0              49     Testing   \n",
      "7         335  no_voice    6     10      0              70    Training   \n",
      "8        1081  no_voice    6     10      1             358  Validation   \n",
      "9        1102  no_voice    6     10      0              12    Training   \n",
      "\n",
      "                                               Path1  \\\n",
      "0  /Users/kyy/demo/images_scaled/dan_10_06/no_voi...   \n",
      "1  /Users/kyy/demo/images_scaled/dan_10_06/no_voi...   \n",
      "2  /Users/kyy/demo/images_scaled/dan_10_06/no_voi...   \n",
      "3  /Users/kyy/demo/images_scaled/dan_10_06/no_voi...   \n",
      "4  /Users/kyy/demo/images_scaled/dan_10_06/no_voi...   \n",
      "5  /Users/kyy/demo/images_scaled/dan_10_06/no_voi...   \n",
      "6  /Users/kyy/demo/images_scaled/dan_10_06/no_voi...   \n",
      "7  /Users/kyy/demo/images_scaled/dan_10_06/no_voi...   \n",
      "8  /Users/kyy/demo/images_scaled/dan_10_06/no_voi...   \n",
      "9  /Users/kyy/demo/images_scaled/dan_10_06/no_voi...   \n",
      "\n",
      "                                               Path2  \\\n",
      "0  /Users/kyy/demo/images_scaled/dan_10_06/no_voi...   \n",
      "1  /Users/kyy/demo/images_scaled/dan_10_06/no_voi...   \n",
      "2  /Users/kyy/demo/images_scaled/dan_10_06/no_voi...   \n",
      "3  /Users/kyy/demo/images_scaled/dan_10_06/no_voi...   \n",
      "4  /Users/kyy/demo/images_scaled/dan_10_06/no_voi...   \n",
      "5  /Users/kyy/demo/images_scaled/dan_10_06/no_voi...   \n",
      "6  /Users/kyy/demo/images_scaled/dan_10_06/no_voi...   \n",
      "7  /Users/kyy/demo/images_scaled/dan_10_06/no_voi...   \n",
      "8  /Users/kyy/demo/images_scaled/dan_10_06/no_voi...   \n",
      "9  /Users/kyy/demo/images_scaled/dan_10_06/no_voi...   \n",
      "\n",
      "                                               Path3   ...   Path13  Path14  \\\n",
      "0  /Users/kyy/demo/images_scaled/dan_10_06/no_voi...   ...      NaN     NaN   \n",
      "1  /Users/kyy/demo/images_scaled/dan_10_06/no_voi...   ...      NaN     NaN   \n",
      "2  /Users/kyy/demo/images_scaled/dan_10_06/no_voi...   ...      NaN     NaN   \n",
      "3  /Users/kyy/demo/images_scaled/dan_10_06/no_voi...   ...      NaN     NaN   \n",
      "4  /Users/kyy/demo/images_scaled/dan_10_06/no_voi...   ...      NaN     NaN   \n",
      "5  /Users/kyy/demo/images_scaled/dan_10_06/no_voi...   ...      NaN     NaN   \n",
      "6  /Users/kyy/demo/images_scaled/dan_10_06/no_voi...   ...      NaN     NaN   \n",
      "7  /Users/kyy/demo/images_scaled/dan_10_06/no_voi...   ...      NaN     NaN   \n",
      "8  /Users/kyy/demo/images_scaled/dan_10_06/no_voi...   ...      NaN     NaN   \n",
      "9  /Users/kyy/demo/images_scaled/dan_10_06/no_voi...   ...      NaN     NaN   \n",
      "\n",
      "   Path15  Path16  Path17  Path18  Path19  Path20  Path21  Path22  \n",
      "0     NaN     NaN     NaN     NaN     NaN     NaN     NaN     NaN  \n",
      "1     NaN     NaN     NaN     NaN     NaN     NaN     NaN     NaN  \n",
      "2     NaN     NaN     NaN     NaN     NaN     NaN     NaN     NaN  \n",
      "3     NaN     NaN     NaN     NaN     NaN     NaN     NaN     NaN  \n",
      "4     NaN     NaN     NaN     NaN     NaN     NaN     NaN     NaN  \n",
      "5     NaN     NaN     NaN     NaN     NaN     NaN     NaN     NaN  \n",
      "6     NaN     NaN     NaN     NaN     NaN     NaN     NaN     NaN  \n",
      "7     NaN     NaN     NaN     NaN     NaN     NaN     NaN     NaN  \n",
      "8     NaN     NaN     NaN     NaN     NaN     NaN     NaN     NaN  \n",
      "9     NaN     NaN     NaN     NaN     NaN     NaN     NaN     NaN  \n",
      "\n",
      "[10 rows x 25 columns]\n"
     ]
    }
   ],
   "source": [
    "# Make the training data\n",
    "print_and_log_header(\"MAKING TRAINING DATA\")\n",
    "train_data = pd.read_csv(train_csv)\n",
    "\n",
    "# Filter the training data\n",
    "train_data = select_categories(train_data, CATEGORY)\n",
    "train_data = select_channels(train_data, CHANNELS)\n",
    "train_data = select_labels(train_data, all_labels)\n",
    "train_data = select_months(train_data, MONTHS)\n",
    "train_data = select_days(train_data, DAYS)\n",
    "# train_data = remove_voice(train_data)\n",
    "\n",
    "train_data = train_data.sample(frac=1).reset_index(drop=True)\n",
    "train_data[\"Label\"] = train_data[\"Label\"].map(labels)\n",
    "\n",
    "if VERBOSE:\n",
    "    print_and_log_header(\"TRAIN DATA\")\n",
    "    print_and_log(train_data.describe())\n",
    "    print_and_log(train_data.head(10))"
   ]
  },
  {
   "cell_type": "code",
   "execution_count": 16,
   "metadata": {
    "collapsed": true
   },
   "outputs": [],
   "source": [
    "# Grab subset of the data for testing purposes\n",
    "if TEST:\n",
    "    train_data = train_data[:TEST_SIZE]"
   ]
  },
  {
   "cell_type": "code",
   "execution_count": 17,
   "metadata": {
    "collapsed": true
   },
   "outputs": [],
   "source": [
    "# 80/10/10 training/validation/test split\n",
    "validation_data = select_sets(train_data, [\"Validation\"])\n",
    "test_data = select_sets(train_data, [\"Testing\"])\n",
    "train_data = select_sets(train_data, [\"Training\"])"
   ]
  },
  {
   "cell_type": "code",
   "execution_count": 18,
   "metadata": {},
   "outputs": [
    {
     "name": "stdout",
     "output_type": "stream",
     "text": [
      "##########################################\n",
      "                   IDS                    \n",
      "##########################################\n",
      "count                                                   157\n",
      "unique                                                  157\n",
      "top       /Users/kyy/demo/images_scaled/dan_10_06/no_voi...\n",
      "freq                                                      1\n",
      "Name: Path1, dtype: object\n",
      "6     /Users/kyy/demo/images_scaled/dan_10_06/no_voi...\n",
      "17    /Users/kyy/demo/images_scaled/dan_10_06/no_voi...\n",
      "24    /Users/kyy/demo/images_scaled/dan_10_06/no_voi...\n",
      "31    /Users/kyy/demo/images_scaled/dan_10_06/no_voi...\n",
      "32    /Users/kyy/demo/images_scaled/dan_10_06/no_voi...\n",
      "35    /Users/kyy/demo/images_scaled/dan_10_06/no_voi...\n",
      "69    /Users/kyy/demo/images_scaled/dan_10_06/no_voi...\n",
      "81    /Users/kyy/demo/images_scaled/dan_10_06/no_voi...\n",
      "84    /Users/kyy/demo/images_scaled/dan_10_06/no_voi...\n",
      "92    /Users/kyy/demo/images_scaled/dan_10_06/no_voi...\n",
      "Name: Path1, dtype: object\n"
     ]
    }
   ],
   "source": [
    "ids = test_data[\"Path{}\".format(CHANNELS[0])] # store the png filenames for output\n",
    "if VERBOSE:\n",
    "    print_and_log_header(\"IDS\")\n",
    "    print_and_log(ids.describe())\n",
    "    print_and_log(ids.head(10))"
   ]
  },
  {
   "cell_type": "code",
   "execution_count": 19,
   "metadata": {},
   "outputs": [
    {
     "ename": "ValueError",
     "evalue": "Format 'jpg' is not supported (supported formats: eps, pdf, pgf, png, ps, raw, rgba, svg, svgz)",
     "output_type": "error",
     "traceback": [
      "\u001b[0;31m---------------------------------------------------------------------------\u001b[0m",
      "\u001b[0;31mValueError\u001b[0m                                Traceback (most recent call last)",
      "\u001b[0;32m<ipython-input-19-ae57735c4344>\u001b[0m in \u001b[0;36m<module>\u001b[0;34m()\u001b[0m\n\u001b[1;32m      2\u001b[0m     \u001b[0max\u001b[0m \u001b[0;34m=\u001b[0m \u001b[0msns\u001b[0m\u001b[0;34m.\u001b[0m\u001b[0mcountplot\u001b[0m\u001b[0;34m(\u001b[0m\u001b[0mx\u001b[0m\u001b[0;34m=\u001b[0m\u001b[0mtarget_label\u001b[0m\u001b[0;34m,\u001b[0m \u001b[0mdata\u001b[0m\u001b[0;34m=\u001b[0m\u001b[0mtrain_data\u001b[0m\u001b[0;34m)\u001b[0m\u001b[0;34m\u001b[0m\u001b[0m\n\u001b[1;32m      3\u001b[0m     \u001b[0max\u001b[0m\u001b[0;34m.\u001b[0m\u001b[0mset_title\u001b[0m\u001b[0;34m(\u001b[0m\u001b[0;34m\"Training Label Counts\"\u001b[0m\u001b[0;34m)\u001b[0m\u001b[0;34m\u001b[0m\u001b[0m\n\u001b[0;32m----> 4\u001b[0;31m     \u001b[0max\u001b[0m\u001b[0;34m.\u001b[0m\u001b[0mget_figure\u001b[0m\u001b[0;34m(\u001b[0m\u001b[0;34m)\u001b[0m\u001b[0;34m.\u001b[0m\u001b[0msavefig\u001b[0m\u001b[0;34m(\u001b[0m\u001b[0mpaths\u001b[0m\u001b[0;34m[\u001b[0m\u001b[0;34m\"Logs\"\u001b[0m\u001b[0;34m]\u001b[0m \u001b[0;34m+\u001b[0m \u001b[0;34m\"training_target_counts.jpg\"\u001b[0m\u001b[0;34m)\u001b[0m\u001b[0;34m\u001b[0m\u001b[0m\n\u001b[0m\u001b[1;32m      5\u001b[0m     \u001b[0mplt\u001b[0m\u001b[0;34m.\u001b[0m\u001b[0mshow\u001b[0m\u001b[0;34m(\u001b[0m\u001b[0;34m)\u001b[0m\u001b[0;34m\u001b[0m\u001b[0m\n\u001b[1;32m      6\u001b[0m \u001b[0;34m\u001b[0m\u001b[0m\n",
      "\u001b[0;32m/usr/local/lib/python3.6/site-packages/matplotlib/figure.py\u001b[0m in \u001b[0;36msavefig\u001b[0;34m(self, fname, frameon, transparent, **kwargs)\u001b[0m\n\u001b[1;32m   2095\u001b[0m             \u001b[0mself\u001b[0m\u001b[0;34m.\u001b[0m\u001b[0mset_frameon\u001b[0m\u001b[0;34m(\u001b[0m\u001b[0mframeon\u001b[0m\u001b[0;34m)\u001b[0m\u001b[0;34m\u001b[0m\u001b[0m\n\u001b[1;32m   2096\u001b[0m \u001b[0;34m\u001b[0m\u001b[0m\n\u001b[0;32m-> 2097\u001b[0;31m         \u001b[0mself\u001b[0m\u001b[0;34m.\u001b[0m\u001b[0mcanvas\u001b[0m\u001b[0;34m.\u001b[0m\u001b[0mprint_figure\u001b[0m\u001b[0;34m(\u001b[0m\u001b[0mfname\u001b[0m\u001b[0;34m,\u001b[0m \u001b[0;34m**\u001b[0m\u001b[0mkwargs\u001b[0m\u001b[0;34m)\u001b[0m\u001b[0;34m\u001b[0m\u001b[0m\n\u001b[0m\u001b[1;32m   2098\u001b[0m \u001b[0;34m\u001b[0m\u001b[0m\n\u001b[1;32m   2099\u001b[0m         \u001b[0;32mif\u001b[0m \u001b[0mframeon\u001b[0m\u001b[0;34m:\u001b[0m\u001b[0;34m\u001b[0m\u001b[0m\n",
      "\u001b[0;32m/usr/local/lib/python3.6/site-packages/matplotlib/backend_bases.py\u001b[0m in \u001b[0;36mprint_figure\u001b[0;34m(self, filename, dpi, facecolor, edgecolor, orientation, format, bbox_inches, **kwargs)\u001b[0m\n\u001b[1;32m   2004\u001b[0m \u001b[0;34m\u001b[0m\u001b[0m\n\u001b[1;32m   2005\u001b[0m         \u001b[0;31m# get canvas object and print method for format\u001b[0m\u001b[0;34m\u001b[0m\u001b[0;34m\u001b[0m\u001b[0m\n\u001b[0;32m-> 2006\u001b[0;31m         \u001b[0mcanvas\u001b[0m \u001b[0;34m=\u001b[0m \u001b[0mself\u001b[0m\u001b[0;34m.\u001b[0m\u001b[0m_get_output_canvas\u001b[0m\u001b[0;34m(\u001b[0m\u001b[0mformat\u001b[0m\u001b[0;34m)\u001b[0m\u001b[0;34m\u001b[0m\u001b[0m\n\u001b[0m\u001b[1;32m   2007\u001b[0m         \u001b[0mprint_method\u001b[0m \u001b[0;34m=\u001b[0m \u001b[0mgetattr\u001b[0m\u001b[0;34m(\u001b[0m\u001b[0mcanvas\u001b[0m\u001b[0;34m,\u001b[0m \u001b[0;34m'print_%s'\u001b[0m \u001b[0;34m%\u001b[0m \u001b[0mformat\u001b[0m\u001b[0;34m)\u001b[0m\u001b[0;34m\u001b[0m\u001b[0m\n\u001b[1;32m   2008\u001b[0m \u001b[0;34m\u001b[0m\u001b[0m\n",
      "\u001b[0;32m/usr/local/lib/python3.6/site-packages/matplotlib/backend_bases.py\u001b[0m in \u001b[0;36m_get_output_canvas\u001b[0;34m(self, fmt)\u001b[0m\n\u001b[1;32m   1946\u001b[0m         raise ValueError(\n\u001b[1;32m   1947\u001b[0m             \u001b[0;34m\"Format {!r} is not supported (supported formats: {})\"\u001b[0m\u001b[0;34m\u001b[0m\u001b[0m\n\u001b[0;32m-> 1948\u001b[0;31m             .format(fmt, \", \".join(sorted(self.get_supported_filetypes()))))\n\u001b[0m\u001b[1;32m   1949\u001b[0m \u001b[0;34m\u001b[0m\u001b[0m\n\u001b[1;32m   1950\u001b[0m     def print_figure(self, filename, dpi=None, facecolor=None, edgecolor=None,\n",
      "\u001b[0;31mValueError\u001b[0m: Format 'jpg' is not supported (supported formats: eps, pdf, pgf, png, ps, raw, rgba, svg, svgz)"
     ]
    },
    {
     "data": {
      "image/png": "[encoded data removed]",
      "text/plain": [
       "<Figure size 432x288 with 1 Axes>"
      ]
     },
     "metadata": {
      "needs_background": "light"
     },
     "output_type": "display_data"
    }
   ],
   "source": [
    "if DISPLAY:\n",
    "    ax = sns.countplot(x=target_label, data=train_data)\n",
    "    ax.set_title(\"Training Label Counts\")\n",
    "    ax.get_figure().savefig(paths[\"Logs\"] + \"training_target_counts.jpg\")\n",
    "    plt.show()\n",
    "\n",
    "    ax = sns.countplot(x=target_label, data=validation_data)\n",
    "    ax.set_title(\"Validation Label Counts\")\n",
    "    ax.get_figure().savefig(paths[\"Logs\"] + \"validation_target_counts.jpg\")\n",
    "    plt.show()\n",
    "\n",
    "    ax = sns.countplot(x=target_label, data=test_data)\n",
    "    ax.set_title(\"Testing Label Counts\")\n",
    "    ax.get_figure().savefig(paths[\"Logs\"] + \"test_target_counts.jpg\")\n",
    "    plt.show()"
   ]
  },
  {
   "cell_type": "code",
   "execution_count": 20,
   "metadata": {
    "collapsed": true
   },
   "outputs": [],
   "source": [
    "# Separate Labels\n",
    "train_labels = train_data.pop(target_label)\n",
    "validation_labels = validation_data.pop(target_label)\n",
    "test_labels = test_data.pop(target_label)\n",
    "img_paths = [\"Path{}\".format(channel) for channel in CHANNELS]\n",
    "train_data = train_data[img_paths]\n",
    "validation_data = validation_data[img_paths]\n",
    "test_data = test_data[img_paths]"
   ]
  },
  {
   "cell_type": "code",
   "execution_count": 21,
   "metadata": {},
   "outputs": [
    {
     "name": "stdout",
     "output_type": "stream",
     "text": [
      "##########################################\n",
      "                 TRAINING                 \n",
      "##########################################\n",
      "(1275, 4)\n",
      "<class 'pandas.core.frame.DataFrame'>\n",
      "(1275,)\n",
      "<class 'pandas.core.series.Series'>\n",
      "##########################################\n",
      "                VALIDATION                \n",
      "##########################################\n",
      "(156, 4)\n",
      "<class 'pandas.core.frame.DataFrame'>\n",
      "(156,)\n",
      "<class 'pandas.core.series.Series'>\n",
      "##########################################\n",
      "                 TESTING                  \n",
      "##########################################\n",
      "(157, 4)\n",
      "<class 'pandas.core.frame.DataFrame'>\n",
      "(157,)\n",
      "<class 'pandas.core.series.Series'>\n",
      "{0, 1}\n"
     ]
    }
   ],
   "source": [
    "# Sanity check on data\n",
    "print_and_log_header(\"TRAINING\")\n",
    "print_and_log(train_data.shape)\n",
    "print_and_log(type(train_data))\n",
    "print_and_log(train_labels.shape)\n",
    "print_and_log(type(train_labels))\n",
    "print_and_log_header(\"VALIDATION\")\n",
    "print_and_log(validation_data.shape)\n",
    "print_and_log(type(validation_data))\n",
    "print_and_log(validation_labels.shape)\n",
    "print_and_log(type(validation_labels))\n",
    "print_and_log_header(\"TESTING\")\n",
    "print_and_log(test_data.shape)\n",
    "print_and_log(type(test_data))\n",
    "print_and_log(test_labels.shape)\n",
    "print_and_log(type(test_labels))\n",
    "print_and_log(set(test_labels))"
   ]
  },
  {
   "cell_type": "code",
   "execution_count": 22,
   "metadata": {},
   "outputs": [
    {
     "name": "stdout",
     "output_type": "stream",
     "text": [
      "##########################################\n",
      "          Parsing Training Data           \n",
      "##########################################\n",
      "Start: 2018-10-06 16:23:20.881959\n",
      "End: 2018-10-06 16:23:21.210213\n",
      "Finished in 00:00:00:00.326\n",
      "##########################################\n",
      "         Parsing Validation Data          \n",
      "##########################################\n",
      "Start: 2018-10-06 16:23:21.211912\n",
      "End: 2018-10-06 16:23:21.454114\n",
      "Finished in 00:00:00:00.242\n",
      "##########################################\n",
      "           Parsing Testing Data           \n",
      "##########################################\n",
      "Start: 2018-10-06 16:23:21.460737\n",
      "End: 2018-10-06 16:23:21.723644\n",
      "Finished in 00:00:00:00.262\n",
      "\n",
      "Done!\n"
     ]
    }
   ],
   "source": [
    "# Vectors of filenames.\n",
    "t_f, v_f, s_f = [], [], []\n",
    "for i in range(1, 1 + len(CHANNELS)):\n",
    "    channel = CHANNELS[i-1]\n",
    "    l = \"Path{}\".format(channel)\n",
    "    t_f.append(tf.constant(train_data[l]))\n",
    "    v_f.append(tf.constant(validation_data[l]))\n",
    "    s_f.append(tf.constant(test_data[l]))\n",
    "\n",
    "# `labels[i]` is the label for the image in `filenames[i]\n",
    "# Vectors of labels\n",
    "train_labels = tf.constant(train_labels)\n",
    "validation_labels = tf.constant(validation_labels)\n",
    "test_labels = tf.constant(test_labels)\n",
    "\n",
    "# Make datasets from filenames and labels\n",
    "train_data = tf.data.Dataset.from_tensor_slices((train_labels, *t_f))\n",
    "validation_data = tf.data.Dataset.from_tensor_slices((validation_labels, *v_f))\n",
    "test_data = tf.data.Dataset.from_tensor_slices((test_labels, *s_f))\n",
    "print_and_log_header(\"Parsing Training Data\")\n",
    "train_data = timer(lambda: train_data.map(_parse_function))\n",
    "print_and_log_header(\"Parsing Validation Data\")\n",
    "validation_data = timer(lambda: validation_data.map(_parse_function))\n",
    "print_and_log_header(\"Parsing Testing Data\")\n",
    "test_data = timer(lambda: test_data.map(_parse_function))\n",
    "print_and_log(\"\\nDone!\")"
   ]
  },
  {
   "cell_type": "code",
   "execution_count": 23,
   "metadata": {},
   "outputs": [
    {
     "name": "stdout",
     "output_type": "stream",
     "text": [
      "##########################################\n",
      "                 TRAINING                 \n",
      "##########################################\n",
      "<MapDataset shapes: ((1, 28, 28, 4), ()), types: (tf.float32, tf.int64)>\n",
      "<class 'tensorflow.python.data.ops.dataset_ops.MapDataset'>\n",
      "##########################################\n",
      "                VALIDATION                \n",
      "##########################################\n",
      "<MapDataset shapes: ((1, 28, 28, 4), ()), types: (tf.float32, tf.int64)>\n",
      "<class 'tensorflow.python.data.ops.dataset_ops.MapDataset'>\n",
      "##########################################\n",
      "                 TESTING                  \n",
      "##########################################\n",
      "<MapDataset shapes: ((1, 28, 28, 4), ()), types: (tf.float32, tf.int64)>\n",
      "<class 'tensorflow.python.data.ops.dataset_ops.MapDataset'>\n"
     ]
    }
   ],
   "source": [
    "print_and_log_header(\"TRAINING\")\n",
    "print_and_log(train_data)\n",
    "print_and_log(type(train_data))\n",
    "print_and_log_header(\"VALIDATION\")\n",
    "print_and_log(validation_data)\n",
    "print_and_log(type(validation_data))\n",
    "print_and_log_header(\"TESTING\")\n",
    "print_and_log(test_data)\n",
    "print_and_log(type(test_data))"
   ]
  },
  {
   "cell_type": "code",
   "execution_count": 24,
   "metadata": {
    "collapsed": true
   },
   "outputs": [],
   "source": [
    "# Create the Estimator\n",
    "if TPU:\n",
    "    classifier = tf.contrib.tpu.TPUEstimator(\n",
    "        model_fn=model_fn,\n",
    "        model_dir=paths[\"Model\"],\n",
    "        config=tf.contrib.tpu.RunConfig(),\n",
    "        use_tpu=TPU)\n",
    "else:\n",
    "    classifier = tf.estimator.Estimator(model_fn=model_fn, model_dir=paths[\"Model\"])"
   ]
  },
  {
   "cell_type": "code",
   "execution_count": 25,
   "metadata": {
    "collapsed": true
   },
   "outputs": [],
   "source": [
    "# Create the input functions.\n",
    "training_eval_input_fn = create_predict_input_fn(train_data, DEFAULT_BS)\n",
    "validation_eval_input_fn = create_predict_input_fn(validation_data, DEFAULT_BS)\n",
    "test_eval_input_fn = create_predict_input_fn(test_data, DEFAULT_BS)\n",
    "train_input_fn = create_training_input_fn(train_data, BATCH_SIZE)"
   ]
  },
  {
   "cell_type": "code",
   "execution_count": 26,
   "metadata": {},
   "outputs": [
    {
     "name": "stdout",
     "output_type": "stream",
     "text": [
      "Start: 2018-10-06 16:23:22.851762\n",
      "Training model...\n",
      "Metrics:\n",
      "\tPERIOD\tRATE\tTYPE\tTRAIN.\tVALID.\tTIME\n",
      "\t0\t0.02500\tLgLs\t0.69\t0.69\t2018-10-06 16:24:14.483037\n",
      "\t\t\tAcc.\t57.49%\t61.54%\n",
      "\n",
      "\t1\t0.02250\tLgLs\t0.69\t0.69\t2018-10-06 16:25:16.425448\n",
      "\t\t\tAcc.\t56.00%\t55.13%\n",
      "\n",
      "\t2\t0.02025\tLgLs\t0.68\t0.69\t2018-10-06 16:26:19.804202\n",
      "\t\t\tAcc.\t56.55%\t55.13%\n",
      "\n",
      "\t3\t0.01823\tLgLs\t0.68\t0.68\t2018-10-06 16:27:20.480174\n",
      "\t\t\tAcc.\t60.24%\t56.41%\n",
      "\n",
      "\t4\t0.01640\tLgLs\t0.67\t0.68\t2018-10-06 16:28:23.722312\n",
      "\t\t\tAcc.\t60.86%\t57.69%\n",
      "\n",
      "\t5\t0.01476\tLgLs\t0.67\t0.68\t2018-10-06 16:29:24.122714\n",
      "\t\t\tAcc.\t61.73%\t59.62%\n",
      "\n",
      "\t6\t0.01329\tLgLs\t0.66\t0.68\t2018-10-06 16:30:27.793894\n",
      "\t\t\tAcc.\t62.12%\t58.97%\n",
      "\n",
      "\t7\t0.01196\tLgLs\t0.66\t0.68\t2018-10-06 16:31:28.134272\n",
      "\t\t\tAcc.\t62.35%\t62.82%\n",
      "\n",
      "\t8\t0.01076\tLgLs\t0.65\t0.68\t2018-10-06 16:32:32.222120\n",
      "\t\t\tAcc.\t62.67%\t62.18%\n",
      "\n",
      "\t9\t0.00969\tLgLs\t0.65\t0.68\t2018-10-06 16:33:32.537021\n",
      "\t\t\tAcc.\t62.90%\t58.97%\n",
      "\n",
      "\t10\t0.00872\tLgLs\t0.65\t0.67\t2018-10-06 16:34:36.168639\n",
      "\t\t\tAcc.\t63.06%\t65.38%\n",
      "\n",
      "\t11\t0.00785\tLgLs\t0.64\t0.67\t2018-10-06 16:35:36.068984\n",
      "\t\t\tAcc.\t64.00%\t63.46%\n",
      "\n",
      "\t12\t0.00706\tLgLs\t0.64\t0.67\t2018-10-06 16:36:39.011705\n",
      "\t\t\tAcc.\t64.24%\t64.10%\n",
      "\n",
      "\t13\t0.00635\tLgLs\t0.64\t0.67\t2018-10-06 16:37:41.406987\n",
      "\t\t\tAcc.\t63.14%\t62.82%\n",
      "\n",
      "\t14\t0.00572\tLgLs\t0.64\t0.66\t2018-10-06 16:38:46.690372\n",
      "\t\t\tAcc.\t64.63%\t63.46%\n",
      "\n",
      "\t15\t0.00515\tLgLs\t0.63\t0.66\t2018-10-06 16:39:48.938278\n",
      "\t\t\tAcc.\t64.86%\t62.82%\n",
      "\n",
      "\t16\t0.00463\tLgLs\t0.63\t0.66\t2018-10-06 16:40:55.093981\n",
      "\t\t\tAcc.\t65.10%\t62.82%\n",
      "\n",
      "\t17\t0.00417\tLgLs\t0.63\t0.66\t2018-10-06 16:41:57.042051\n",
      "\t\t\tAcc.\t64.94%\t64.74%\n",
      "\n",
      "\t18\t0.00375\tLgLs\t0.63\t0.65\t2018-10-06 16:42:48.532459\n",
      "\t\t\tAcc.\t65.41%\t65.38%\n",
      "\n",
      "\t19\t0.00338\tLgLs\t0.63\t0.66\t2018-10-06 16:43:37.590101\n",
      "\t\t\tAcc.\t65.41%\t64.10%\n",
      "\n",
      "\t20\t0.00304\tLgLs\t0.63\t0.65\t2018-10-06 16:44:27.799550\n",
      "\t\t\tAcc.\t65.80%\t64.74%\n",
      "\n",
      "\t21\t0.00274\tLgLs\t0.62\t0.65\t2018-10-06 16:45:20.026025\n",
      "\t\t\tAcc.\t65.96%\t65.38%\n",
      "\n",
      "\t22\t0.00246\tLgLs\t0.62\t0.65\t2018-10-06 16:46:12.541467\n",
      "\t\t\tAcc.\t65.88%\t66.03%\n",
      "\n",
      "\t23\t0.00222\tLgLs\t0.62\t0.65\t2018-10-06 16:47:03.979608\n",
      "\t\t\tAcc.\t66.51%\t67.31%\n",
      "\n",
      "\t24\t0.00199\tLgLs\t0.62\t0.65\t2018-10-06 16:47:55.187613\n",
      "\t\t\tAcc.\t65.96%\t66.03%\n",
      "\n",
      "End: 2018-10-06 16:47:55.193475\n",
      "Finished in 00:00:24:32.341\n"
     ]
    }
   ],
   "source": [
    "# Train\n",
    "classifier, accuracy, t_lls, v_lls, t_accs, v_accs = timer(train)"
   ]
  },
  {
   "cell_type": "code",
   "execution_count": 28,
   "metadata": {},
   "outputs": [
    {
     "name": "stdout",
     "output_type": "stream",
     "text": [
      "Final accuracy (on validation data): 66.0256%\n"
     ]
    },
    {
     "data": {
      "image/png": "[encoded data removed]",
      "text/plain": [
       "<Figure size 432x288 with 1 Axes>"
      ]
     },
     "metadata": {
      "needs_background": "light"
     },
     "output_type": "display_data"
    },
    {
     "ename": "ValueError",
     "evalue": "Format 'jpg' is not supported (supported formats: eps, pdf, pgf, png, ps, raw, rgba, svg, svgz)",
     "output_type": "error",
     "traceback": [
      "\u001b[0;31m---------------------------------------------------------------------------\u001b[0m",
      "\u001b[0;31mValueError\u001b[0m                                Traceback (most recent call last)",
      "\u001b[0;32m<ipython-input-28-76f3565a77c7>\u001b[0m in \u001b[0;36m<module>\u001b[0;34m()\u001b[0m\n\u001b[1;32m     10\u001b[0m     \u001b[0mplt\u001b[0m\u001b[0;34m.\u001b[0m\u001b[0mlegend\u001b[0m\u001b[0;34m(\u001b[0m\u001b[0;34m)\u001b[0m\u001b[0;34m\u001b[0m\u001b[0m\n\u001b[1;32m     11\u001b[0m     \u001b[0mplt\u001b[0m\u001b[0;34m.\u001b[0m\u001b[0mshow\u001b[0m\u001b[0;34m(\u001b[0m\u001b[0;34m)\u001b[0m\u001b[0;34m\u001b[0m\u001b[0m\n\u001b[0;32m---> 12\u001b[0;31m     \u001b[0mplt\u001b[0m\u001b[0;34m.\u001b[0m\u001b[0msavefig\u001b[0m\u001b[0;34m(\u001b[0m\u001b[0mpaths\u001b[0m\u001b[0;34m[\u001b[0m\u001b[0;34m\"Logs\"\u001b[0m\u001b[0;34m]\u001b[0m \u001b[0;34m+\u001b[0m \u001b[0;34m\"loss.jpg\"\u001b[0m\u001b[0;34m)\u001b[0m\u001b[0;34m\u001b[0m\u001b[0m\n\u001b[0m\u001b[1;32m     13\u001b[0m \u001b[0;34m\u001b[0m\u001b[0m\n\u001b[1;32m     14\u001b[0m     \u001b[0;31m# Output a graph of accuracy over periods.\u001b[0m\u001b[0;34m\u001b[0m\u001b[0;34m\u001b[0m\u001b[0m\n",
      "\u001b[0;32m/usr/local/lib/python3.6/site-packages/matplotlib/pyplot.py\u001b[0m in \u001b[0;36msavefig\u001b[0;34m(*args, **kwargs)\u001b[0m\n\u001b[1;32m    686\u001b[0m \u001b[0;32mdef\u001b[0m \u001b[0msavefig\u001b[0m\u001b[0;34m(\u001b[0m\u001b[0;34m*\u001b[0m\u001b[0margs\u001b[0m\u001b[0;34m,\u001b[0m \u001b[0;34m**\u001b[0m\u001b[0mkwargs\u001b[0m\u001b[0;34m)\u001b[0m\u001b[0;34m:\u001b[0m\u001b[0;34m\u001b[0m\u001b[0m\n\u001b[1;32m    687\u001b[0m     \u001b[0mfig\u001b[0m \u001b[0;34m=\u001b[0m \u001b[0mgcf\u001b[0m\u001b[0;34m(\u001b[0m\u001b[0;34m)\u001b[0m\u001b[0;34m\u001b[0m\u001b[0m\n\u001b[0;32m--> 688\u001b[0;31m     \u001b[0mres\u001b[0m \u001b[0;34m=\u001b[0m \u001b[0mfig\u001b[0m\u001b[0;34m.\u001b[0m\u001b[0msavefig\u001b[0m\u001b[0;34m(\u001b[0m\u001b[0;34m*\u001b[0m\u001b[0margs\u001b[0m\u001b[0;34m,\u001b[0m \u001b[0;34m**\u001b[0m\u001b[0mkwargs\u001b[0m\u001b[0;34m)\u001b[0m\u001b[0;34m\u001b[0m\u001b[0m\n\u001b[0m\u001b[1;32m    689\u001b[0m     \u001b[0mfig\u001b[0m\u001b[0;34m.\u001b[0m\u001b[0mcanvas\u001b[0m\u001b[0;34m.\u001b[0m\u001b[0mdraw_idle\u001b[0m\u001b[0;34m(\u001b[0m\u001b[0;34m)\u001b[0m   \u001b[0;31m# need this if 'transparent=True' to reset colors\u001b[0m\u001b[0;34m\u001b[0m\u001b[0m\n\u001b[1;32m    690\u001b[0m     \u001b[0;32mreturn\u001b[0m \u001b[0mres\u001b[0m\u001b[0;34m\u001b[0m\u001b[0m\n",
      "\u001b[0;32m/usr/local/lib/python3.6/site-packages/matplotlib/figure.py\u001b[0m in \u001b[0;36msavefig\u001b[0;34m(self, fname, frameon, transparent, **kwargs)\u001b[0m\n\u001b[1;32m   2095\u001b[0m             \u001b[0mself\u001b[0m\u001b[0;34m.\u001b[0m\u001b[0mset_frameon\u001b[0m\u001b[0;34m(\u001b[0m\u001b[0mframeon\u001b[0m\u001b[0;34m)\u001b[0m\u001b[0;34m\u001b[0m\u001b[0m\n\u001b[1;32m   2096\u001b[0m \u001b[0;34m\u001b[0m\u001b[0m\n\u001b[0;32m-> 2097\u001b[0;31m         \u001b[0mself\u001b[0m\u001b[0;34m.\u001b[0m\u001b[0mcanvas\u001b[0m\u001b[0;34m.\u001b[0m\u001b[0mprint_figure\u001b[0m\u001b[0;34m(\u001b[0m\u001b[0mfname\u001b[0m\u001b[0;34m,\u001b[0m \u001b[0;34m**\u001b[0m\u001b[0mkwargs\u001b[0m\u001b[0;34m)\u001b[0m\u001b[0;34m\u001b[0m\u001b[0m\n\u001b[0m\u001b[1;32m   2098\u001b[0m \u001b[0;34m\u001b[0m\u001b[0m\n\u001b[1;32m   2099\u001b[0m         \u001b[0;32mif\u001b[0m \u001b[0mframeon\u001b[0m\u001b[0;34m:\u001b[0m\u001b[0;34m\u001b[0m\u001b[0m\n",
      "\u001b[0;32m/usr/local/lib/python3.6/site-packages/matplotlib/backend_bases.py\u001b[0m in \u001b[0;36mprint_figure\u001b[0;34m(self, filename, dpi, facecolor, edgecolor, orientation, format, bbox_inches, **kwargs)\u001b[0m\n\u001b[1;32m   2004\u001b[0m \u001b[0;34m\u001b[0m\u001b[0m\n\u001b[1;32m   2005\u001b[0m         \u001b[0;31m# get canvas object and print method for format\u001b[0m\u001b[0;34m\u001b[0m\u001b[0;34m\u001b[0m\u001b[0m\n\u001b[0;32m-> 2006\u001b[0;31m         \u001b[0mcanvas\u001b[0m \u001b[0;34m=\u001b[0m \u001b[0mself\u001b[0m\u001b[0;34m.\u001b[0m\u001b[0m_get_output_canvas\u001b[0m\u001b[0;34m(\u001b[0m\u001b[0mformat\u001b[0m\u001b[0;34m)\u001b[0m\u001b[0;34m\u001b[0m\u001b[0m\n\u001b[0m\u001b[1;32m   2007\u001b[0m         \u001b[0mprint_method\u001b[0m \u001b[0;34m=\u001b[0m \u001b[0mgetattr\u001b[0m\u001b[0;34m(\u001b[0m\u001b[0mcanvas\u001b[0m\u001b[0;34m,\u001b[0m \u001b[0;34m'print_%s'\u001b[0m \u001b[0;34m%\u001b[0m \u001b[0mformat\u001b[0m\u001b[0;34m)\u001b[0m\u001b[0;34m\u001b[0m\u001b[0m\n\u001b[1;32m   2008\u001b[0m \u001b[0;34m\u001b[0m\u001b[0m\n",
      "\u001b[0;32m/usr/local/lib/python3.6/site-packages/matplotlib/backend_bases.py\u001b[0m in \u001b[0;36m_get_output_canvas\u001b[0;34m(self, fmt)\u001b[0m\n\u001b[1;32m   1946\u001b[0m         raise ValueError(\n\u001b[1;32m   1947\u001b[0m             \u001b[0;34m\"Format {!r} is not supported (supported formats: {})\"\u001b[0m\u001b[0;34m\u001b[0m\u001b[0m\n\u001b[0;32m-> 1948\u001b[0;31m             .format(fmt, \", \".join(sorted(self.get_supported_filetypes()))))\n\u001b[0m\u001b[1;32m   1949\u001b[0m \u001b[0;34m\u001b[0m\u001b[0m\n\u001b[1;32m   1950\u001b[0m     def print_figure(self, filename, dpi=None, facecolor=None, edgecolor=None,\n",
      "\u001b[0;31mValueError\u001b[0m: Format 'jpg' is not supported (supported formats: eps, pdf, pgf, png, ps, raw, rgba, svg, svgz)"
     ]
    },
    {
     "data": {
      "text/plain": [
       "<Figure size 432x288 with 0 Axes>"
      ]
     },
     "metadata": {},
     "output_type": "display_data"
    }
   ],
   "source": [
    "print_and_log(\"Final accuracy (on validation data): {:.4f}%\".format(accuracy))\n",
    "\n",
    "if DISPLAY:\n",
    "    # Output a graph of loss metrics over periods.\n",
    "    plt.ylabel(\"LogLoss\")\n",
    "    plt.xlabel(\"Periods\")\n",
    "    plt.title(\"LogLoss vs. Periods\")\n",
    "    plt.plot(t_lls, label=\"training\")\n",
    "    plt.plot(v_lls, label=\"validation\")\n",
    "    plt.legend()\n",
    "    plt.show()\n",
    "    plt.savefig(paths[\"Logs\"] + \"loss.jpg\")\n",
    "\n",
    "    # Output a graph of accuracy over periods.\n",
    "    plt.ylabel(\"Accuracy\")\n",
    "    plt.xlabel(\"Periods\")\n",
    "    plt.title(\"Accuracy vs. Periods\")\n",
    "    plt.plot(t_accs, label=\"training\")\n",
    "    plt.plot(v_accs, label=\"validation\")\n",
    "    plt.legend()\n",
    "    plt.show()\n",
    "    plt.savefig(paths[\"Logs\"] + \"accuracy.jpg\")"
   ]
  },
  {
   "cell_type": "code",
   "execution_count": 29,
   "metadata": {},
   "outputs": [
    {
     "name": "stdout",
     "output_type": "stream",
     "text": [
      "##########################################\n",
      "                 TESTING                  \n",
      "##########################################\n",
      "\tLog Loss: 0.61\n",
      "\tAccuracy: 59.87%\n"
     ]
    }
   ],
   "source": [
    "test_stats = classifier.evaluate(input_fn=test_eval_input_fn)\n",
    "t_ll = test_stats[\"loss\"]\n",
    "t_acc = 100 * test_stats[\"accuracy\"]\n",
    "print_and_log_header(\"TESTING\")\n",
    "print_and_log(\"\\tLog Loss: {:.2f}\".format(t_ll))\n",
    "print_and_log(\"\\tAccuracy: {:.2f}%\".format(t_acc))"
   ]
  },
  {
   "cell_type": "code",
   "execution_count": null,
   "metadata": {
    "collapsed": true
   },
   "outputs": [],
   "source": []
  },
  {
   "cell_type": "code",
   "execution_count": null,
   "metadata": {
    "collapsed": true
   },
   "outputs": [],
   "source": []
  }
 ],
 "metadata": {
  "kernelspec": {
   "display_name": "Python 3",
   "language": "python",
   "name": "python3"
  },
  "language_info": {
   "codemirror_mode": {
    "name": "ipython",
    "version": 3
   },
   "file_extension": ".py",
   "mimetype": "text/x-python",
   "name": "python",
   "nbconvert_exporter": "python",
   "pygments_lexer": "ipython3",
   "version": "3.6.5"
  }
 },
 "nbformat": 4,
 "nbformat_minor": 2
}
