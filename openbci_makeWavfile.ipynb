{
 "cells": [
  {
   "cell_type": "code",
   "execution_count": 3,
   "metadata": {},
   "outputs": [],
   "source": [
    "import os, shutil, re\n",
    "import pandas as pd\n",
    "import numpy as np\n",
    "import matplotlib.pyplot as plt\n",
    "from scipy import signal\n",
    "from scipy.io import wavfile\n",
    "from scipy.signal import resample\n",
    "import librosa\n",
    "import librosa.display\n",
    "from pydub import AudioSegment\n",
    "from datetime import datetime\n",
    "%matplotlib inline"
   ]
  },
  {
   "cell_type": "code",
   "execution_count": 4,
   "metadata": {
    "collapsed": true
   },
   "outputs": [],
   "source": [
    "# replace this with your root directory\n",
    "FNAME = \"taylor5_12_03\"\n",
    "\n",
    "RESAMPLE = True\n",
    "ROOT = os.getcwd() + \"/openbci_data/raw_data\"\n",
    "AUD_ROOT = os.getcwd() + \"/openbci_data/openbci_to_wav/\"\n",
    "SAVED_DATA = \"/Users/kyy/Documents/Processing/OpenBCI_GUI/OpenBCI_GUI/SavedData\"\n",
    "OUTPUT = AUD_ROOT + FNAME\n",
    "IMG_EXT = \".png\"\n",
    "VERBOSITY = 1000"
   ]
  },
  {
   "cell_type": "code",
   "execution_count": 15,
   "metadata": {
    "collapsed": true
   },
   "outputs": [],
   "source": [
    "def newest(path):\n",
    "    files = [f for f in os.listdir(path) if not f.startswith('.')]\n",
    "    paths = [os.path.join(path, basename) for basename in files]\n",
    "    return max(paths, key=os.path.getctime)"
   ]
  },
  {
   "cell_type": "code",
   "execution_count": 16,
   "metadata": {
    "collapsed": true
   },
   "outputs": [],
   "source": [
    "def channel2wav(ch_data, fname, channel):\n",
    "    data = np.array(ch_data, dtype='float64')\n",
    "    print(np.max(np.abs(data)))\n",
    "    data /= np.max(np.abs(data))\n",
    "    if RESAMPLE == True:\n",
    "        data = resample(data, len(data) * 40)\n",
    "    wavfile.write(fname + \"/\" + channel + '.wav', 201, data)\n",
    "    print(\"{} channel wav file conversion done!\".format(channel))"
   ]
  },
  {
   "cell_type": "code",
   "execution_count": 30,
   "metadata": {},
   "outputs": [
    {
     "ename": "NameError",
     "evalue": "name 'CSV' is not defined",
     "output_type": "error",
     "traceback": [
      "\u001b[0;31m---------------------------------------------------------------------------\u001b[0m",
      "\u001b[0;31mNameError\u001b[0m                                 Traceback (most recent call last)",
      "\u001b[0;32m<ipython-input-30-1bd2b1ac5a2a>\u001b[0m in \u001b[0;36m<module>\u001b[0;34m()\u001b[0m\n\u001b[1;32m     17\u001b[0m \u001b[0;32mif\u001b[0m \u001b[0mFNAME\u001b[0m \u001b[0;32mnot\u001b[0m \u001b[0;32min\u001b[0m \u001b[0mos\u001b[0m\u001b[0;34m.\u001b[0m\u001b[0mlistdir\u001b[0m\u001b[0;34m(\u001b[0m\u001b[0mAUD_ROOT\u001b[0m\u001b[0;34m)\u001b[0m\u001b[0;34m:\u001b[0m\u001b[0;34m\u001b[0m\u001b[0m\n\u001b[1;32m     18\u001b[0m     \u001b[0mos\u001b[0m\u001b[0;34m.\u001b[0m\u001b[0mmkdir\u001b[0m\u001b[0;34m(\u001b[0m\u001b[0mAUD_ROOT\u001b[0m \u001b[0;34m+\u001b[0m \u001b[0mFNAME\u001b[0m\u001b[0;34m)\u001b[0m\u001b[0;34m\u001b[0m\u001b[0m\n\u001b[0;32m---> 19\u001b[0;31m \u001b[0mdf\u001b[0m \u001b[0;34m=\u001b[0m \u001b[0mpd\u001b[0m\u001b[0;34m.\u001b[0m\u001b[0mread_csv\u001b[0m\u001b[0;34m(\u001b[0m\u001b[0mCSV\u001b[0m\u001b[0;34m,\u001b[0m \u001b[0;34m\",\"\u001b[0m\u001b[0;34m)\u001b[0m\u001b[0;34m\u001b[0m\u001b[0m\n\u001b[0m\u001b[1;32m     20\u001b[0m \u001b[0mdf\u001b[0m \u001b[0;34m=\u001b[0m \u001b[0mdf\u001b[0m\u001b[0;34m.\u001b[0m\u001b[0mdropna\u001b[0m\u001b[0;34m(\u001b[0m\u001b[0;34m)\u001b[0m\u001b[0;34m\u001b[0m\u001b[0m\n\u001b[1;32m     21\u001b[0m \u001b[0mch1_df\u001b[0m \u001b[0;34m=\u001b[0m \u001b[0mdf\u001b[0m\u001b[0;34m[\u001b[0m\u001b[0;34m'ch1'\u001b[0m\u001b[0;34m]\u001b[0m\u001b[0;34m.\u001b[0m\u001b[0mtolist\u001b[0m\u001b[0;34m(\u001b[0m\u001b[0;34m)\u001b[0m\u001b[0;34m\u001b[0m\u001b[0m\n",
      "\u001b[0;31mNameError\u001b[0m: name 'CSV' is not defined"
     ]
    }
   ],
   "source": [
    "# Get latest recorded txt file from OpenBCI savedData folder\n",
    "\n",
    "\n",
    "\n",
    "newFile_path = newest(SAVED_DATA)\n",
    "newFile = open(newFile_path, 'r')\n",
    "if newFile.readline()[0] not 0:\n",
    "    lines = newFile.readlines()[6:]\n",
    "newFile.close()\n",
    "\n",
    "if FNAME + '.txt' not in os.listdir(ROOT):\n",
    "    os.mkdir(AUD_ROOT + FNAME)\n",
    "\n",
    "fixed = open(AUD_ROOT + FNAME + \"/\" + FNAME, 'w')\n",
    "fixed.write(\"id,ch1,ch2,ch3,ch4,na1,na2,na3,timestamp\")\n",
    "for line in lines:\n",
    "    fixed.write(line)\n",
    "fixed.close()\n",
    "\n",
    "if FNAME not in os.listdir(AUD_ROOT):\n",
    "    os.mkdir(AUD_ROOT + FNAME)\n",
    "df = pd.read_csv(newFile_path, \",\")\n",
    "df = df.dropna()\n",
    "ch1_df = df['ch1'].tolist()\n",
    "ch2_df = df['ch2'].tolist()\n",
    "ch3_df = df['ch3'].tolist()\n",
    "ch4_df = df['ch4'].tolist()"
   ]
  },
  {
   "cell_type": "code",
   "execution_count": 16,
   "metadata": {},
   "outputs": [
    {
     "name": "stdout",
     "output_type": "stream",
     "text": [
      "239511\n"
     ]
    }
   ],
   "source": [
    "print(len(ch1_df))"
   ]
  },
  {
   "cell_type": "code",
   "execution_count": 18,
   "metadata": {},
   "outputs": [
    {
     "name": "stdout",
     "output_type": "stream",
     "text": [
      "899.06\n",
      "01 channel wav file conversion done!\n",
      "5992.68\n",
      "02 channel wav file conversion done!\n",
      "211.24\n",
      "03 channel wav file conversion done!\n",
      "258.18\n",
      "04 channel wav file conversion done!\n",
      "##########################################\n",
      "           ALL DONE! \n",
      "##########################################\n"
     ]
    }
   ],
   "source": [
    "channel2wav(ch1_df, OUTPUT, \"01\")\n",
    "channel2wav(ch2_df, OUTPUT, \"02\")\n",
    "channel2wav(ch3_df, OUTPUT, \"03\")\n",
    "channel2wav(ch4_df, OUTPUT, \"04\")\n",
    "print(\"#\" * 42)\n",
    "print(\"           ALL DONE! \")\n",
    "print(\"#\" * 42)"
   ]
  },
  {
   "cell_type": "code",
   "execution_count": null,
   "metadata": {
    "collapsed": true
   },
   "outputs": [],
   "source": []
  },
  {
   "cell_type": "code",
   "execution_count": null,
   "metadata": {
    "collapsed": true
   },
   "outputs": [],
   "source": []
  },
  {
   "cell_type": "code",
   "execution_count": null,
   "metadata": {
    "collapsed": true
   },
   "outputs": [],
   "source": []
  }
 ],
 "metadata": {
  "kernelspec": {
   "display_name": "Python 3",
   "language": "python",
   "name": "python3"
  },
  "language_info": {
   "codemirror_mode": {
    "name": "ipython",
    "version": 3
   },
   "file_extension": ".py",
   "mimetype": "text/x-python",
   "name": "python",
   "nbconvert_exporter": "python",
   "pygments_lexer": "ipython3",
   "version": "3.6.5"
  }
 },
 "nbformat": 4,
 "nbformat_minor": 2
}
