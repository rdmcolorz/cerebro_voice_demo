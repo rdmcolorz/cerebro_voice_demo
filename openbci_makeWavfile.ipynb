{
 "cells": [
  {
   "cell_type": "code",
   "execution_count": 77,
   "metadata": {},
   "outputs": [],
   "source": [
    "import os, shutil, re, datetime\n",
    "import pandas as pd\n",
    "import numpy as np\n",
    "import matplotlib.pyplot as plt\n",
    "from scipy import signal\n",
    "from scipy.io import wavfile\n",
    "from scipy.signal import resample\n",
    "\n",
    "%matplotlib inline"
   ]
  },
  {
   "cell_type": "code",
   "execution_count": 78,
   "metadata": {},
   "outputs": [],
   "source": [
    "# Change VARS\n",
    "PERSON = \"taylor\"\n",
    "TRYS = 5\n",
    "SAVED_DATA = \"/Users/42robotics/Documents/Processing/OpenBCI_GUI/OpenBCI_GUI/SavedData\"\n",
    "NB_CHANNELS = 4\n",
    "\n",
    "# Const VARS\n",
    "DATE = datetime.datetime.today().strftime('%m_%d')\n",
    "FNAME = \"{}{}_{}\".format(PERSON,TRYS,DATE)\n",
    "RESAMPLE = True\n",
    "ROOT = os.getcwd() + \"/openbci_data/raw_data\"\n",
    "AUD_ROOT = os.getcwd() + \"/openbci_data/openbci_to_wav/\"\n",
    "OUTPUT = AUD_ROOT + FNAME\n",
    "IMG_EXT = \".png\"\n",
    "VERBOSITY = 1000"
   ]
  },
  {
   "cell_type": "code",
   "execution_count": 79,
   "metadata": {},
   "outputs": [],
   "source": [
    "def newest(path):\n",
    "    files = [f for f in os.listdir(path) if not f.startswith('.')]\n",
    "    paths = [os.path.join(path, basename) for basename in files]\n",
    "    return max(paths, key=os.path.getctime)"
   ]
  },
  {
   "cell_type": "code",
   "execution_count": 80,
   "metadata": {},
   "outputs": [],
   "source": [
    "def channel2wav(ch_data, fname, channel):\n",
    "    data = np.array(ch_data, dtype='float64')\n",
    "    print(\"channel {} max: {}\".format(channel, np.max(np.abs(data))))\n",
    "    data /= np.max(np.abs(data))\n",
    "    if RESAMPLE == True:\n",
    "        data = resample(data, len(data) * 40)\n",
    "    wavfile.write(fname + \"/\" + channel + '.wav', 201, data)\n",
    "    print(\"{} channel wav file conversion done!\".format(channel))"
   ]
  },
  {
   "cell_type": "code",
   "execution_count": 81,
   "metadata": {},
   "outputs": [
    {
     "name": "stdout",
     "output_type": "stream",
     "text": [
      "channel 01 max: 21.05\n",
      "01 channel wav file conversion done!\n",
      "channel 02 max: 49.69\n",
      "02 channel wav file conversion done!\n",
      "channel 03 max: 19.1\n",
      "03 channel wav file conversion done!\n",
      "channel 04 max: 31.29\n",
      "04 channel wav file conversion done!\n"
     ]
    }
   ],
   "source": [
    "# Get latest recorded file from OpenBCI savedData folder\n",
    "\n",
    "newFile_path = newest(SAVED_DATA)\n",
    "newFile = open(newFile_path, 'r')\n",
    "lines = newFile.readlines()[6:-1]\n",
    "newFile.close()\n",
    "\n",
    "if FNAME not in os.listdir(AUD_ROOT):\n",
    "    os.mkdir(AUD_ROOT + FNAME)\n",
    "\n",
    "fixed = open(AUD_ROOT + FNAME + \"/\" + FNAME, 'w')\n",
    "fixed.write(\"id,ch1,ch2,ch3,ch4,na1,na2,na3,timestamp\\n\")\n",
    "for line in lines:\n",
    "    fixed.write(line)\n",
    "fixed.close()\n",
    "\n",
    "df = pd.read_csv(AUD_ROOT + FNAME + \"/\" + FNAME, \",\")\n",
    "\n",
    "# Convert txtfile into wavfiles from ch1 to NB_CHANNELS\n",
    "\n",
    "for ch in range(1,NB_CHANNELS+1):\n",
    "    ch_df = df['ch{}'.format(ch)].tolist()\n",
    "    channel2wav(ch_df, OUTPUT, \"0{}\".format(ch))\n",
    "\n",
    "# cleanup\n",
    "if os.path.exists(AUD_ROOT + FNAME + \"/\" + FNAME):\n",
    "    os.remove(AUD_ROOT + FNAME + \"/\" + FNAME)"
   ]
  },
  {
   "cell_type": "code",
   "execution_count": null,
   "metadata": {},
   "outputs": [],
   "source": []
  }
 ],
 "metadata": {
  "kernelspec": {
   "display_name": "Python 3",
   "language": "python",
   "name": "python3"
  },
  "language_info": {
   "codemirror_mode": {
    "name": "ipython",
    "version": 3
   },
   "file_extension": ".py",
   "mimetype": "text/x-python",
   "name": "python",
   "nbconvert_exporter": "python",
   "pygments_lexer": "ipython3",
   "version": "3.6.4"
  }
 },
 "nbformat": 4,
 "nbformat_minor": 2
}
