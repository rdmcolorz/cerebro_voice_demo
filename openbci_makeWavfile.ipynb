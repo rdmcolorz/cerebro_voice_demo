{
 "cells": [
  {
   "cell_type": "code",
   "execution_count": 1,
   "metadata": {},
   "outputs": [],
   "source": [
    "import os, shutil, re\n",
    "import pandas as pd\n",
    "from helpers import *\n",
    "import numpy as np\n",
    "import matplotlib.pyplot as plt\n",
    "from scipy import signal\n",
    "from scipy.io import wavfile\n",
    "from scipy.signal import resample\n",
    "import librosa\n",
    "import librosa.display\n",
    "from pydub import AudioSegment\n",
    "from datetime import datetime\n",
    "from helpers import *\n",
    "%matplotlib inline"
   ]
  },
  {
   "cell_type": "code",
   "execution_count": 2,
   "metadata": {},
   "outputs": [],
   "source": [
    "# replace this with your root directory\n",
    "ROOT = os.getcwd() + \"/openbci_data/\"\n",
    "AUD_ROOT = os.getcwd() + \"/audio/no_voice/\"\n",
    "pattern = \"[0-9]{2}_[0-9]{2}\"\n",
    "\n",
    "\"\"\"\n",
    "Expected directory structure:\n",
    "[INSIDE ROOT DIRECTORY]\n",
    "---- [category] voice, no_voice\n",
    "-------- [date] 07_02, 07_09, ...\n",
    "------------ [label] down, go, ...\n",
    "---------------- [channel] ch1, ch2, ...\n",
    "-------------------- [wave files] *.wav\n",
    "\"\"\"\n",
    "# VARS \n",
    "\n",
    "VALID_LABELS = [\"yes\", \"no\", \"stop\", \"go\", \"right\", \"left\", \"down\", \"up\", \"on\", \"off\", \"test\"]\n",
    "USELESS = [\"ch2\", \"ch4\", \"na1\", \"na2\", \"na3\"]\n",
    "IMG_EXT = \".png\"\n",
    "VERBOSITY = 1000"
   ]
  },
  {
   "cell_type": "code",
   "execution_count": 3,
   "metadata": {
    "collapsed": true
   },
   "outputs": [],
   "source": [
    "# def write_wav(data, filename, framerate, amplitude):\n",
    "#     wavfile = wave.open(filename, 'w')\n",
    "#     nchannels = 1\n",
    "#     sampwidth = 2\n",
    "#     framerate = framerate\n",
    "#     nframes = len(data)\n",
    "#     comptypte = \"NONE\"\n",
    "#     compname = \"not compressed\"\n",
    "#     wavfile.setparams((nchannels,\n",
    "#                       sampwidth,\n",
    "#                       framerate,\n",
    "#                       nframes,\n",
    "#                       comptype,\n",
    "#                       compname))\n",
    "#     frames = []\n",
    "#     for s in data:\n",
    "#         mul = int(s * amplitude)\n",
    "#         frames.append(struct.pack('h', mul))\n",
    "#     frames = ''.join(frames)\n",
    "#     wavfile.writeframes(frames)\n",
    "#     wavfile.close()"
   ]
  },
  {
   "cell_type": "code",
   "execution_count": 4,
   "metadata": {},
   "outputs": [],
   "source": [
    "def timestamp2milsec(timestamp):\n",
    "    timesplit = timestamp.split('.')\n",
    "    if len(timesplit) == 2:\n",
    "        milsec = int(timesplit[1])\n",
    "        time = timesplit[0].split(':')\n",
    "        time_milsec = int(time[0]) * 60 * 60 * 1000 + int(time[1]) * 60 * 1000 + int(time[2]) * 1000 + milsec\n",
    "        return time_milsec"
   ]
  },
  {
   "cell_type": "code",
   "execution_count": 5,
   "metadata": {},
   "outputs": [],
   "source": [
    "# to do: make it so we can change label number dynamically\n",
    "\n",
    "def make_image(channel_data, ch_name): \n",
    "    channel = channel_data[ch_name]\n",
    "    time = range(400)\n",
    "    samples = len(channel) // 400\n",
    "    x_counter = 0\n",
    "    y_counter = 0\n",
    "    i = 0\n",
    "    while i < samples:\n",
    "        curr = channel.iloc[:400]\n",
    "        fig = plt.figure(figsize=(1.28, 1.28), dpi=100, frameon=False)\n",
    "        plt.plot(time, curr)\n",
    "        plt.ylim(-700, 700)\n",
    "        fig.subplots_adjust(bottom = 0)\n",
    "        fig.subplots_adjust(top = 1)\n",
    "        fig.subplots_adjust(right = 1)\n",
    "        fig.subplots_adjust(left = 0)\n",
    "        plt.axis('off')\n",
    "        if i % 2 == 0:\n",
    "            fig.savefig(IMG_ROOT + \"/no/\" + ch_name + \"/\" + str(x_counter).zfill(4) + IMG_EXT, pad_inches=0)\n",
    "            x_counter += 1\n",
    "        else:\n",
    "            fig.savefig(IMG_ROOT + \"/yes/\" + ch_name + \"/\" + str(y_counter).zfill(4) + IMG_EXT, pad_inches=0)\n",
    "            y_counter += 1\n",
    "        plt.close()\n",
    "        channel = channel.iloc[400:]\n",
    "        i += 1"
   ]
  },
  {
   "cell_type": "code",
   "execution_count": 6,
   "metadata": {},
   "outputs": [
    {
     "name": "stderr",
     "output_type": "stream",
     "text": [
      "/usr/local/lib/python3.6/site-packages/IPython/core/interactiveshell.py:2785: DtypeWarning: Columns (1) have mixed types. Specify dtype option on import or set low_memory=False.\n",
      "  interactivity=interactivity, compiler=compiler, result=result)\n"
     ]
    },
    {
     "data": {
      "text/html": [
       "<div>\n",
       "<style scoped>\n",
       "    .dataframe tbody tr th:only-of-type {\n",
       "        vertical-align: middle;\n",
       "    }\n",
       "\n",
       "    .dataframe tbody tr th {\n",
       "        vertical-align: top;\n",
       "    }\n",
       "\n",
       "    .dataframe thead th {\n",
       "        text-align: right;\n",
       "    }\n",
       "</style>\n",
       "<table border=\"1\" class=\"dataframe\">\n",
       "  <thead>\n",
       "    <tr style=\"text-align: right;\">\n",
       "      <th></th>\n",
       "      <th>Id</th>\n",
       "      <th>ch1</th>\n",
       "      <th>ch3</th>\n",
       "      <th>timestamp</th>\n",
       "    </tr>\n",
       "  </thead>\n",
       "  <tbody>\n",
       "    <tr>\n",
       "      <th>419591</th>\n",
       "      <td>106</td>\n",
       "      <td>221.97</td>\n",
       "      <td>8.38</td>\n",
       "      <td>22:49:30.312</td>\n",
       "    </tr>\n",
       "    <tr>\n",
       "      <th>419592</th>\n",
       "      <td>107</td>\n",
       "      <td>213.42</td>\n",
       "      <td>7.94</td>\n",
       "      <td>22:49:30.326</td>\n",
       "    </tr>\n",
       "    <tr>\n",
       "      <th>419593</th>\n",
       "      <td>108</td>\n",
       "      <td>259.17</td>\n",
       "      <td>11.52</td>\n",
       "      <td>22:49:30.326</td>\n",
       "    </tr>\n",
       "    <tr>\n",
       "      <th>419594</th>\n",
       "      <td>109</td>\n",
       "      <td>235.83</td>\n",
       "      <td>4.29</td>\n",
       "      <td>22:49:30.328</td>\n",
       "    </tr>\n",
       "    <tr>\n",
       "      <th>419595</th>\n",
       "      <td>110</td>\n",
       "      <td>194.61</td>\n",
       "      <td>10.09</td>\n",
       "      <td>22:49:30.328</td>\n",
       "    </tr>\n",
       "  </tbody>\n",
       "</table>\n",
       "</div>"
      ],
      "text/plain": [
       "         Id      ch1    ch3      timestamp\n",
       "419591  106   221.97   8.38   22:49:30.312\n",
       "419592  107   213.42   7.94   22:49:30.326\n",
       "419593  108   259.17  11.52   22:49:30.326\n",
       "419594  109   235.83   4.29   22:49:30.328\n",
       "419595  110   194.61  10.09   22:49:30.328"
      ]
     },
     "execution_count": 6,
     "metadata": {},
     "output_type": "execute_result"
    }
   ],
   "source": [
    "# read csv(txt) file write to another csv file to convert into wav files\n",
    "\n",
    "df = pd.read_csv(\"./openbci_raw_09_22/09_22_21/09_22_21.txt\", \",\")\n",
    "df = df.drop(columns=USELESS)\n",
    "df = df.dropna()\n",
    "ch1_df = df['ch1'].tolist()\n",
    "# ch3_df = df['ch3'].tolist()\n",
    "\n",
    "# df['timestamp'] = df['timestamp'].map(timestamp2milsec)\n",
    "# df['timestamp'] = df['timestamp'].map(lambda x: x - df['timestamp'].iloc[0])\n",
    "\n",
    "df.tail()"
   ]
  },
  {
   "cell_type": "code",
   "execution_count": 10,
   "metadata": {},
   "outputs": [],
   "source": [
    "def channel2wav(ch_data, fname):\n",
    "    data = np.array(ch_data, dtype='float64')\n",
    "    data /= np.max(np.abs(data))\n",
    "    data_resampled = resample(data, len(data))\n",
    "    wavfile.write(fname + '.wav', 200, data_resampled)\n",
    "    print(\"wav file conversion done\")"
   ]
  },
  {
   "cell_type": "code",
   "execution_count": 12,
   "metadata": {},
   "outputs": [
    {
     "name": "stdout",
     "output_type": "stream",
     "text": [
      "wav file conversion done\n"
     ]
    }
   ],
   "source": [
    "channel2wav(ch1_df, 'ch1')\n",
    "# channel2wav(ch3_df, 'ch3')"
   ]
  }
 ],
 "metadata": {
  "kernelspec": {
   "display_name": "Python 3",
   "language": "python",
   "name": "python3"
  },
  "language_info": {
   "codemirror_mode": {
    "name": "ipython",
    "version": 3
   },
   "file_extension": ".py",
   "mimetype": "text/x-python",
   "name": "python",
   "nbconvert_exporter": "python",
   "pygments_lexer": "ipython3",
   "version": "3.6.5"
  }
 },
 "nbformat": 4,
 "nbformat_minor": 2
}
