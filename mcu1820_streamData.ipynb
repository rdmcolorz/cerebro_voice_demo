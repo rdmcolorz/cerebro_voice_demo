{
 "cells": [
  {
   "cell_type": "code",
   "execution_count": 1,
   "metadata": {
    "collapsed": true
   },
   "outputs": [],
   "source": [
    "import pyaudio\n",
    "import wave\n",
    "from scipy.io.wavfile import write\n",
    " \n",
    "#VARS \n",
    "FORMAT = pyaudio.paInt16\n",
    "CHANNELS = 8\n",
    "RATE = 44100\n",
    "CHUNK = 1024\n",
    "RECORD_SECONDS = 1\n",
    "DEVICE_ID = 2 # UMC 1820 index is 2 on my mac, use audio.get_device_info_by_index(i)\n",
    "WAVE_OUTPUT_FILENAME = \"./audio/predict/file.wav\"\n",
    " \n",
    "audio = pyaudio.PyAudio()"
   ]
  },
  {
   "cell_type": "code",
   "execution_count": 2,
   "metadata": {
    "scrolled": true
   },
   "outputs": [
    {
     "data": {
      "text/plain": [
       "{'index': 2,\n",
       " 'structVersion': 2,\n",
       " 'name': 'UMC1820',\n",
       " 'hostApi': 0,\n",
       " 'maxInputChannels': 10,\n",
       " 'maxOutputChannels': 12,\n",
       " 'defaultLowInputLatency': 0.01,\n",
       " 'defaultLowOutputLatency': 0.0035147392290249433,\n",
       " 'defaultHighInputLatency': 0.1,\n",
       " 'defaultHighOutputLatency': 0.013673469387755101,\n",
       " 'defaultSampleRate': 44100.0}"
      ]
     },
     "execution_count": 2,
     "metadata": {},
     "output_type": "execute_result"
    }
   ],
   "source": [
    "audio.get_device_info_by_index(2)"
   ]
  },
  {
   "cell_type": "code",
   "execution_count": 3,
   "metadata": {
    "collapsed": true
   },
   "outputs": [],
   "source": [
    "# def decode(in_data, channels):\n",
    "#     \"\"\"\n",
    "#     Convert a byte stream into a 2D numpy array with \n",
    "#     shape (chunk_size, channels)\n",
    "\n",
    "#     Samples are interleaved, so for a stereo stream with left channel \n",
    "#     of [L0, L1, L2, ...] and right channel of [R0, R1, R2, ...], the output \n",
    "#     is ordered as [L0, R0, L1, R1, ...]\n",
    "#     \"\"\"\n",
    "#     # TODO: handle data type as parameter, convert between pyaudio/numpy types\n",
    "#     result = np.fromstring(in_data, dtype=np.float32)\n",
    "\n",
    "#     chunk_length = len(result) // channels\n",
    "#     assert chunk_length == int(chunk_length)\n",
    "\n",
    "#     result = np.reshape(result, (chunk_length, channels))\n",
    "#     return result\n",
    "\n",
    "\n",
    "# def encode(signal):\n",
    "#     \"\"\"\n",
    "#     Convert a 2D numpy array into a byte stream for PyAudio\n",
    "\n",
    "#     Signal should be a numpy array with shape (chunk_size, channels)\n",
    "#     \"\"\"\n",
    "#     interleaved = signal.flatten()\n",
    "\n",
    "#     # TODO: handle data type as parameter, convert between pyaudio/numpy types\n",
    "#     out_data = interleaved.astype(np.float32).tostring()\n",
    "#     return out_data"
   ]
  },
  {
   "cell_type": "code",
   "execution_count": 4,
   "metadata": {},
   "outputs": [
    {
     "name": "stdout",
     "output_type": "stream",
     "text": [
      "recording...\n",
      "finished recording\n"
     ]
    }
   ],
   "source": [
    "# start Recording\n",
    "stream = audio.open(format=FORMAT, \n",
    "                    channels=CHANNELS,\n",
    "                    rate=RATE, \n",
    "                    input=True,\n",
    "                    input_device_index=DEVICE_ID,\n",
    "                    frames_per_buffer=CHUNK)\n",
    "\n",
    "print(\"recording...\")\n",
    "frames = []\n",
    "\n",
    "for i in range(0, int(RATE / CHUNK * RECORD_SECONDS)):\n",
    "    rawsamps = stream.read(CHUNK)\n",
    "    frames.append(rawsamps)\n",
    "\n",
    "print(\"finished recording\")\n",
    "\n",
    "# stop Recording\n",
    "stream.stop_stream()\n",
    "stream.close()\n",
    "# audio.terminate()\n",
    "\n",
    "# write(\"eight.wav\", 44100, data)\n",
    "waveFile = wave.open(WAVE_OUTPUT_FILENAME, 'wb')\n",
    "waveFile.setnchannels(CHANNELS)\n",
    "waveFile.setsampwidth(audio.get_sample_size(FORMAT))\n",
    "waveFile.setframerate(RATE)\n",
    "waveFile.writeframes(b''.join(frames))\n",
    "waveFile.close()"
   ]
  },
  {
   "cell_type": "code",
   "execution_count": 5,
   "metadata": {
    "collapsed": true
   },
   "outputs": [],
   "source": [
    "!sox {WAVE_OUTPUT_FILENAME} \"./audio/no_voice/09_25/yes/ch1/0000.wav\" remix 1\n",
    "!sox {WAVE_OUTPUT_FILENAME} \"./audio/no_voice/09_25/yes/ch2/0000.wav\" remix 2\n",
    "!sox {WAVE_OUTPUT_FILENAME} \"./audio/no_voice/09_25/yes/ch3/0000.wav\" remix 3\n",
    "!sox {WAVE_OUTPUT_FILENAME} \"./audio/no_voice/09_25/yes/ch4/0000.wav\" remix 4\n",
    "!sox {WAVE_OUTPUT_FILENAME} \"./audio/no_voice/09_25/yes/ch5/0000.wav\" remix 5\n",
    "!sox {WAVE_OUTPUT_FILENAME} \"./audio/no_voice/09_25/yes/ch6/0000.wav\" remix 6\n",
    "!sox {WAVE_OUTPUT_FILENAME} \"./audio/no_voice/09_25/yes/ch7/0000.wav\" remix 7\n",
    "!sox {WAVE_OUTPUT_FILENAME} \"./audio/no_voice/09_25/yes/ch8/0000.wav\" remix 8"
   ]
  },
  {
   "cell_type": "code",
   "execution_count": null,
   "metadata": {
    "collapsed": true
   },
   "outputs": [],
   "source": []
  },
  {
   "cell_type": "code",
   "execution_count": null,
   "metadata": {
    "collapsed": true
   },
   "outputs": [],
   "source": []
  },
  {
   "cell_type": "code",
   "execution_count": null,
   "metadata": {
    "collapsed": true
   },
   "outputs": [],
   "source": []
  }
 ],
 "metadata": {
  "kernelspec": {
   "display_name": "Python 3",
   "language": "python",
   "name": "python3"
  },
  "language_info": {
   "codemirror_mode": {
    "name": "ipython",
    "version": 3
   },
   "file_extension": ".py",
   "mimetype": "text/x-python",
   "name": "python",
   "nbconvert_exporter": "python",
   "pygments_lexer": "ipython3",
   "version": "3.6.5"
  }
 },
 "nbformat": 4,
 "nbformat_minor": 2
}
