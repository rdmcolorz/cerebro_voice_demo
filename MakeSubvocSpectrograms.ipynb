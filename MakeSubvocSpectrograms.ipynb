{
 "cells": [
  {
   "cell_type": "code",
   "execution_count": 13,
   "metadata": {
    "collapsed": true
   },
   "outputs": [],
   "source": [
    "import os, shutil, re\n",
    "from helpers import *\n",
    "import numpy as np\n",
    "import matplotlib.pyplot as plt\n",
    "from scipy import signal\n",
    "from scipy.io import wavfile\n",
    "import librosa\n",
    "import librosa.display\n",
    "from helpers import *\n",
    "%matplotlib inline"
   ]
  },
  {
   "cell_type": "code",
   "execution_count": 14,
   "metadata": {
    "collapsed": true
   },
   "outputs": [],
   "source": [
    "# replace this with your root directory\n",
    "FILE_NAME = \"taylor6_12_03/\"\n",
    "ROOT = os.getcwd() + \"/audio/\" + FILE_NAME\n",
    "IMG_ROOT = os.getcwd() + \"/images_scaled/\" + FILE_NAME\n",
    "pattern = \"[0-9]{2}_[0-9]{2}\"\n",
    "\n",
    "if not os.path.isdir(IMG_ROOT):\n",
    "    os.mkdir(IMG_ROOT)\n",
    "\n",
    "\"\"\"\n",
    "Expected directory structure:\n",
    "[INSIDE ROOT DIRECTORY]\n",
    "---- [category] voice, no_voice\n",
    "-------- [date] 07_02, 07_09, ...\n",
    "------------ [label] down, go, ...\n",
    "---------------- [channel] ch1, ch2, ...\n",
    "-------------------- [wave files] *.wav\n",
    "\"\"\"\n",
    "\n",
    "VALID_LABELS = [\"one\", \"two\", \"---\"]\n",
    "IMG_EXT = \".png\"\n",
    "VERBOSITY = 1000"
   ]
  },
  {
   "cell_type": "code",
   "execution_count": 15,
   "metadata": {
    "collapsed": true
   },
   "outputs": [],
   "source": [
    "def preprocess(samples, sample_rate, multiplier=1):\n",
    "    sr = sample_rate * multiplier\n",
    "    padded = np.zeros(sr)\n",
    "    samples = samples[:sr]\n",
    "    padded[:samples.shape[0]] = samples\n",
    "    return padded\n",
    "\n",
    "def make_dir(path):\n",
    "    if not os.path.isdir(path):\n",
    "        os.mkdir(path)"
   ]
  },
  {
   "cell_type": "code",
   "execution_count": 16,
   "metadata": {
    "collapsed": true
   },
   "outputs": [],
   "source": [
    "def process(input_dir, output_dir, overwrite=False):\n",
    "    items = 0\n",
    "    created = 0\n",
    "    found = 0\n",
    "    date_mult = {\"08_08\":2, \"08_11\":2, \"08_14\":2}\n",
    "    plt.ioff()\n",
    "    for date in [x for x in os.listdir(input_dir) if re.match(pattern, x)]:\n",
    "        multiplier = 1\n",
    "        if date in date_mult:\n",
    "            multiplier = date_mult[date]\n",
    "        date_path = os.path.join(input_dir, date)\n",
    "        o_date_path = os.path.join(output_dir, date)\n",
    "        make_dir(o_date_path)\n",
    "        for label in [d for d in os.listdir(date_path) if d in VALID_LABELS]:\n",
    "            label_path = os.path.join(date_path, label)\n",
    "            o_label_path = os.path.join(o_date_path, label)\n",
    "            make_dir(o_label_path)\n",
    "            print(\"\\tProcessing: {}\".format(label_path))\n",
    "            print(\"\\tTime: {}\".format(curr_time()))\n",
    "            for channel in [d for d in os.listdir(label_path) if d.startswith(\"ch\")]:\n",
    "                voice = False\n",
    "                ch = int(channel[2:])\n",
    "                if ch == 4 or ch >= 9:\n",
    "                    voice = True\n",
    "                channel_path = os.path.join(label_path, channel)\n",
    "                o_channel_path = os.path.join(o_label_path, channel)\n",
    "                make_dir(o_channel_path)\n",
    "                channel_num = channel[-1]\n",
    "                for file in [f for f in os.listdir(channel_path) if f.endswith(\".wav\")]:\n",
    "                    items += 1\n",
    "                    wavpath = os.path.join(channel_path, file)\n",
    "                    imgpath = os.path.join(o_channel_path, file[:-4] + IMG_EXT)\n",
    "                    if overwrite or not os.path.isfile(imgpath):\n",
    "                        created += 1\n",
    "                        if items % VERBOSITY == 0:\n",
    "                            print(\"\\t\\tCreated {}th image\".format(items))\n",
    "                        sample_rate, samples = wavfile.read(wavpath)\n",
    "                        samples = preprocess(samples, sample_rate, multiplier)\n",
    "#                         freqs, times, spectrogram = signal.spectrogram(samples, sample_rate)\n",
    "                        if voice:\n",
    "                            S = librosa.feature.melspectrogram(samples, sr=sample_rate, n_mels=128)\n",
    "                        else:\n",
    "                            S = librosa.feature.melspectrogram(samples, sr=sample_rate, n_mels=128, fmax=512)\n",
    "                        log_S = librosa.power_to_db(S, ref=np.max)\n",
    "                        fig = plt.figure(figsize=(1.28, 1.28), dpi=100, frameon=False)\n",
    "                        ax = plt.Axes(fig, [0., 0., 1., 1.])\n",
    "                        ax.set_axis_off()\n",
    "                        fig.add_axes(ax)\n",
    "                        plt.axis('off')\n",
    "                        librosa.display.specshow(log_S)                          \n",
    "                        plt.savefig(imgpath)\n",
    "                        plt.close()\n",
    "                    else:\n",
    "                        found += 1\n",
    "                        if items % VERBOSITY == 0:\n",
    "                            print(\"\\t\\tFound {}th image\".format(items))\n",
    "    print(\"\\tFound:\\t\\t{}\\n\\tCreated:\\t{}\".format(found, created))\n",
    "    plt.ion()"
   ]
  },
  {
   "cell_type": "code",
   "execution_count": 17,
   "metadata": {
    "collapsed": true
   },
   "outputs": [],
   "source": [
    "dir_pairs = {\n",
    "    ROOT+\"voice\":IMG_ROOT+\"voice\",\n",
    "    ROOT+\"no_voice\":IMG_ROOT+\"no_voice\"\n",
    "}"
   ]
  },
  {
   "cell_type": "code",
   "execution_count": 18,
   "metadata": {},
   "outputs": [
    {
     "name": "stdout",
     "output_type": "stream",
     "text": [
      "Start: 2018-12-03 15:14:14.029533\n",
      "\tFound:\t\t0\n",
      "\tCreated:\t0\n",
      "End: 2018-12-03 15:14:14.030427\n",
      "Finished in 00:00:00:00.000766\n",
      "Start: 2018-12-03 15:14:14.031014\n",
      "\tProcessing: /Users/kyy/cerebro_train/audio/taylor6_12_03/no_voice/12_03/one\n",
      "\tTime: 2018-12-03 15:14:14.032485\n",
      "\t\tCreated 1000th image\n",
      "\t\tCreated 2000th image\n",
      "\tProcessing: /Users/kyy/cerebro_train/audio/taylor6_12_03/no_voice/12_03/two\n",
      "\tTime: 2018-12-03 15:15:08.088083\n",
      "\t\tCreated 3000th image\n",
      "\t\tCreated 4000th image\n",
      "\tFound:\t\t0\n",
      "\tCreated:\t4656\n",
      "End: 2018-12-03 15:16:02.715883\n",
      "Finished in 00:00:01:48.685\n"
     ]
    }
   ],
   "source": [
    "for input_dir in dir_pairs:\n",
    "    output_dir = dir_pairs[input_dir]\n",
    "    if not os.path.isdir(output_dir):\n",
    "        os.mkdir(output_dir)\n",
    "    timer(process, input_dir, output_dir)"
   ]
  },
  {
   "cell_type": "code",
   "execution_count": null,
   "metadata": {
    "collapsed": true
   },
   "outputs": [],
   "source": []
  },
  {
   "cell_type": "code",
   "execution_count": null,
   "metadata": {
    "collapsed": true
   },
   "outputs": [],
   "source": []
  },
  {
   "cell_type": "code",
   "execution_count": null,
   "metadata": {
    "collapsed": true
   },
   "outputs": [],
   "source": []
  },
  {
   "cell_type": "code",
   "execution_count": null,
   "metadata": {
    "collapsed": true
   },
   "outputs": [],
   "source": []
  },
  {
   "cell_type": "code",
   "execution_count": null,
   "metadata": {
    "collapsed": true
   },
   "outputs": [],
   "source": []
  }
 ],
 "metadata": {
  "kernelspec": {
   "display_name": "Python 3",
   "language": "python",
   "name": "python3"
  },
  "language_info": {
   "codemirror_mode": {
    "name": "ipython",
    "version": 3
   },
   "file_extension": ".py",
   "mimetype": "text/x-python",
   "name": "python",
   "nbconvert_exporter": "python",
   "pygments_lexer": "ipython3",
   "version": "3.6.5"
  }
 },
 "nbformat": 4,
 "nbformat_minor": 2
}
