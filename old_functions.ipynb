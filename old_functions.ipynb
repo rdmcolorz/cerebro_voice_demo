{
 "cells": [
  {
   "cell_type": "code",
   "execution_count": null,
   "metadata": {
    "collapsed": true
   },
   "outputs": [],
   "source": [
    "def process(input_dir, output_dir, overwrite=False):\n",
    "    items = 0\n",
    "    created = 0\n",
    "    found = 0\n",
    "    date_mult = {\"08_08\":2, \"08_11\":2, \"08_14\":2}\n",
    "    plt.ioff()\n",
    "    for date in [x for x in os.listdir(input_dir) if re.match(pattern, x)]:\n",
    "        multiplier = 1\n",
    "        if date in date_mult:\n",
    "            multiplier = date_mult[date]\n",
    "        date_path = os.path.join(input_dir, date)\n",
    "        o_date_path = os.path.join(output_dir, date)\n",
    "        make_dir(o_date_path)\n",
    "        for label in [d for d in os.listdir(date_path) if d in VALID_LABELS]:\n",
    "            label_path = os.path.join(date_path, label)\n",
    "            o_label_path = os.path.join(o_date_path, label)\n",
    "            make_dir(o_label_path)\n",
    "            print(\"\\tProcessing: {}\".format(label_path))\n",
    "            print(\"\\tTime: {}\".format(curr_time()))\n",
    "            for channel in [d for d in os.listdir(label_path) if d.startswith(\"ch\")]:\n",
    "                voice = False\n",
    "                ch = int(channel[2:])\n",
    "                if ch == 4 or ch >= 9:\n",
    "                    voice = True\n",
    "                channel_path = os.path.join(label_path, channel)\n",
    "                o_channel_path = os.path.join(o_label_path, channel)\n",
    "                make_dir(o_channel_path)\n",
    "                channel_num = channel[-1]\n",
    "                for file in [f for f in os.listdir(channel_path) if f.endswith(\".wav\")]:\n",
    "                    items += 1\n",
    "                    wavpath = os.path.join(channel_path, file)\n",
    "                    imgpath = os.path.join(o_channel_path, file[:-4] + IMG_EXT)\n",
    "                    if overwrite or not os.path.isfile(imgpath):\n",
    "                        created += 1\n",
    "                        if items % VERBOSITY == 0:\n",
    "                            print(\"\\t\\tCreated {}th image\".format(items))\n",
    "                        sample_rate, samples = wavfile.read(wavpath)\n",
    "                        samples = preprocess(samples, sample_rate, multiplier)\n",
    "                        # freqs, times, spectrogram = signal.spectrogram(samples, sample_rate)\n",
    "                        if voice:\n",
    "                            S = librosa.feature.melspectrogram(samples, sr=sample_rate, n_mels=128)\n",
    "                        else:\n",
    "                            S = librosa.feature.melspectrogram(samples, sr=sample_rate, n_mels=128, fmax=512)\n",
    "                        log_S = librosa.power_to_db(S, ref=np.max)\n",
    "                        fig = plt.figure(figsize=(1.28, 1.28), dpi=100, frameon=False)\n",
    "                        ax = plt.Axes(fig, [0., 0., 1., 1.])\n",
    "                        ax.set_axis_off()\n",
    "                        fig.add_axes(ax)\n",
    "                        plt.axis('off')\n",
    "                        librosa.display.specshow(log_S)                          \n",
    "                        plt.savefig(imgpath)\n",
    "                        plt.close()\n",
    "                    else:\n",
    "                        found += 1\n",
    "                        if items % VERBOSITY == 0:\n",
    "                            print(\"\\t\\tFound {}th image\".format(items))\n",
    "    print(\"\\tFound:\\t\\t{}\\n\\tCreated:\\t{}\".format(found, created))\n",
    "    plt.ion()"
   ]
  }
 ],
 "metadata": {
  "kernelspec": {
   "display_name": "Python 3",
   "language": "python",
   "name": "python3"
  },
  "language_info": {
   "codemirror_mode": {
    "name": "ipython",
    "version": 3
   },
   "file_extension": ".py",
   "mimetype": "text/x-python",
   "name": "python",
   "nbconvert_exporter": "python",
   "pygments_lexer": "ipython3",
   "version": "3.6.5"
  }
 },
 "nbformat": 4,
 "nbformat_minor": 2
}
