{
 "cells": [
  {
   "cell_type": "code",
   "execution_count": 15,
   "metadata": {
    "collapsed": true
   },
   "outputs": [],
   "source": [
    "import os, shutil, re, datetime\n",
    "import pandas as pd\n",
    "import numpy as np\n",
    "import matplotlib.pyplot as plt\n",
    "from scipy import signal\n",
    "from scipy.io import wavfile\n",
    "from scipy.signal import resample\n",
    "\n",
    "%matplotlib inline"
   ]
  },
  {
   "cell_type": "code",
   "execution_count": 16,
   "metadata": {},
   "outputs": [
    {
     "name": "stdout",
     "output_type": "stream",
     "text": [
      "------------------------------------------------------------------------------------\n",
      "Saved File Directory: /Users/kyy/openbci_stream/osc_record/\n",
      "Raw file Path:        /Users/kyy/openbci_stream/osc_record/subvocal_12_24_2_raw.txt\n",
      "Output Path:          /Users/kyy/cerebro_train/openbci_data/openbci_to_wav/subvocal_12_24_2_raw\n",
      "------------------------------------------------------------------------------------\n"
     ]
    }
   ],
   "source": [
    "# Input VARS ####################################################################\n",
    "\n",
    "SAVED_DATA= \"/Users/kyy/openbci_stream/osc_record/\"\n",
    "NB_CHANNELS = 4\n",
    "FNAME = \"subvocal_12_24_2_raw.txt\"\n",
    "CH1_MAX = 270\n",
    "CH2_MAX = 270\n",
    "CH3_MAX = 220\n",
    "CH4_MAX = 500\n",
    "\n",
    "# Const VARS ####################################################################\n",
    "\n",
    "WAV_ROOT = os.getcwd() + \"/openbci_data/openbci_to_wav/\"\n",
    "AUD_ROOT = os.getcwd() + \"/audio/\"\n",
    "OUTPUT = WAV_ROOT + FNAME[:-4]\n",
    "IMG_EXT = \".png\"\n",
    "VERBOSITY = 1000\n",
    "\n",
    "print('-' * 84)\n",
    "print(\"Saved File Directory: {}\".format(SAVED_DATA))\n",
    "print(\"Raw file Path:        {}\".format(SAVED_DATA + FNAME))\n",
    "print(\"Output Path:          {}\".format(OUTPUT))\n",
    "print('-' * 84)"
   ]
  },
  {
   "cell_type": "code",
   "execution_count": 17,
   "metadata": {
    "collapsed": true
   },
   "outputs": [],
   "source": [
    "def newest(path):\n",
    "    files = [f for f in os.listdir(path) if not f.startswith('.')]\n",
    "    paths = [os.path.join(path, basename) for basename in files]\n",
    "    return max(paths, key=os.path.getctime)"
   ]
  },
  {
   "cell_type": "code",
   "execution_count": 18,
   "metadata": {
    "collapsed": true
   },
   "outputs": [],
   "source": [
    "def channel2wav_max(ch_data, fname, channel):\n",
    "    data = np.array(ch_data, dtype='float64')\n",
    "    print(\"channel {} max: {}\".format(channel, np.max(np.abs(data))))\n",
    "    data /= np.max(np.abs(data))\n",
    "    wavfile.write(fname + \"/\" + channel + '.wav', 200, data)\n",
    "    print(\"{} channel wav file conversion done!\".format(channel))\n",
    "    print('-' * 42)"
   ]
  },
  {
   "cell_type": "code",
   "execution_count": 19,
   "metadata": {
    "collapsed": true
   },
   "outputs": [],
   "source": [
    "def channel2wav(ch_data, fname, channel):\n",
    "    data = np.array(ch_data, dtype='float64')\n",
    "    print(\"channel {} max: {}\".format(channel, np.max(np.abs(data))))\n",
    "\n",
    "    if channel == \"01\":\n",
    "        data /= CH1_MAX\n",
    "    if channel == \"02\":\n",
    "        data /= CH2_MAX\n",
    "    if channel == \"03\":\n",
    "        data /= CH3_MAX\n",
    "    if channel == \"04\":\n",
    "        data /= CH4_MAX\n",
    "\n",
    "    wavfile.write(fname + \"/\" + channel + '.wav', 200, data)\n",
    "    print(\"{} channel wav file conversion done!\".format(channel))"
   ]
  },
  {
   "cell_type": "code",
   "execution_count": 20,
   "metadata": {
    "collapsed": true
   },
   "outputs": [],
   "source": [
    "########################################################\n",
    "# Get latest recorded file from OpenBCI savedData folder\n",
    "\n",
    "df = pd.read_csv(SAVED_DATA + FNAME, \",\")\n",
    "\n",
    "if os.path.isdir(WAV_ROOT + FNAME[:-4]) == False:\n",
    "    os.mkdir(WAV_ROOT + FNAME[:-4])\n",
    "if os.path.isdir(AUD_ROOT + FNAME[:-4]) == False:\n",
    "    os.mkdir(AUD_ROOT + FNAME[:-4])\n",
    "    os.mkdir(AUD_ROOT + FNAME[:-4] + \"/no_voice\")"
   ]
  },
  {
   "cell_type": "code",
   "execution_count": 21,
   "metadata": {},
   "outputs": [
    {
     "name": "stdout",
     "output_type": "stream",
     "text": [
      "channel 01 max: 268.60894775390625\n",
      "01 channel wav file conversion done!\n",
      "------------------------------------------\n",
      "channel 02 max: 265.16390991210943\n",
      "02 channel wav file conversion done!\n",
      "------------------------------------------\n",
      "channel 03 max: 220.4639587402344\n",
      "03 channel wav file conversion done!\n",
      "------------------------------------------\n",
      "channel 04 max: 491.4565124511719\n",
      "04 channel wav file conversion done!\n",
      "------------------------------------------\n",
      "ALL DONE!\n"
     ]
    }
   ],
   "source": [
    "for ch in range(1,NB_CHANNELS+1):\n",
    "    ch_df = df['ch{}'.format(ch)].tolist()\n",
    "    channel2wav_max(ch_df, OUTPUT, \"0{}\".format(ch))\n",
    "print(\"ALL DONE!\")\n",
    "\n",
    "#########\n",
    "# cleanup\n",
    "\n",
    "if os.path.exists(AUD_ROOT + FNAME + \"/\" + FNAME):\n",
    "    os.remove(AUD_ROOT + FNAME + \"/\" + FNAME)\n"
   ]
  },
  {
   "cell_type": "code",
   "execution_count": null,
   "metadata": {
    "collapsed": true
   },
   "outputs": [],
   "source": []
  },
  {
   "cell_type": "code",
   "execution_count": null,
   "metadata": {
    "collapsed": true
   },
   "outputs": [],
   "source": []
  },
  {
   "cell_type": "code",
   "execution_count": null,
   "metadata": {
    "collapsed": true
   },
   "outputs": [],
   "source": []
  },
  {
   "cell_type": "code",
   "execution_count": null,
   "metadata": {
    "collapsed": true
   },
   "outputs": [],
   "source": []
  }
 ],
 "metadata": {
  "kernelspec": {
   "display_name": "Python 3",
   "language": "python",
   "name": "python3"
  },
  "language_info": {
   "codemirror_mode": {
    "name": "ipython",
    "version": 3
   },
   "file_extension": ".py",
   "mimetype": "text/x-python",
   "name": "python",
   "nbconvert_exporter": "python",
   "pygments_lexer": "ipython3",
   "version": "3.6.5"
  }
 },
 "nbformat": 4,
 "nbformat_minor": 2
}
