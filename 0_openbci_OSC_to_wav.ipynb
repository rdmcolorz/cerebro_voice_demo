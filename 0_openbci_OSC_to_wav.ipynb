{
 "cells": [
  {
   "cell_type": "code",
   "execution_count": 39,
   "metadata": {
    "collapsed": true
   },
   "outputs": [],
   "source": [
    "import os, shutil, re, datetime\n",
    "import pandas as pd\n",
    "import numpy as np\n",
    "import matplotlib.pyplot as plt\n",
    "from scipy import signal\n",
    "from scipy.io import wavfile\n",
    "from scipy.signal import resample\n",
    "\n",
    "%matplotlib inline"
   ]
  },
  {
   "cell_type": "code",
   "execution_count": 40,
   "metadata": {},
   "outputs": [
    {
     "name": "stdout",
     "output_type": "stream",
     "text": [
      "osc_test4.txt\n"
     ]
    }
   ],
   "source": [
    "# Input VARS ####################################################################\n",
    "TODAY = False\n",
    "SAVED_DATA= \"/Users/kyy/Documents/Processing/OpenBCI_GUI/OpenBCI_GUI/SavedData/\"\n",
    "NB_CHANNELS = 4\n",
    "RESAMPLE = False\n",
    "\n",
    "if TODAY == True:\n",
    "    PERSON = \"taylor\"\n",
    "    TRYS = 1\n",
    "    DATE = \"12_06\"\n",
    "    FNAME = \"{}_{}_0{}\".format(PERSON,DATE,TRYS)\n",
    "else:\n",
    "    FNAME = \"osc_test4.txt\"\n",
    "\n",
    "# Const VARS ####################################################################\n",
    "\n",
    "\n",
    "ROOT = os.getcwd() + \"/openbci_data/raw_data\"\n",
    "AUD_ROOT = os.getcwd() + \"/openbci_data/openbci_to_wav/\"\n",
    "OUTPUT = AUD_ROOT + FNAME\n",
    "IMG_EXT = \".png\"\n",
    "VERBOSITY = 1000\n",
    "print(FNAME)"
   ]
  },
  {
   "cell_type": "code",
   "execution_count": 41,
   "metadata": {
    "collapsed": true
   },
   "outputs": [],
   "source": [
    "def newest(path):\n",
    "    files = [f for f in os.listdir(path) if not f.startswith('.')]\n",
    "    paths = [os.path.join(path, basename) for basename in files]\n",
    "    return max(paths, key=os.path.getctime)"
   ]
  },
  {
   "cell_type": "code",
   "execution_count": 42,
   "metadata": {
    "collapsed": true
   },
   "outputs": [],
   "source": [
    "def channel2wav(ch_data, fname, channel):\n",
    "    data = np.array(ch_data, dtype='float64')\n",
    "    print(\"channel {} max: {}\".format(channel, np.max(np.abs(data))))\n",
    "#     if channel == \"02\":\n",
    "#         data /= data_max\n",
    "#         print(channel)\n",
    "#     else:\n",
    "    data /= np.max(np.abs(data))\n",
    "    if RESAMPLE == True:\n",
    "        data = resample(data, len(data) * 40)\n",
    "        wavfile.write(fname + \"/\" + channel + '.wav', 200 * 40, data)\n",
    "    else:\n",
    "        wavfile.write(fname + \"/\" + channel + '.wav', 200, data)\n",
    "    print(\"{} channel wav file conversion done!\".format(channel))"
   ]
  },
  {
   "cell_type": "code",
   "execution_count": 43,
   "metadata": {},
   "outputs": [
    {
     "name": "stdout",
     "output_type": "stream",
     "text": [
      "False\n"
     ]
    }
   ],
   "source": [
    "########################################################\n",
    "# Get latest recorded file from OpenBCI savedData folder\n",
    "\n",
    "df = pd.read_csv(SAVED_DATA + FNAME, \",\")\n",
    "exists = os.path.isdir(AUD_ROOT + FNAME)\n",
    "print(exists)\n",
    "if exists == False:\n",
    "    os.mkdir(AUD_ROOT + FNAME)\n",
    "###############################################\n",
    "# Convert txtfile into wavfiles from ch1 to chN"
   ]
  },
  {
   "cell_type": "code",
   "execution_count": 44,
   "metadata": {},
   "outputs": [
    {
     "name": "stdout",
     "output_type": "stream",
     "text": [
      "channel 01 max: 133.00607299804688\n",
      "01 channel wav file conversion done!\n",
      "channel 02 max: 2316.756103515625\n",
      "02 channel wav file conversion done!\n",
      "channel 03 max: 411.4090576171875\n",
      "03 channel wav file conversion done!\n",
      "channel 04 max: 94.6897201538086\n",
      "04 channel wav file conversion done!\n"
     ]
    }
   ],
   "source": [
    "for ch in range(1,NB_CHANNELS+1):\n",
    "    ch_df = df['ch{}'.format(ch)].tolist()\n",
    "    channel2wav(ch_df, OUTPUT, \"0{}\".format(ch))\n",
    "\n",
    "#########\n",
    "# cleanup\n",
    "\n",
    "if os.path.exists(AUD_ROOT + FNAME + \"/\" + FNAME):\n",
    "    os.remove(AUD_ROOT + FNAME + \"/\" + FNAME)"
   ]
  },
  {
   "cell_type": "code",
   "execution_count": null,
   "metadata": {
    "collapsed": true
   },
   "outputs": [],
   "source": []
  },
  {
   "cell_type": "code",
   "execution_count": null,
   "metadata": {
    "collapsed": true
   },
   "outputs": [],
   "source": []
  },
  {
   "cell_type": "code",
   "execution_count": null,
   "metadata": {
    "collapsed": true
   },
   "outputs": [],
   "source": []
  }
 ],
 "metadata": {
  "kernelspec": {
   "display_name": "Python 3",
   "language": "python",
   "name": "python3"
  },
  "language_info": {
   "codemirror_mode": {
    "name": "ipython",
    "version": 3
   },
   "file_extension": ".py",
   "mimetype": "text/x-python",
   "name": "python",
   "nbconvert_exporter": "python",
   "pygments_lexer": "ipython3",
   "version": "3.6.5"
  }
 },
 "nbformat": 4,
 "nbformat_minor": 2
}
