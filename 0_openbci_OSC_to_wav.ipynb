{
 "cells": [
  {
   "cell_type": "code",
   "execution_count": 1,
   "metadata": {
    "collapsed": true
   },
   "outputs": [],
   "source": [
    "import os, shutil, re, datetime\n",
    "import pandas as pd\n",
    "import numpy as np\n",
    "import matplotlib.pyplot as plt\n",
    "from scipy import signal\n",
    "from scipy.io import wavfile\n",
    "from scipy.signal import resample\n",
    "\n",
    "%matplotlib inline"
   ]
  },
  {
   "cell_type": "code",
   "execution_count": 8,
   "metadata": {},
   "outputs": [
    {
     "name": "stdout",
     "output_type": "stream",
     "text": [
      "------------------------------------------------------------------------------------\n",
      "Saved File Directory: /Users/kyy/openbci_stream/osc_record/\n",
      "Raw file Path:        /Users/kyy/openbci_stream/osc_record/vocal_12_19_raw.txt\n",
      "Output Path:          /Users/kyy/cerebro_train/openbci_data/openbci_to_wav/vocal_12_19_raw\n",
      "------------------------------------------------------------------------------------\n"
     ]
    }
   ],
   "source": [
    "# Input VARS ####################################################################\n",
    "\n",
    "SAVED_DATA= \"/Users/kyy/openbci_stream/osc_record/\"\n",
    "NB_CHANNELS = 4\n",
    "FNAME = \"vocal_12_19_raw.txt\"\n",
    "CH1_MAX = 200\n",
    "CH2_MAX = 1000\n",
    "CH3_MAX = 300\n",
    "CH4_MAX = 300\n",
    "\n",
    "# Const VARS ####################################################################\n",
    "\n",
    "AUD_ROOT = os.getcwd() + \"/openbci_data/openbci_to_wav/\"\n",
    "OUTPUT = AUD_ROOT + FNAME[:-4]\n",
    "IMG_EXT = \".png\"\n",
    "VERBOSITY = 1000\n",
    "\n",
    "print('-' * 84)\n",
    "print(\"Saved File Directory: {}\".format(SAVED_DATA))\n",
    "print(\"Raw file Path:        {}\".format(SAVED_DATA + FNAME))\n",
    "print(\"Output Path:          {}\".format(OUTPUT))\n",
    "print('-' * 84)"
   ]
  },
  {
   "cell_type": "code",
   "execution_count": 71,
   "metadata": {
    "collapsed": true
   },
   "outputs": [],
   "source": [
    "def newest(path):\n",
    "    files = [f for f in os.listdir(path) if not f.startswith('.')]\n",
    "    paths = [os.path.join(path, basename) for basename in files]\n",
    "    return max(paths, key=os.path.getctime)"
   ]
  },
  {
   "cell_type": "code",
   "execution_count": 72,
   "metadata": {
    "collapsed": true
   },
   "outputs": [],
   "source": [
    "def channel2wav_max(ch_data, fname, channel):\n",
    "    data = np.array(ch_data, dtype='float64')\n",
    "    print(\"channel {} max: {}\".format(channel, np.max(np.abs(data))))\n",
    "    data /= np.max(np.abs(data))\n",
    "    wavfile.write(fname + \"/\" + channel + '.wav', 200, data)\n",
    "    print(\"{} channel wav file conversion done!\".format(channel))\n",
    "    print('-' * 42)"
   ]
  },
  {
   "cell_type": "code",
   "execution_count": 73,
   "metadata": {
    "collapsed": true
   },
   "outputs": [],
   "source": [
    "def channel2wav(ch_data, fname, channel):\n",
    "    data = np.array(ch_data, dtype='float64')\n",
    "    print(\"channel {} max: {}\".format(channel, np.max(np.abs(data))))\n",
    "\n",
    "    if channel == \"01\":\n",
    "        data /= CH1_MAX\n",
    "    if channel == \"02\":\n",
    "        data /= CH2_MAX\n",
    "    if channel == \"03\":\n",
    "        data /= CH3_MAX\n",
    "    if channel == \"04\":\n",
    "        data /= CH4_MAX\n",
    "\n",
    "    wavfile.write(fname + \"/\" + channel + '.wav', 200, data)\n",
    "    print(\"{} channel wav file conversion done!\".format(channel))"
   ]
  },
  {
   "cell_type": "code",
   "execution_count": 74,
   "metadata": {},
   "outputs": [
    {
     "name": "stdout",
     "output_type": "stream",
     "text": [
      "False\n"
     ]
    }
   ],
   "source": [
    "########################################################\n",
    "# Get latest recorded file from OpenBCI savedData folder\n",
    "\n",
    "df = pd.read_csv(SAVED_DATA + FNAME, \",\")\n",
    "exists = os.path.isdir(AUD_ROOT + FNAME)\n",
    "if exists == False:\n",
    "    os.mkdir(AUD_ROOT + FNAME)"
   ]
  },
  {
   "cell_type": "code",
   "execution_count": 9,
   "metadata": {},
   "outputs": [
    {
     "ename": "NameError",
     "evalue": "name 'df' is not defined",
     "output_type": "error",
     "traceback": [
      "\u001b[0;31m---------------------------------------------------------------------------\u001b[0m",
      "\u001b[0;31mNameError\u001b[0m                                 Traceback (most recent call last)",
      "\u001b[0;32m<ipython-input-9-83b07d1f8c63>\u001b[0m in \u001b[0;36m<module>\u001b[0;34m()\u001b[0m\n\u001b[1;32m      1\u001b[0m \u001b[0;32mfor\u001b[0m \u001b[0mch\u001b[0m \u001b[0;32min\u001b[0m \u001b[0mrange\u001b[0m\u001b[0;34m(\u001b[0m\u001b[0;36m1\u001b[0m\u001b[0;34m,\u001b[0m\u001b[0mNB_CHANNELS\u001b[0m\u001b[0;34m+\u001b[0m\u001b[0;36m1\u001b[0m\u001b[0;34m)\u001b[0m\u001b[0;34m:\u001b[0m\u001b[0;34m\u001b[0m\u001b[0m\n\u001b[0;32m----> 2\u001b[0;31m     \u001b[0mch_df\u001b[0m \u001b[0;34m=\u001b[0m \u001b[0mdf\u001b[0m\u001b[0;34m[\u001b[0m\u001b[0;34m'ch{}'\u001b[0m\u001b[0;34m.\u001b[0m\u001b[0mformat\u001b[0m\u001b[0;34m(\u001b[0m\u001b[0mch\u001b[0m\u001b[0;34m)\u001b[0m\u001b[0;34m]\u001b[0m\u001b[0;34m.\u001b[0m\u001b[0mtolist\u001b[0m\u001b[0;34m(\u001b[0m\u001b[0;34m)\u001b[0m\u001b[0;34m\u001b[0m\u001b[0m\n\u001b[0m\u001b[1;32m      3\u001b[0m     \u001b[0mchannel2wav_max\u001b[0m\u001b[0;34m(\u001b[0m\u001b[0mch_df\u001b[0m\u001b[0;34m,\u001b[0m \u001b[0mOUTPUT\u001b[0m\u001b[0;34m,\u001b[0m \u001b[0;34m\"0{}\"\u001b[0m\u001b[0;34m.\u001b[0m\u001b[0mformat\u001b[0m\u001b[0;34m(\u001b[0m\u001b[0mch\u001b[0m\u001b[0;34m)\u001b[0m\u001b[0;34m)\u001b[0m\u001b[0;34m\u001b[0m\u001b[0m\n\u001b[1;32m      4\u001b[0m \u001b[0mprint\u001b[0m\u001b[0;34m(\u001b[0m\u001b[0;34m\"ALL DONE!\"\u001b[0m\u001b[0;34m)\u001b[0m\u001b[0;34m\u001b[0m\u001b[0m\n\u001b[1;32m      5\u001b[0m \u001b[0;34m\u001b[0m\u001b[0m\n",
      "\u001b[0;31mNameError\u001b[0m: name 'df' is not defined"
     ]
    }
   ],
   "source": [
    "for ch in range(1,NB_CHANNELS+1):\n",
    "    ch_df = df['ch{}'.format(ch)].tolist()\n",
    "    channel2wav_max(ch_df, OUTPUT, \"0{}\".format(ch))\n",
    "print(\"ALL DONE!\")\n",
    "\n",
    "#########\n",
    "# cleanup\n",
    "\n",
    "if os.path.exists(AUD_ROOT + FNAME + \"/\" + FNAME):\n",
    "    os.remove(AUD_ROOT + FNAME + \"/\" + FNAME)"
   ]
  },
  {
   "cell_type": "code",
   "execution_count": null,
   "metadata": {
    "collapsed": true
   },
   "outputs": [],
   "source": []
  },
  {
   "cell_type": "code",
   "execution_count": null,
   "metadata": {
    "collapsed": true
   },
   "outputs": [],
   "source": []
  },
  {
   "cell_type": "code",
   "execution_count": null,
   "metadata": {
    "collapsed": true
   },
   "outputs": [],
   "source": []
  },
  {
   "cell_type": "code",
   "execution_count": null,
   "metadata": {
    "collapsed": true
   },
   "outputs": [],
   "source": []
  }
 ],
 "metadata": {
  "kernelspec": {
   "display_name": "Python 3",
   "language": "python",
   "name": "python3"
  },
  "language_info": {
   "codemirror_mode": {
    "name": "ipython",
    "version": 3
   },
   "file_extension": ".py",
   "mimetype": "text/x-python",
   "name": "python",
   "nbconvert_exporter": "python",
   "pygments_lexer": "ipython3",
   "version": "3.6.5"
  }
 },
 "nbformat": 4,
 "nbformat_minor": 2
}
