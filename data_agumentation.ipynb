{
 "cells": [
  {
   "cell_type": "code",
   "execution_count": 13,
   "metadata": {
    "collapsed": true
   },
   "outputs": [],
   "source": [
    "import os, shutil, re\n",
    "from helpers import *\n",
    "import numpy as np\n",
    "import matplotlib.pyplot as plt\n",
    "from scipy import signal\n",
    "from scipy.io import wavfile\n",
    "import librosa\n",
    "import librosa.display\n",
    "import datetime\n",
    "\n",
    "%matplotlib inline"
   ]
  },
  {
   "cell_type": "code",
   "execution_count": 24,
   "metadata": {
    "collapsed": true
   },
   "outputs": [],
   "source": [
    "def preprocess(samples, sample_rate, multiplier=1):\n",
    "    sr = sample_rate * multiplier\n",
    "    padded = np.zeros(sr)\n",
    "    samples = samples[:sr]\n",
    "    padded[:samples.shape[0]] = samples\n",
    "    print(padded)\n",
    "    return padded"
   ]
  },
  {
   "cell_type": "code",
   "execution_count": 27,
   "metadata": {},
   "outputs": [
    {
     "name": "stdout",
     "output_type": "stream",
     "text": [
      "0 6554\n",
      "[-4841 -4831 -4822 ... -4514 -4489 -4466]\n",
      "[-4841. -4831. -4822. ...     0.     0.     0.]\n",
      "163 6717\n",
      "[-4841 -4831 -4822 ... -4514 -4489 -4466]\n",
      "[-5363. -5321. -5278. ...     0.     0.     0.]\n",
      "326 6880\n",
      "[-4841 -4831 -4822 ... -4514 -4489 -4466]\n",
      "[-3146. -3134. -3124. ...     0.     0.     0.]\n",
      "489 7043\n",
      "[-4841 -4831 -4822 ... -4514 -4489 -4466]\n",
      "[-6652. -6595. -6528. ...     0.     0.     0.]\n",
      "652 7206\n",
      "[-4841 -4831 -4822 ... -4514 -4489 -4466]\n",
      "[-1659. -1596. -1531. ...     0.     0.     0.]\n",
      "815 7369\n",
      "[-4841 -4831 -4822 ... -4514 -4489 -4466]\n",
      "[-4692. -4638. -4565. ...     0.     0.     0.]\n",
      "978 7532\n",
      "[-4841 -4831 -4822 ... -4514 -4489 -4466]\n",
      "[1267. 1334. 1409. ...    0.    0.    0.]\n",
      "1141 7695\n",
      "[-4841 -4831 -4822 ... -4514 -4489 -4466]\n",
      "[6058. 6254. 6439. ...    0.    0.    0.]\n",
      "1304 7858\n",
      "[-4841 -4831 -4822 ... -4514 -4489 -4466]\n",
      "[5163. 5190. 5221. ...    0.    0.    0.]\n",
      "1467 8021\n",
      "[-4841 -4831 -4822 ... -4514 -4489 -4466]\n",
      "[4216. 4167. 4115. ...    0.    0.    0.]\n"
     ]
    }
   ],
   "source": [
    "wavpath = os.getcwd() + \"/audio/taylor_12_06_01/no_voice/12_06/lights-on/ch1/00000.wav\"\n",
    "sample_rate, samples = wavfile.read(wavpath)\n",
    "dataPts = len(samples)\n",
    "window = round(dataPts * .8)\n",
    "difference = dataPts - window\n",
    "chunk = int(difference / 10) \n",
    "\n",
    "for i in range(10):\n",
    "    x = i * chunk\n",
    "    changed = samples[x:window+x]\n",
    "    print(x, window+x)\n",
    "    print(samples)\n",
    "    changed = preprocess(changed, sample_rate, 1)\n",
    "    S = librosa.feature.melspectrogram(changed, sr=sample_rate, n_mels=128, fmax=512)\n",
    "    log_S = librosa.power_to_db(S, ref=np.max)\n",
    "    fig = plt.figure(figsize=(1.28, 1.28), dpi=100, frameon=False)\n",
    "    ax = plt.Axes(fig, [0., 0., 1., 1.])\n",
    "    ax.set_axis_off()\n",
    "    fig.add_axes(ax)\n",
    "    plt.axis('off')\n",
    "    librosa.display.specshow(log_S)                          \n",
    "    plt.savefig(os.getcwd() + \"/test/test_{}\".format(i))\n",
    "    plt.close()"
   ]
  },
  {
   "cell_type": "code",
   "execution_count": null,
   "metadata": {
    "collapsed": true
   },
   "outputs": [],
   "source": []
  }
 ],
 "metadata": {
  "kernelspec": {
   "display_name": "Python 3",
   "language": "python",
   "name": "python3"
  },
  "language_info": {
   "codemirror_mode": {
    "name": "ipython",
    "version": 3
   },
   "file_extension": ".py",
   "mimetype": "text/x-python",
   "name": "python",
   "nbconvert_exporter": "python",
   "pygments_lexer": "ipython3",
   "version": "3.6.5"
  }
 },
 "nbformat": 4,
 "nbformat_minor": 2
}
