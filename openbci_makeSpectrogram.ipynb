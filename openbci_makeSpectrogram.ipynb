{
 "cells": [
  {
   "cell_type": "code",
   "execution_count": 21,
   "metadata": {
    "collapsed": true
   },
   "outputs": [],
   "source": [
    "import os, shutil, re\n",
    "import pandas as pd\n",
    "from helpers import *\n",
    "import numpy as np\n",
    "import matplotlib.pyplot as plt\n",
    "from scipy import signal\n",
    "from scipy.io import wavfile\n",
    "import librosa\n",
    "import librosa.display\n",
    "from helpers import *\n",
    "%matplotlib inline"
   ]
  },
  {
   "cell_type": "code",
   "execution_count": 53,
   "metadata": {
    "collapsed": true
   },
   "outputs": [],
   "source": [
    "# replace this with your root directory\n",
    "ROOT = os.getcwd() + \"/openbci_data/\"\n",
    "IMG_ROOT = os.getcwd() + \"/images_scaled/no_voice/09_20/\"\n",
    "pattern = \"[0-9]{2}_[0-9]{2}\"\n",
    "\n",
    "if not os.path.isdir(IMG_ROOT):\n",
    "    os.mkdir(IMG_ROOT)\n",
    "    os.mkdir(IMG_ROOT + \"yes\")\n",
    "    os.mkdir(IMG_ROOT + \"no\")\n",
    "    os.mkdir(IMG_ROOT + \"yes/ch1\")\n",
    "    os.mkdir(IMG_ROOT + \"yes/ch3\")\n",
    "    os.mkdir(IMG_ROOT + \"no/ch1\")\n",
    "    os.mkdir(IMG_ROOT + \"no/ch3\")\n",
    "\n",
    "\"\"\"\n",
    "Expected directory structure:\n",
    "[INSIDE ROOT DIRECTORY]\n",
    "---- [category] voice, no_voice\n",
    "-------- [date] 07_02, 07_09, ...\n",
    "------------ [label] down, go, ...\n",
    "---------------- [channel] ch1, ch2, ...\n",
    "-------------------- [wave files] *.wav\n",
    "\"\"\"\n",
    "# VARS \n",
    "\n",
    "VALID_LABELS = [\"yes\", \"no\", \"stop\", \"go\", \"right\", \"left\", \"down\", \"up\", \"on\", \"off\", \"test\"]\n",
    "USELESS = [\"ch2\", \"ch4\", \"na1\", \"na2\", \"na3\"]\n",
    "IMG_EXT = \".png\"\n",
    "VERBOSITY = 1000"
   ]
  },
  {
   "cell_type": "code",
   "execution_count": 34,
   "metadata": {},
   "outputs": [],
   "source": [
    "def timestamp2milsec(timestamp):\n",
    "    timesplit = timestamp.split('.')\n",
    "    if len(timesplit) == 2:\n",
    "        milsec = int(timesplit[1])\n",
    "        time = timesplit[0].split(':')\n",
    "        time_milsec = int(time[0]) * 60 * 60 * 1000 + int(time[1]) * 60 * 1000 + int(time[2]) * 1000 + milsec\n",
    "        return time_milsec"
   ]
  },
  {
   "cell_type": "code",
   "execution_count": 52,
   "metadata": {},
   "outputs": [],
   "source": [
    "# to do: make it so we can change label number dynamically\n",
    "\n",
    "def make_image(channel_data, ch_name): \n",
    "    channel = channel_data[ch_name]\n",
    "    time = range(400)\n",
    "    samples = len(channel) // 400\n",
    "    x_counter = 0\n",
    "    y_counter = 0\n",
    "    i = 0\n",
    "    while i < samples:\n",
    "        curr = channel.iloc[:400]\n",
    "        fig = plt.figure(figsize=(1.28, 1.28), dpi=100, frameon=False)\n",
    "        plt.plot(time, curr)\n",
    "        plt.ylim(-700, 700)\n",
    "        fig.subplots_adjust(bottom = 0)\n",
    "        fig.subplots_adjust(top = 1)\n",
    "        fig.subplots_adjust(right = 1)\n",
    "        fig.subplots_adjust(left = 0)\n",
    "        plt.axis('off')\n",
    "        if i % 2 == 0:\n",
    "            fig.savefig(IMG_ROOT + \"/no/\" + ch_name + \"/\" + str(x_counter).zfill(4) + IMG_EXT, pad_inches=0)\n",
    "            x_counter += 1\n",
    "        else:\n",
    "            fig.savefig(IMG_ROOT + \"/yes/\" + ch_name + \"/\" + str(y_counter).zfill(4) + IMG_EXT, pad_inches=0)\n",
    "            y_counter += 1\n",
    "        plt.close()\n",
    "        channel = channel.iloc[400:]\n",
    "        i += 1"
   ]
  },
  {
   "cell_type": "code",
   "execution_count": 46,
   "metadata": {},
   "outputs": [
    {
     "data": {
      "text/html": [
       "<div>\n",
       "<style scoped>\n",
       "    .dataframe tbody tr th:only-of-type {\n",
       "        vertical-align: middle;\n",
       "    }\n",
       "\n",
       "    .dataframe tbody tr th {\n",
       "        vertical-align: top;\n",
       "    }\n",
       "\n",
       "    .dataframe thead th {\n",
       "        text-align: right;\n",
       "    }\n",
       "</style>\n",
       "<table border=\"1\" class=\"dataframe\">\n",
       "  <thead>\n",
       "    <tr style=\"text-align: right;\">\n",
       "      <th></th>\n",
       "      <th>sr_id</th>\n",
       "      <th>ch1</th>\n",
       "      <th>ch3</th>\n",
       "      <th>timestamp</th>\n",
       "    </tr>\n",
       "  </thead>\n",
       "  <tbody>\n",
       "    <tr>\n",
       "      <th>0</th>\n",
       "      <td>0</td>\n",
       "      <td>-53.42</td>\n",
       "      <td>-20.09</td>\n",
       "      <td>0.0</td>\n",
       "    </tr>\n",
       "    <tr>\n",
       "      <th>1</th>\n",
       "      <td>1</td>\n",
       "      <td>31.11</td>\n",
       "      <td>29.78</td>\n",
       "      <td>15.0</td>\n",
       "    </tr>\n",
       "    <tr>\n",
       "      <th>2</th>\n",
       "      <td>2</td>\n",
       "      <td>53.66</td>\n",
       "      <td>20.54</td>\n",
       "      <td>15.0</td>\n",
       "    </tr>\n",
       "    <tr>\n",
       "      <th>3</th>\n",
       "      <td>3</td>\n",
       "      <td>-47.10</td>\n",
       "      <td>-22.90</td>\n",
       "      <td>29.0</td>\n",
       "    </tr>\n",
       "    <tr>\n",
       "      <th>4</th>\n",
       "      <td>4</td>\n",
       "      <td>3.03</td>\n",
       "      <td>15.89</td>\n",
       "      <td>29.0</td>\n",
       "    </tr>\n",
       "  </tbody>\n",
       "</table>\n",
       "</div>"
      ],
      "text/plain": [
       "   sr_id    ch1    ch3  timestamp\n",
       "0      0 -53.42 -20.09        0.0\n",
       "1      1  31.11  29.78       15.0\n",
       "2      2  53.66  20.54       15.0\n",
       "3      3 -47.10 -22.90       29.0\n",
       "4      4   3.03  15.89       29.0"
      ]
     },
     "execution_count": 46,
     "metadata": {},
     "output_type": "execute_result"
    }
   ],
   "source": [
    "# read csv(txt) file and parse into the dataframe we want\n",
    "\n",
    "df = pd.read_csv(\"./openbci_data/taylor_9_21/9_21.txt\", \",\")\n",
    "df = df.drop(columns=USELESS)\n",
    "df['timestamp'] = df['timestamp'].map(timestamp2milsec)\n",
    "df['timestamp'] = df['timestamp'].map(lambda x: x - df['timestamp'].iloc[0])\n",
    "df = df.dropna()\n",
    "df.head()"
   ]
  },
  {
   "cell_type": "code",
   "execution_count": 54,
   "metadata": {},
   "outputs": [],
   "source": [
    "make_image(df, 'ch3')\n",
    "make_image(df, 'ch1')"
   ]
  },
  {
   "cell_type": "code",
   "execution_count": null,
   "metadata": {
    "collapsed": true
   },
   "outputs": [],
   "source": [
    "def preprocess(samples, sample_rate, multiplier=1):\n",
    "    sr = sample_rate * multiplier\n",
    "    padded = np.zeros(sr)\n",
    "    samples = samples[:sr]\n",
    "    padded[:samples.shape[0]] = samples\n",
    "    return padded\n",
    "\n",
    "def make_dir(path):\n",
    "    if not os.path.isdir(path):\n",
    "        os.mkdir(path)"
   ]
  },
  {
   "cell_type": "code",
   "execution_count": null,
   "metadata": {
    "collapsed": true
   },
   "outputs": [],
   "source": [
    "def process(input_dir, output_dir, overwrite=False):\n",
    "    items = 0\n",
    "    created = 0\n",
    "    found = 0\n",
    "    date_mult = {\"08_08\":2, \"08_11\":2, \"09_20\":2}\n",
    "    plt.ioff()\n",
    "    for date in [x for x in os.listdir(input_dir) if re.match(pattern, x)]:\n",
    "        multiplier = 1\n",
    "        if date in date_mult:\n",
    "            multiplier = date_mult[date]\n",
    "        date_path = os.path.join(input_dir, date)\n",
    "        o_date_path = os.path.join(output_dir, date)\n",
    "        make_dir(o_date_path)\n",
    "        for label in [d for d in os.listdir(date_path) if d in VALID_LABELS]:\n",
    "            label_path = os.path.join(date_path, label)\n",
    "            o_label_path = os.path.join(o_date_path, label)\n",
    "            make_dir(o_label_path)\n",
    "            print(\"\\tProcessing: {}\".format(label_path))\n",
    "            print(\"\\tTime: {}\".format(curr_time()))\n",
    "            for channel in [d for d in os.listdir(label_path) if d.startswith(\"ch\")]:\n",
    "                voice = False\n",
    "                ch = int(channel[2:])\n",
    "                if ch == 4 or ch >= 9:\n",
    "                    voice = True\n",
    "                channel_path = os.path.join(label_path, channel)\n",
    "                o_channel_path = os.path.join(o_label_path, channel)\n",
    "                make_dir(o_channel_path)\n",
    "                channel_num = channel[-1]\n",
    "                for file in [f for f in os.listdir(channel_path) if f.endswith(\".wav\")]:\n",
    "                    items += 1\n",
    "                    wavpath = os.path.join(channel_path, file)\n",
    "                    imgpath = os.path.join(o_channel_path, file[:-4] + IMG_EXT)\n",
    "                    if overwrite or not os.path.isfile(imgpath):\n",
    "                        created += 1\n",
    "                        if items % VERBOSITY == 0:\n",
    "                            print(\"\\t\\tCreated {}th image\".format(items))\n",
    "                        sample_rate, samples = wavfile.read(wavpath)\n",
    "                        samples = preprocess(samples, sample_rate, multiplier)\n",
    "#                         freqs, times, spectrogram = signal.spectrogram(samples, sample_rate)\n",
    "                        if voice:\n",
    "                            S = librosa.feature.melspectrogram(samples, sr=sample_rate, n_mels=128)\n",
    "                        else:\n",
    "                            S = librosa.feature.melspectrogram(samples, sr=sample_rate, n_mels=128, fmax=512)\n",
    "                        log_S = librosa.power_to_db(S, ref=np.max)\n",
    "                        fig = plt.figure(figsize=(1.28, 1.28), dpi=100, frameon=False)\n",
    "                        ax = plt.Axes(fig, [0., 0., 1., 1.])\n",
    "                        ax.set_axis_off()\n",
    "                        fig.add_axes(ax)\n",
    "                        plt.axis('off')\n",
    "                        librosa.display.specshow(log_S)                          \n",
    "                        plt.savefig(imgpath)\n",
    "                        plt.close()\n",
    "                    else:\n",
    "                        found += 1\n",
    "                        if items % VERBOSITY == 0:\n",
    "                            print(\"\\t\\tFound {}th image\".format(items))\n",
    "    print(\"\\tFound:\\t\\t{}\\n\\tCreated:\\t{}\".format(found, created))\n",
    "    plt.ion()"
   ]
  },
  {
   "cell_type": "code",
   "execution_count": null,
   "metadata": {
    "collapsed": true
   },
   "outputs": [],
   "source": [
    "dir_pairs = {\n",
    "    ROOT+\"voice\":IMG_ROOT+\"voice\",\n",
    "    ROOT+\"no_voice\":IMG_ROOT+\"no_voice\"\n",
    "}"
   ]
  },
  {
   "cell_type": "code",
   "execution_count": null,
   "metadata": {},
   "outputs": [],
   "source": [
    "for input_dir in dir_pairs:\n",
    "    output_dir = dir_pairs[input_dir]\n",
    "    if not os.path.isdir(output_dir):\n",
    "        os.mkdir(output_dir)\n",
    "    timer(process, input_dir, output_dir)"
   ]
  },
  {
   "cell_type": "code",
   "execution_count": null,
   "metadata": {
    "collapsed": true
   },
   "outputs": [],
   "source": [
    "# replace this with your root directory\n",
    "ROOT = os.getcwd() + \"/images_scaled/\"\n",
    "OUTPUT = os.getcwd() + \"/test.csv\"\n",
    "DATE_PATTERN = \"[0-9]{2}_[0-9]{2}\"\n",
    "VALID_LABELS = [\"yes\", \"no\", \"stop\", \"go\", \"right\", \"left\", \"down\", \"up\", \"on\", \"off\", \"test\"]\n",
    "IMG_EXT = \".png\"\n",
    "VERBOSITY = 100\n",
    "NUM_CHANNELS = 22\n",
    "CATS, MONTHS, DAYS, LABELS, SEQ, SETS = [], [], [], [], [], []\n",
    "for i in range(1, NUM_CHANNELS+1):\n",
    "    globals()[\"PATH{}\".format(i)] = []"
   ]
  },
  {
   "cell_type": "code",
   "execution_count": null,
   "metadata": {
    "collapsed": true
   },
   "outputs": [],
   "source": [
    "def make_df_from_images(image_root):\n",
    "    for cat in [d for d in os.listdir(image_root) if \"voice\" in d]:\n",
    "        cat_path = os.path.join(image_root, cat)\n",
    "        for date in [d for d in os.listdir(cat_path) if re.match(DATE_PATTERN, d)]:\n",
    "            print(\"\\tProcessing {}\".format(date))\n",
    "            date_path = os.path.join(cat_path, date)\n",
    "            month = int(date[:2])\n",
    "            day = int(date[3:])\n",
    "            date_count = 0\n",
    "            for label in [d for d in os.listdir(date_path) if d in VALID_LABELS]:\n",
    "                label_path = os.path.join(date_path, label)\n",
    "                placeholder = os.path.join(label_path, \"ch1\")\n",
    "                for image in [f for f in os.listdir(placeholder) if f.endswith(IMG_EXT)]:\n",
    "                    date_count += 1\n",
    "                    for i in range(1, NUM_CHANNELS+1):\n",
    "                        p = os.path.join(label_path, \"ch{}\".format(i), image)\n",
    "                        if os.path.exists(p):\n",
    "                            globals()[\"PATH{}\".format(i)].append(p)\n",
    "                        else:\n",
    "                            globals()[\"PATH{}\".format(i)].append(float('nan'))\n",
    "                    CATS.append(cat)\n",
    "                    DAYS.append(day)\n",
    "                    MONTHS.append(month)\n",
    "                    LABELS.append(label)\n",
    "                    sequence_number = int(image[:-4])\n",
    "                    basenum = sequence_number % 10\n",
    "                    SEQ.append(sequence_number)\n",
    "                    if basenum < 8:\n",
    "                        SETS.append(\"Training\")\n",
    "                    elif basenum < 9:\n",
    "                        SETS.append(\"Validation\")\n",
    "                    else:\n",
    "                        SETS.append(\"Testing\")\n",
    "            print(\"\\t\\tProcessed {} sequences\".format(date_count))\n",
    "    d = {\n",
    "            \"Category\":CATS,\n",
    "            \"Day\":DAYS,\n",
    "            \"Month\":MONTHS,\n",
    "            \"Label\":LABELS,\n",
    "            \"SequenceNumber\":SEQ,\n",
    "            \"Set\":SETS\n",
    "        }\n",
    "    for i in range(1, NUM_CHANNELS+1):\n",
    "        d[\"Path{}\".format(i)] = globals()[\"PATH{}\".format(i)]\n",
    "    return pd.DataFrame(d)"
   ]
  },
  {
   "cell_type": "code",
   "execution_count": null,
   "metadata": {},
   "outputs": [],
   "source": [
    "df = timer(make_df_from_images, ROOT)\n",
    "df.to_csv(OUTPUT, index=False)"
   ]
  },
  {
   "cell_type": "code",
   "execution_count": null,
   "metadata": {},
   "outputs": [],
   "source": [
    "print(df.head(5))"
   ]
  },
  {
   "cell_type": "code",
   "execution_count": null,
   "metadata": {},
   "outputs": [],
   "source": [
    "print(df.describe())"
   ]
  },
  {
   "cell_type": "code",
   "execution_count": null,
   "metadata": {
    "collapsed": true
   },
   "outputs": [],
   "source": []
  }
 ],
 "metadata": {
  "kernelspec": {
   "display_name": "Python 3",
   "language": "python",
   "name": "python3"
  },
  "language_info": {
   "codemirror_mode": {
    "name": "ipython",
    "version": 3
   },
   "file_extension": ".py",
   "mimetype": "text/x-python",
   "name": "python",
   "nbconvert_exporter": "python",
   "pygments_lexer": "ipython3",
   "version": "3.6.5"
  }
 },
 "nbformat": 4,
 "nbformat_minor": 2
}
