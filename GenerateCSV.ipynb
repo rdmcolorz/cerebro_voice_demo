{
 "cells": [
  {
   "cell_type": "code",
   "execution_count": 3,
   "metadata": {},
   "outputs": [],
   "source": [
    "import pandas as pd\n",
    "import os, re\n",
    "from helpers import *"
   ]
  },
  {
   "cell_type": "code",
   "execution_count": 4,
   "metadata": {},
   "outputs": [],
   "source": [
    "# replace this with your root directory\n",
    "ROOT = os.getcwd() + \"/images_scaled/\"\n",
    "OUTPUT = os.getcwd() + \"/demo.csv\"\n",
    "DATE_PATTERN = \"[0-9]{2}_[0-9]{2}\"\n",
    "VALID_LABELS = [\"one\",\"two\",\"yes\", \"no\", \"stop\", \"go\", \"right\", \"left\", \"down\", \"up\", \"on\", \"off\"]\n",
    "IMG_EXT = \".png\"\n",
    "VERBOSITY = 100\n",
    "NUM_CHANNELS = 22\n",
    "CATS, MONTHS, DAYS, LABELS, SEQ, SETS = [], [], [], [], [], []\n",
    "for i in range(1, NUM_CHANNELS+1):\n",
    "    globals()[\"PATH{}\".format(i)] = []"
   ]
  },
  {
   "cell_type": "code",
   "execution_count": 5,
   "metadata": {},
   "outputs": [],
   "source": [
    "def make_df_from_images(image_root):\n",
    "    for cat in [d for d in os.listdir(image_root) if \"voice\" in d]:\n",
    "        cat_path = os.path.join(image_root, cat)\n",
    "        for date in [d for d in os.listdir(cat_path) if re.match(DATE_PATTERN, d)]:\n",
    "            print(\"\\tProcessing {}\".format(date))\n",
    "            date_path = os.path.join(cat_path, date)\n",
    "            month = int(date[:2])\n",
    "            day = int(date[3:])\n",
    "            date_count = 0\n",
    "            for label in [d for d in os.listdir(date_path) if d in VALID_LABELS]:\n",
    "                label_path = os.path.join(date_path, label)\n",
    "                placeholder = os.path.join(label_path, \"ch1\")\n",
    "                for image in [f for f in os.listdir(placeholder) if f.endswith(IMG_EXT)]:\n",
    "                    date_count += 1\n",
    "                    for i in range(1, NUM_CHANNELS+1):\n",
    "                        p = os.path.join(label_path, \"ch{}\".format(i), image)\n",
    "                        if os.path.exists(p):\n",
    "                            globals()[\"PATH{}\".format(i)].append(p)\n",
    "                        else:\n",
    "                            globals()[\"PATH{}\".format(i)].append(float('nan'))\n",
    "                    CATS.append(cat)\n",
    "                    DAYS.append(day)\n",
    "                    MONTHS.append(month)\n",
    "                    LABELS.append(label)\n",
    "                    sequence_number = int(image[:-4])\n",
    "                    basenum = sequence_number % 10\n",
    "                    SEQ.append(sequence_number)\n",
    "                    if basenum < 8:\n",
    "                        SETS.append(\"Training\")\n",
    "                    elif basenum < 9:\n",
    "                        SETS.append(\"Validation\")\n",
    "                    else:\n",
    "                        SETS.append(\"Testing\")\n",
    "            print(\"\\t\\tProcessed {} sequences\".format(date_count))\n",
    "    d = {\n",
    "            \"Category\":CATS,\n",
    "            \"Day\":DAYS,\n",
    "            \"Month\":MONTHS,\n",
    "            \"Label\":LABELS,\n",
    "            \"SequenceNumber\":SEQ,\n",
    "            \"Set\":SETS\n",
    "        }\n",
    "    for i in range(1, NUM_CHANNELS+1):\n",
    "        d[\"Path{}\".format(i)] = globals()[\"PATH{}\".format(i)]\n",
    "    return pd.DataFrame(d)"
   ]
  },
  {
   "cell_type": "code",
   "execution_count": 6,
   "metadata": {},
   "outputs": [
    {
     "name": "stdout",
     "output_type": "stream",
     "text": [
      "Start: 2018-09-24 14:10:43.370666\n",
      "\tProcessing 09_25\n",
      "\t\tProcessed 1 sequences\n",
      "End: 2018-09-24 14:10:43.416471\n",
      "Finished in 00:00:00:00.0456\n"
     ]
    }
   ],
   "source": [
    "# os.remove('./demo.csv')\n",
    "df = timer(make_df_from_images, ROOT)\n",
    "df.to_csv(OUTPUT, index=False)"
   ]
  },
  {
   "cell_type": "code",
   "execution_count": 7,
   "metadata": {},
   "outputs": [
    {
     "name": "stdout",
     "output_type": "stream",
     "text": [
      "   Category  Day  Month Label  SequenceNumber       Set  \\\n",
      "0  no_voice   25      9   yes               0  Training   \n",
      "\n",
      "                                               Path1  \\\n",
      "0  /Users/42robotics/Desktop/cerebro_voice_demo/i...   \n",
      "\n",
      "                                               Path2  \\\n",
      "0  /Users/42robotics/Desktop/cerebro_voice_demo/i...   \n",
      "\n",
      "                                               Path3  \\\n",
      "0  /Users/42robotics/Desktop/cerebro_voice_demo/i...   \n",
      "\n",
      "                                               Path4   ...   Path13 Path14  \\\n",
      "0  /Users/42robotics/Desktop/cerebro_voice_demo/i...   ...      NaN    NaN   \n",
      "\n",
      "  Path15 Path16  Path17  Path18  Path19  Path20  Path21  Path22  \n",
      "0    NaN    NaN     NaN     NaN     NaN     NaN     NaN     NaN  \n",
      "\n",
      "[1 rows x 28 columns]\n"
     ]
    }
   ],
   "source": [
    "print(df.head(5))"
   ]
  },
  {
   "cell_type": "code",
   "execution_count": 8,
   "metadata": {},
   "outputs": [
    {
     "name": "stdout",
     "output_type": "stream",
     "text": [
      "   Category  Day  Month Label  SequenceNumber       Set  \\\n",
      "0  no_voice   25      9   yes               0  Training   \n",
      "\n",
      "                                               Path1  \\\n",
      "0  /Users/42robotics/Desktop/cerebro_voice_demo/i...   \n",
      "\n",
      "                                               Path2  \\\n",
      "0  /Users/42robotics/Desktop/cerebro_voice_demo/i...   \n",
      "\n",
      "                                               Path3  \\\n",
      "0  /Users/42robotics/Desktop/cerebro_voice_demo/i...   \n",
      "\n",
      "                                               Path4   ...   Path13 Path14  \\\n",
      "0  /Users/42robotics/Desktop/cerebro_voice_demo/i...   ...      NaN    NaN   \n",
      "\n",
      "  Path15 Path16  Path17  Path18  Path19  Path20  Path21  Path22  \n",
      "0    NaN    NaN     NaN     NaN     NaN     NaN     NaN     NaN  \n",
      "\n",
      "[1 rows x 28 columns]\n"
     ]
    }
   ],
   "source": [
    "print(df.tail(5))"
   ]
  },
  {
   "cell_type": "code",
   "execution_count": 9,
   "metadata": {},
   "outputs": [
    {
     "name": "stdout",
     "output_type": "stream",
     "text": [
      "        Day  Month  SequenceNumber  Path9  Path10  Path11  Path12  Path13  \\\n",
      "count   1.0    1.0             1.0    0.0     0.0     0.0     0.0     0.0   \n",
      "mean   25.0    9.0             0.0    NaN     NaN     NaN     NaN     NaN   \n",
      "std     NaN    NaN             NaN    NaN     NaN     NaN     NaN     NaN   \n",
      "min    25.0    9.0             0.0    NaN     NaN     NaN     NaN     NaN   \n",
      "25%    25.0    9.0             0.0    NaN     NaN     NaN     NaN     NaN   \n",
      "50%    25.0    9.0             0.0    NaN     NaN     NaN     NaN     NaN   \n",
      "75%    25.0    9.0             0.0    NaN     NaN     NaN     NaN     NaN   \n",
      "max    25.0    9.0             0.0    NaN     NaN     NaN     NaN     NaN   \n",
      "\n",
      "       Path14  Path15  Path16  Path17  Path18  Path19  Path20  Path21  Path22  \n",
      "count     0.0     0.0     0.0     0.0     0.0     0.0     0.0     0.0     0.0  \n",
      "mean      NaN     NaN     NaN     NaN     NaN     NaN     NaN     NaN     NaN  \n",
      "std       NaN     NaN     NaN     NaN     NaN     NaN     NaN     NaN     NaN  \n",
      "min       NaN     NaN     NaN     NaN     NaN     NaN     NaN     NaN     NaN  \n",
      "25%       NaN     NaN     NaN     NaN     NaN     NaN     NaN     NaN     NaN  \n",
      "50%       NaN     NaN     NaN     NaN     NaN     NaN     NaN     NaN     NaN  \n",
      "75%       NaN     NaN     NaN     NaN     NaN     NaN     NaN     NaN     NaN  \n",
      "max       NaN     NaN     NaN     NaN     NaN     NaN     NaN     NaN     NaN  \n"
     ]
    }
   ],
   "source": [
    "print(df.describe())"
   ]
  },
  {
   "cell_type": "code",
   "execution_count": 10,
   "metadata": {},
   "outputs": [
    {
     "data": {
      "text/html": [
       "<div>\n",
       "<style scoped>\n",
       "    .dataframe tbody tr th:only-of-type {\n",
       "        vertical-align: middle;\n",
       "    }\n",
       "\n",
       "    .dataframe tbody tr th {\n",
       "        vertical-align: top;\n",
       "    }\n",
       "\n",
       "    .dataframe thead th {\n",
       "        text-align: right;\n",
       "    }\n",
       "</style>\n",
       "<table border=\"1\" class=\"dataframe\">\n",
       "  <thead>\n",
       "    <tr style=\"text-align: right;\">\n",
       "      <th></th>\n",
       "      <th>Category</th>\n",
       "      <th>Day</th>\n",
       "      <th>Month</th>\n",
       "      <th>Label</th>\n",
       "      <th>SequenceNumber</th>\n",
       "      <th>Set</th>\n",
       "      <th>Path1</th>\n",
       "      <th>Path2</th>\n",
       "      <th>Path3</th>\n",
       "      <th>Path4</th>\n",
       "      <th>...</th>\n",
       "      <th>Path13</th>\n",
       "      <th>Path14</th>\n",
       "      <th>Path15</th>\n",
       "      <th>Path16</th>\n",
       "      <th>Path17</th>\n",
       "      <th>Path18</th>\n",
       "      <th>Path19</th>\n",
       "      <th>Path20</th>\n",
       "      <th>Path21</th>\n",
       "      <th>Path22</th>\n",
       "    </tr>\n",
       "  </thead>\n",
       "  <tbody>\n",
       "    <tr>\n",
       "      <th>0</th>\n",
       "      <td>no_voice</td>\n",
       "      <td>25</td>\n",
       "      <td>9</td>\n",
       "      <td>yes</td>\n",
       "      <td>0</td>\n",
       "      <td>Training</td>\n",
       "      <td>/Users/42robotics/Desktop/cerebro_voice_demo/i...</td>\n",
       "      <td>/Users/42robotics/Desktop/cerebro_voice_demo/i...</td>\n",
       "      <td>/Users/42robotics/Desktop/cerebro_voice_demo/i...</td>\n",
       "      <td>/Users/42robotics/Desktop/cerebro_voice_demo/i...</td>\n",
       "      <td>...</td>\n",
       "      <td>NaN</td>\n",
       "      <td>NaN</td>\n",
       "      <td>NaN</td>\n",
       "      <td>NaN</td>\n",
       "      <td>NaN</td>\n",
       "      <td>NaN</td>\n",
       "      <td>NaN</td>\n",
       "      <td>NaN</td>\n",
       "      <td>NaN</td>\n",
       "      <td>NaN</td>\n",
       "    </tr>\n",
       "  </tbody>\n",
       "</table>\n",
       "<p>1 rows × 28 columns</p>\n",
       "</div>"
      ],
      "text/plain": [
       "   Category  Day  Month Label  SequenceNumber       Set  \\\n",
       "0  no_voice   25      9   yes               0  Training   \n",
       "\n",
       "                                               Path1  \\\n",
       "0  /Users/42robotics/Desktop/cerebro_voice_demo/i...   \n",
       "\n",
       "                                               Path2  \\\n",
       "0  /Users/42robotics/Desktop/cerebro_voice_demo/i...   \n",
       "\n",
       "                                               Path3  \\\n",
       "0  /Users/42robotics/Desktop/cerebro_voice_demo/i...   \n",
       "\n",
       "                                               Path4   ...   Path13 Path14  \\\n",
       "0  /Users/42robotics/Desktop/cerebro_voice_demo/i...   ...      NaN    NaN   \n",
       "\n",
       "  Path15 Path16  Path17  Path18  Path19  Path20  Path21  Path22  \n",
       "0    NaN    NaN     NaN     NaN     NaN     NaN     NaN     NaN  \n",
       "\n",
       "[1 rows x 28 columns]"
      ]
     },
     "execution_count": 10,
     "metadata": {},
     "output_type": "execute_result"
    }
   ],
   "source": [
    "df"
   ]
  },
  {
   "cell_type": "code",
   "execution_count": null,
   "metadata": {},
   "outputs": [],
   "source": []
  },
  {
   "cell_type": "code",
   "execution_count": null,
   "metadata": {},
   "outputs": [],
   "source": []
  },
  {
   "cell_type": "code",
   "execution_count": null,
   "metadata": {
    "collapsed": true
   },
   "outputs": [],
   "source": []
  }
 ],
 "metadata": {
  "kernelspec": {
   "display_name": "Python 3",
   "language": "python",
   "name": "python3"
  },
  "language_info": {
   "codemirror_mode": {
    "name": "ipython",
    "version": 3
   },
   "file_extension": ".py",
   "mimetype": "text/x-python",
   "name": "python",
   "nbconvert_exporter": "python",
   "pygments_lexer": "ipython3",
   "version": "3.6.5"
  }
 },
 "nbformat": 4,
 "nbformat_minor": 2
}
