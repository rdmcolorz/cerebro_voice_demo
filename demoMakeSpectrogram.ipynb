{
 "cells": [
  {
   "cell_type": "code",
   "execution_count": 28,
   "metadata": {},
   "outputs": [],
   "source": [
    "import os, shutil, re\n",
    "import pandas as pd\n",
    "from helpers import *\n",
    "import numpy as np\n",
    "import matplotlib.pyplot as plt\n",
    "from scipy import signal\n",
    "from scipy.io import wavfile\n",
    "import librosa\n",
    "import librosa.display\n",
    "from helpers import *\n",
    "%matplotlib inline"
   ]
  },
  {
   "cell_type": "code",
   "execution_count": 23,
   "metadata": {},
   "outputs": [],
   "source": [
    "# replace this with your root directory\n",
    "ROOT = os.getcwd() + \"/audio/\"\n",
    "IMG_ROOT = os.getcwd() + \"/images_scaled/\"\n",
    "pattern = \"[0-9]{2}_[0-9]{2}\"\n",
    "\n",
    "if not os.path.isdir(IMG_ROOT):\n",
    "    os.mkdir(IMG_ROOT)\n",
    "\n",
    "\"\"\"\n",
    "Expected directory structure:\n",
    "[INSIDE ROOT DIRECTORY]\n",
    "---- [category] voice, no_voice\n",
    "-------- [date] 07_02, 07_09, ...\n",
    "------------ [label] down, go, ...\n",
    "---------------- [channel] ch1, ch2, ...\n",
    "-------------------- [wave files] *.wav\n",
    "\"\"\"\n",
    "\n",
    "VALID_LABELS = [\"yes\", \"no\", \"stop\", \"go\", \"right\", \"left\", \"down\", \"up\", \"on\", \"off\", \"test\"]\n",
    "IMG_EXT = \".png\"\n",
    "VERBOSITY = 1000"
   ]
  },
  {
   "cell_type": "code",
   "execution_count": 16,
   "metadata": {},
   "outputs": [],
   "source": [
    "def preprocess(samples, sample_rate, multiplier=1):\n",
    "    sr = sample_rate * multiplier\n",
    "    padded = np.zeros(sr)\n",
    "    samples = samples[:sr]\n",
    "    padded[:samples.shape[0]] = samples\n",
    "    return padded\n",
    "\n",
    "def make_dir(path):\n",
    "    if not os.path.isdir(path):\n",
    "        os.mkdir(path)"
   ]
  },
  {
   "cell_type": "code",
   "execution_count": 20,
   "metadata": {},
   "outputs": [],
   "source": [
    "def process(input_dir, output_dir, overwrite=False):\n",
    "    items = 0\n",
    "    created = 0\n",
    "    found = 0\n",
    "    date_mult = {\"08_08\":2, \"08_11\":2, \"09_20\":2}\n",
    "    plt.ioff()\n",
    "    for date in [x for x in os.listdir(input_dir) if re.match(pattern, x)]:\n",
    "        multiplier = 1\n",
    "        if date in date_mult:\n",
    "            multiplier = date_mult[date]\n",
    "        date_path = os.path.join(input_dir, date)\n",
    "        o_date_path = os.path.join(output_dir, date)\n",
    "        make_dir(o_date_path)\n",
    "        for label in [d for d in os.listdir(date_path) if d in VALID_LABELS]:\n",
    "            label_path = os.path.join(date_path, label)\n",
    "            o_label_path = os.path.join(o_date_path, label)\n",
    "            make_dir(o_label_path)\n",
    "            print(\"\\tProcessing: {}\".format(label_path))\n",
    "            print(\"\\tTime: {}\".format(curr_time()))\n",
    "            for channel in [d for d in os.listdir(label_path) if d.startswith(\"ch\")]:\n",
    "                voice = False\n",
    "                ch = int(channel[2:])\n",
    "                if ch == 4 or ch >= 9:\n",
    "                    voice = True\n",
    "                channel_path = os.path.join(label_path, channel)\n",
    "                o_channel_path = os.path.join(o_label_path, channel)\n",
    "                make_dir(o_channel_path)\n",
    "                channel_num = channel[-1]\n",
    "                for file in [f for f in os.listdir(channel_path) if f.endswith(\".wav\")]:\n",
    "                    items += 1\n",
    "                    wavpath = os.path.join(channel_path, file)\n",
    "                    imgpath = os.path.join(o_channel_path, file[:-4] + IMG_EXT)\n",
    "                    if overwrite or not os.path.isfile(imgpath):\n",
    "                        created += 1\n",
    "                        if items % VERBOSITY == 0:\n",
    "                            print(\"\\t\\tCreated {}th image\".format(items))\n",
    "                        sample_rate, samples = wavfile.read(wavpath)\n",
    "                        samples = preprocess(samples, sample_rate, multiplier)\n",
    "#                         freqs, times, spectrogram = signal.spectrogram(samples, sample_rate)\n",
    "                        if voice:\n",
    "                            S = librosa.feature.melspectrogram(samples, sr=sample_rate, n_mels=128)\n",
    "                        else:\n",
    "                            S = librosa.feature.melspectrogram(samples, sr=sample_rate, n_mels=128, fmax=512)\n",
    "                        log_S = librosa.power_to_db(S, ref=np.max)\n",
    "                        fig = plt.figure(figsize=(1.28, 1.28), dpi=100, frameon=False)\n",
    "                        ax = plt.Axes(fig, [0., 0., 1., 1.])\n",
    "                        ax.set_axis_off()\n",
    "                        fig.add_axes(ax)\n",
    "                        plt.axis('off')\n",
    "                        librosa.display.specshow(log_S)                          \n",
    "                        plt.savefig(imgpath)\n",
    "                        plt.close()\n",
    "                    else:\n",
    "                        found += 1\n",
    "                        if items % VERBOSITY == 0:\n",
    "                            print(\"\\t\\tFound {}th image\".format(items))\n",
    "    print(\"\\tFound:\\t\\t{}\\n\\tCreated:\\t{}\".format(found, created))\n",
    "    plt.ion()"
   ]
  },
  {
   "cell_type": "code",
   "execution_count": 21,
   "metadata": {},
   "outputs": [],
   "source": [
    "dir_pairs = {\n",
    "    ROOT+\"voice\":IMG_ROOT+\"voice\",\n",
    "    ROOT+\"no_voice\":IMG_ROOT+\"no_voice\"\n",
    "}"
   ]
  },
  {
   "cell_type": "code",
   "execution_count": 24,
   "metadata": {},
   "outputs": [
    {
     "name": "stdout",
     "output_type": "stream",
     "text": [
      "Start: 2018-09-18 14:25:27.674059\n",
      "\tFound:\t\t0\n",
      "\tCreated:\t0\n",
      "End: 2018-09-18 14:25:27.674410\n",
      "Finished in 00:00:00:00.000272\n",
      "Start: 2018-09-18 14:25:27.674544\n",
      "\tProcessing: /Users/42robotics/Desktop/Subvoc/audio/no_voice/09_20/test\n",
      "\tTime: 2018-09-18 14:25:27.675212\n",
      "\tFound:\t\t0\n",
      "\tCreated:\t7\n",
      "End: 2018-09-18 14:25:28.132330\n",
      "Finished in 00:00:00:00.458\n"
     ]
    }
   ],
   "source": [
    "for input_dir in dir_pairs:\n",
    "    output_dir = dir_pairs[input_dir]\n",
    "    if not os.path.isdir(output_dir):\n",
    "        os.mkdir(output_dir)\n",
    "    timer(process, input_dir, output_dir)"
   ]
  },
  {
   "cell_type": "code",
   "execution_count": 25,
   "metadata": {},
   "outputs": [],
   "source": [
    "# replace this with your root directory\n",
    "ROOT = os.getcwd() + \"/images_scaled/\"\n",
    "OUTPUT = os.getcwd() + \"/test.csv\"\n",
    "DATE_PATTERN = \"[0-9]{2}_[0-9]{2}\"\n",
    "VALID_LABELS = [\"yes\", \"no\", \"stop\", \"go\", \"right\", \"left\", \"down\", \"up\", \"on\", \"off\", \"test\"]\n",
    "IMG_EXT = \".png\"\n",
    "VERBOSITY = 100\n",
    "NUM_CHANNELS = 22\n",
    "CATS, MONTHS, DAYS, LABELS, SEQ, SETS = [], [], [], [], [], []\n",
    "for i in range(1, NUM_CHANNELS+1):\n",
    "    globals()[\"PATH{}\".format(i)] = []"
   ]
  },
  {
   "cell_type": "code",
   "execution_count": 26,
   "metadata": {},
   "outputs": [],
   "source": [
    "def make_df_from_images(image_root):\n",
    "    for cat in [d for d in os.listdir(image_root) if \"voice\" in d]:\n",
    "        cat_path = os.path.join(image_root, cat)\n",
    "        for date in [d for d in os.listdir(cat_path) if re.match(DATE_PATTERN, d)]:\n",
    "            print(\"\\tProcessing {}\".format(date))\n",
    "            date_path = os.path.join(cat_path, date)\n",
    "            month = int(date[:2])\n",
    "            day = int(date[3:])\n",
    "            date_count = 0\n",
    "            for label in [d for d in os.listdir(date_path) if d in VALID_LABELS]:\n",
    "                label_path = os.path.join(date_path, label)\n",
    "                placeholder = os.path.join(label_path, \"ch1\")\n",
    "                for image in [f for f in os.listdir(placeholder) if f.endswith(IMG_EXT)]:\n",
    "                    date_count += 1\n",
    "                    for i in range(1, NUM_CHANNELS+1):\n",
    "                        p = os.path.join(label_path, \"ch{}\".format(i), image)\n",
    "                        if os.path.exists(p):\n",
    "                            globals()[\"PATH{}\".format(i)].append(p)\n",
    "                        else:\n",
    "                            globals()[\"PATH{}\".format(i)].append(float('nan'))\n",
    "                    CATS.append(cat)\n",
    "                    DAYS.append(day)\n",
    "                    MONTHS.append(month)\n",
    "                    LABELS.append(label)\n",
    "                    sequence_number = int(image[:-4])\n",
    "                    basenum = sequence_number % 10\n",
    "                    SEQ.append(sequence_number)\n",
    "                    if basenum < 8:\n",
    "                        SETS.append(\"Training\")\n",
    "                    elif basenum < 9:\n",
    "                        SETS.append(\"Validation\")\n",
    "                    else:\n",
    "                        SETS.append(\"Testing\")\n",
    "            print(\"\\t\\tProcessed {} sequences\".format(date_count))\n",
    "    d = {\n",
    "            \"Category\":CATS,\n",
    "            \"Day\":DAYS,\n",
    "            \"Month\":MONTHS,\n",
    "            \"Label\":LABELS,\n",
    "            \"SequenceNumber\":SEQ,\n",
    "            \"Set\":SETS\n",
    "        }\n",
    "    for i in range(1, NUM_CHANNELS+1):\n",
    "        d[\"Path{}\".format(i)] = globals()[\"PATH{}\".format(i)]\n",
    "    return pd.DataFrame(d)"
   ]
  },
  {
   "cell_type": "code",
   "execution_count": 29,
   "metadata": {},
   "outputs": [
    {
     "name": "stdout",
     "output_type": "stream",
     "text": [
      "Start: 2018-09-18 14:27:50.327930\n",
      "\tProcessing 09_20\n",
      "\t\tProcessed 1 sequences\n",
      "End: 2018-09-18 14:27:50.360650\n",
      "Finished in 00:00:00:00.0326\n"
     ]
    }
   ],
   "source": [
    "df = timer(make_df_from_images, ROOT)\n",
    "df.to_csv(OUTPUT, index=False)"
   ]
  },
  {
   "cell_type": "code",
   "execution_count": 30,
   "metadata": {},
   "outputs": [
    {
     "name": "stdout",
     "output_type": "stream",
     "text": [
      "   Category  Day  Month Label  SequenceNumber       Set  \\\n",
      "0  no_voice   20      9  test               0  Training   \n",
      "1  no_voice   20      9  test               0  Training   \n",
      "\n",
      "                                               Path1  \\\n",
      "0  /Users/42robotics/Desktop/Subvoc/images_scaled...   \n",
      "1  /Users/42robotics/Desktop/Subvoc/images_scaled...   \n",
      "\n",
      "                                               Path2  \\\n",
      "0  /Users/42robotics/Desktop/Subvoc/images_scaled...   \n",
      "1  /Users/42robotics/Desktop/Subvoc/images_scaled...   \n",
      "\n",
      "                                               Path3  \\\n",
      "0  /Users/42robotics/Desktop/Subvoc/images_scaled...   \n",
      "1  /Users/42robotics/Desktop/Subvoc/images_scaled...   \n",
      "\n",
      "                                               Path4   ...    Path13 Path14  \\\n",
      "0  /Users/42robotics/Desktop/Subvoc/images_scaled...   ...       NaN    NaN   \n",
      "1  /Users/42robotics/Desktop/Subvoc/images_scaled...   ...       NaN    NaN   \n",
      "\n",
      "  Path15 Path16  Path17  Path18  Path19  Path20  Path21  Path22  \n",
      "0    NaN    NaN     NaN     NaN     NaN     NaN     NaN     NaN  \n",
      "1    NaN    NaN     NaN     NaN     NaN     NaN     NaN     NaN  \n",
      "\n",
      "[2 rows x 28 columns]\n"
     ]
    }
   ],
   "source": [
    "print(df.head(5))"
   ]
  },
  {
   "cell_type": "code",
   "execution_count": 31,
   "metadata": {},
   "outputs": [
    {
     "name": "stdout",
     "output_type": "stream",
     "text": [
      "        Day  Month  SequenceNumber  Path5  Path9  Path10  Path11  Path12  \\\n",
      "count   2.0    2.0             2.0    0.0    0.0     0.0     0.0     0.0   \n",
      "mean   20.0    9.0             0.0    NaN    NaN     NaN     NaN     NaN   \n",
      "std     0.0    0.0             0.0    NaN    NaN     NaN     NaN     NaN   \n",
      "min    20.0    9.0             0.0    NaN    NaN     NaN     NaN     NaN   \n",
      "25%    20.0    9.0             0.0    NaN    NaN     NaN     NaN     NaN   \n",
      "50%    20.0    9.0             0.0    NaN    NaN     NaN     NaN     NaN   \n",
      "75%    20.0    9.0             0.0    NaN    NaN     NaN     NaN     NaN   \n",
      "max    20.0    9.0             0.0    NaN    NaN     NaN     NaN     NaN   \n",
      "\n",
      "       Path13  Path14  Path15  Path16  Path17  Path18  Path19  Path20  Path21  \\\n",
      "count     0.0     0.0     0.0     0.0     0.0     0.0     0.0     0.0     0.0   \n",
      "mean      NaN     NaN     NaN     NaN     NaN     NaN     NaN     NaN     NaN   \n",
      "std       NaN     NaN     NaN     NaN     NaN     NaN     NaN     NaN     NaN   \n",
      "min       NaN     NaN     NaN     NaN     NaN     NaN     NaN     NaN     NaN   \n",
      "25%       NaN     NaN     NaN     NaN     NaN     NaN     NaN     NaN     NaN   \n",
      "50%       NaN     NaN     NaN     NaN     NaN     NaN     NaN     NaN     NaN   \n",
      "75%       NaN     NaN     NaN     NaN     NaN     NaN     NaN     NaN     NaN   \n",
      "max       NaN     NaN     NaN     NaN     NaN     NaN     NaN     NaN     NaN   \n",
      "\n",
      "       Path22  \n",
      "count     0.0  \n",
      "mean      NaN  \n",
      "std       NaN  \n",
      "min       NaN  \n",
      "25%       NaN  \n",
      "50%       NaN  \n",
      "75%       NaN  \n",
      "max       NaN  \n"
     ]
    }
   ],
   "source": [
    "print(df.describe())"
   ]
  },
  {
   "cell_type": "code",
   "execution_count": null,
   "metadata": {},
   "outputs": [],
   "source": []
  }
 ],
 "metadata": {
  "kernelspec": {
   "display_name": "Python 3",
   "language": "python",
   "name": "python3"
  },
  "language_info": {
   "codemirror_mode": {
    "name": "ipython",
    "version": 3
   },
   "file_extension": ".py",
   "mimetype": "text/x-python",
   "name": "python",
   "nbconvert_exporter": "python",
   "pygments_lexer": "ipython3",
   "version": "3.6.5"
  }
 },
 "nbformat": 4,
 "nbformat_minor": 2
}
